{
 "cells": [
  {
   "cell_type": "markdown",
   "id": "4a3c9728-160f-458f-9bb4-b068c628490e",
   "metadata": {},
   "source": [
    "# 머신러닝의 7단계\n",
    "1. 문제정의\n",
    "2. 데이터 수집\n",
    "3. 데이터 전처리\n",
    "4. 탐색전 테이터 분석\n",
    "5. 모델 선택, 하이퍼 피라미터 조정\n",
    "6. 학습\n",
    "7. 평가"
   ]
  },
  {
   "cell_type": "markdown",
   "id": "88faee3e-b58e-458e-88e6-fba723fef45d",
   "metadata": {},
   "source": [
    "# 1. 문제정의\n",
    "- 인공지능을 통해서 어떤 문제를 해결할것인가를 정하는 단계\n",
    "- 현재 해결 방법과 얼마나 차이가 나는가?(인공지능을 쓰는게 얼마나 도움?)\n",
    "- 지도 vs 비지도 vs 강화\n",
    "- 분류 vs 회귀\n",
    "- 인공지능으로 해결하려 하는 문제를 정확하게 정의하기"
   ]
  },
  {
   "cell_type": "markdown",
   "id": "9d506669-d533-45af-940a-8b2e5d679aa7",
   "metadata": {},
   "source": [
    "# 2. 데이터 수집\n",
    "- 1 단계를 해결하기 위한 데이터 수집하기\n",
    "- 크롤링, DB, Survey, IoT 센서, 만들어져 있는 데이터 찾기(가장효율↑)...\n",
    "- 가능하다면 최대한 다양하고 많은 데이터 수집하기"
   ]
  },
  {
   "cell_type": "markdown",
   "id": "13e3bb41-8a47-4db6-84c8-4928c07e9515",
   "metadata": {},
   "source": [
    "# 3. 데이터 전처리\n",
    "- 수집된 데이터는 복잡하거나, 완벽하지 않은 경우가 대부분\n",
    "- 결측치(비어있는 데이터), 이상치(정상 범위를 벗어난 데이터) 처리\n",
    "- 처리할 데이터에 따라서 해야할 과정이 달라진다"
   ]
  },
  {
   "cell_type": "markdown",
   "id": "6184e415-4005-496c-a1e8-8300e6557cee",
   "metadata": {},
   "source": [
    "# 4. 탐색적 데이터 분석\n",
    "- 데이터를 자세하게 분석해보자 > 1. 데이터를 정확하게 알자. 2.어떤 인공지능을 쓸지 정하는 기준\n",
    "- 통계적으로 분석하기\n",
    "- 그래프로 시각화하기"
   ]
  },
  {
   "cell_type": "markdown",
   "id": "02609cec-1680-43e8-8ff6-224ad2a6f940",
   "metadata": {},
   "source": [
    "# 5. 인공지능 모델 선택, 모델 세부 조정\n",
    "- 목적에 맞는 모델 선택\n",
    "- 모델의 성능을 개선하기 위해 모델 세부 조정\n",
    "- 모델 세부 조정 = 하이퍼 파라미터 튜닝"
   ]
  },
  {
   "cell_type": "markdown",
   "id": "f9f19008-507d-4343-a080-351dd78e6fd8",
   "metadata": {},
   "source": [
    "# 6. 학습\n",
    "- 데이터 준비 완료 / 모델 선택 및 조정 완료된 상황\n",
    "- 인공지능 모델에 준비된 데이터(문제데이터, 정답데이터)를 학습\n",
    "-  >문제 데이터가 정답데이터를 도출하기 위한 규칙 생성, 모델마다 기본 알고리즘이 다름\n",
    "-  >모델마다 생선한 규칙이 다르다, 규칙이 틀릴수도 있다\n",
    "- 학습을 위한 데이터 분리\n",
    "-  > 문제데이터(X)와 정답데이터(y)로 분리\n",
    "-  > 학습용 데이터(train)와 평가용 데이터(test)로 분리 > 제대로 된 모델 성능 평가를 위해\n",
    "-   > X_train, X_test, y_train, y_test\n",
    "- 학습에 사용한 데이터로 모델의 평가를 하면 모델의 평가가 제대로 이뤄지지 않음\n",
    "- 이미 확인한 데이터여서 모델이 문제를 더 잘맞춤\n",
    "- 제대로 된 성능 평가를 위해서는 한번도 보지 않은 데이터가 필요(test 데이터)\n",
    "- test 데이터로 평가하면 모델의 성능의 평가가 더 정확하다"
   ]
  },
  {
   "cell_type": "markdown",
   "id": "cedf4aad-2d0f-4729-897e-3b9437af5040",
   "metadata": {},
   "source": [
    "# 7. 평가 및 예측\n",
    "- 평가 : 모델이 규칙을 얼만아 잘 설계했는지 수치적으로 판단하기\n",
    "- 예측 : 설계된 규칙으로 새로운 데이터에서 결과 추론해보기"
   ]
  },
  {
   "cell_type": "code",
   "execution_count": null,
   "id": "78320e0c-d336-49ad-b915-d6142378ebab",
   "metadata": {},
   "outputs": [],
   "source": []
  },
  {
   "cell_type": "code",
   "execution_count": null,
   "id": "3c409a2e-e3ca-4558-9318-26af95787a62",
   "metadata": {},
   "outputs": [],
   "source": []
  },
  {
   "cell_type": "code",
   "execution_count": null,
   "id": "ccaef124-db10-4ec1-9905-c41f658f8d3a",
   "metadata": {},
   "outputs": [],
   "source": []
  },
  {
   "cell_type": "code",
   "execution_count": null,
   "id": "b73a9132-1493-42da-a384-9660d1857cad",
   "metadata": {},
   "outputs": [],
   "source": []
  },
  {
   "cell_type": "code",
   "execution_count": null,
   "id": "dd4e89e6-cda7-4115-9180-d16606c95cd0",
   "metadata": {},
   "outputs": [],
   "source": []
  },
  {
   "cell_type": "code",
   "execution_count": null,
   "id": "c8f3524f-152b-45c1-9a5d-b0fa06b2fdb9",
   "metadata": {},
   "outputs": [],
   "source": []
  },
  {
   "cell_type": "code",
   "execution_count": null,
   "id": "a94773e4-bd88-4c81-9ffd-45679a64c4aa",
   "metadata": {},
   "outputs": [],
   "source": []
  },
  {
   "cell_type": "code",
   "execution_count": null,
   "id": "8ae3e644-d1fc-4465-8c88-65d41d91b989",
   "metadata": {},
   "outputs": [],
   "source": []
  },
  {
   "cell_type": "code",
   "execution_count": null,
   "id": "e896a378-bd8a-4a82-be82-83dee87e5219",
   "metadata": {},
   "outputs": [],
   "source": []
  },
  {
   "cell_type": "code",
   "execution_count": null,
   "id": "9c9fafc7-2d09-4367-b755-c627c67a9c88",
   "metadata": {},
   "outputs": [],
   "source": []
  },
  {
   "cell_type": "code",
   "execution_count": null,
   "id": "a2c57dd8-4460-4244-bd54-202b8ab023aa",
   "metadata": {},
   "outputs": [],
   "source": []
  },
  {
   "cell_type": "code",
   "execution_count": null,
   "id": "aeb2a6b5-3719-4f5f-ac6d-c0bb6b64b8aa",
   "metadata": {},
   "outputs": [],
   "source": []
  },
  {
   "cell_type": "code",
   "execution_count": null,
   "id": "4924434f-82cf-4354-aa33-28d62e11145b",
   "metadata": {},
   "outputs": [],
   "source": []
  },
  {
   "cell_type": "code",
   "execution_count": null,
   "id": "afa25e5f-a708-4f01-89a0-d37420f7b298",
   "metadata": {},
   "outputs": [],
   "source": []
  },
  {
   "cell_type": "code",
   "execution_count": null,
   "id": "4e31b859-b77a-4977-9503-b251db18d285",
   "metadata": {},
   "outputs": [],
   "source": []
  },
  {
   "cell_type": "code",
   "execution_count": null,
   "id": "9a771fde-1f09-4b65-b736-2f384b5bf47a",
   "metadata": {},
   "outputs": [],
   "source": []
  },
  {
   "cell_type": "code",
   "execution_count": null,
   "id": "3a1ce87f-09ba-4c1b-963c-29a27854c9f7",
   "metadata": {},
   "outputs": [],
   "source": []
  },
  {
   "cell_type": "code",
   "execution_count": null,
   "id": "d20584bf-cf52-4103-b852-637673128562",
   "metadata": {},
   "outputs": [],
   "source": []
  },
  {
   "cell_type": "code",
   "execution_count": null,
   "id": "908d0b9b-f3d7-495c-a680-2e1292a787ea",
   "metadata": {},
   "outputs": [],
   "source": []
  },
  {
   "cell_type": "code",
   "execution_count": null,
   "id": "bfa2ad86-2ffd-4615-a987-10cd7fb34310",
   "metadata": {},
   "outputs": [],
   "source": []
  },
  {
   "cell_type": "code",
   "execution_count": null,
   "id": "7fc533ef-d4b7-434a-ae17-329b4cbda2d0",
   "metadata": {},
   "outputs": [],
   "source": []
  },
  {
   "cell_type": "code",
   "execution_count": null,
   "id": "50f67f7f-1c02-4a7a-959f-ebdd63f865f3",
   "metadata": {},
   "outputs": [],
   "source": []
  },
  {
   "cell_type": "code",
   "execution_count": null,
   "id": "6f87f2ba-d2ef-4496-9ab4-e836b59ff331",
   "metadata": {},
   "outputs": [],
   "source": []
  },
  {
   "cell_type": "code",
   "execution_count": null,
   "id": "f6343ce9-d94b-4b81-a350-692277f7180a",
   "metadata": {},
   "outputs": [],
   "source": []
  },
  {
   "cell_type": "code",
   "execution_count": null,
   "id": "8f301f4c-92bd-458e-be4b-440b57c0ea03",
   "metadata": {},
   "outputs": [],
   "source": []
  },
  {
   "cell_type": "code",
   "execution_count": null,
   "id": "37bf7c23-cf83-440e-88c8-d085c5f29a23",
   "metadata": {},
   "outputs": [],
   "source": []
  }
 ],
 "metadata": {
  "kernelspec": {
   "display_name": "Python 3 (ipykernel)",
   "language": "python",
   "name": "python3"
  },
  "language_info": {
   "codemirror_mode": {
    "name": "ipython",
    "version": 3
   },
   "file_extension": ".py",
   "mimetype": "text/x-python",
   "name": "python",
   "nbconvert_exporter": "python",
   "pygments_lexer": "ipython3",
   "version": "3.12.4"
  }
 },
 "nbformat": 4,
 "nbformat_minor": 5
}

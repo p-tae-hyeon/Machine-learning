{
 "cells": [
  {
   "cell_type": "markdown",
   "id": "0934818c-9bff-4fc8-8319-752cb9a29b09",
   "metadata": {},
   "source": [
    "## 1. 문제정의(목표설정)\n",
    "- 타이타닉 데이터를 활용하여 생존자와 사망자를 예측하는 머신러닝 모델을 만들어보자\n",
    "- 데이터 전처리를 포함한 머신러닝 전체 과정을 진행해보"
   ]
  },
  {
   "cell_type": "code",
   "execution_count": 2,
   "id": "d787445b-98ef-4941-9aa2-f706c2f369c7",
   "metadata": {},
   "outputs": [],
   "source": [
    "import numpy as np\n",
    "import pandas as pd\n",
    "import matplotlib.pyplot as plt"
   ]
  },
  {
   "cell_type": "markdown",
   "id": "343b8585-c755-4daf-8770-11f5416e3f2e",
   "metadata": {},
   "source": [
    "## 2. 데이터수집\n",
    "- csv 파일 로드"
   ]
  },
  {
   "cell_type": "code",
   "execution_count": 4,
   "id": "3ffc66bf-d437-4e1b-825e-3f593ad061a9",
   "metadata": {},
   "outputs": [],
   "source": [
    "train = pd.read_csv('data/train.csv', index_col='PassengerId')\n",
    "test = pd.read_csv('data/test.csv', index_col='PassengerId')"
   ]
  },
  {
   "cell_type": "code",
   "execution_count": 5,
   "id": "ed4d824b-62ed-4191-b4d3-43b466afc1b0",
   "metadata": {},
   "outputs": [
    {
     "data": {
      "text/html": [
       "<div>\n",
       "<style scoped>\n",
       "    .dataframe tbody tr th:only-of-type {\n",
       "        vertical-align: middle;\n",
       "    }\n",
       "\n",
       "    .dataframe tbody tr th {\n",
       "        vertical-align: top;\n",
       "    }\n",
       "\n",
       "    .dataframe thead th {\n",
       "        text-align: right;\n",
       "    }\n",
       "</style>\n",
       "<table border=\"1\" class=\"dataframe\">\n",
       "  <thead>\n",
       "    <tr style=\"text-align: right;\">\n",
       "      <th></th>\n",
       "      <th>Survived</th>\n",
       "      <th>Pclass</th>\n",
       "      <th>Name</th>\n",
       "      <th>Sex</th>\n",
       "      <th>Age</th>\n",
       "      <th>SibSp</th>\n",
       "      <th>Parch</th>\n",
       "      <th>Ticket</th>\n",
       "      <th>Fare</th>\n",
       "      <th>Cabin</th>\n",
       "      <th>Embarked</th>\n",
       "    </tr>\n",
       "    <tr>\n",
       "      <th>PassengerId</th>\n",
       "      <th></th>\n",
       "      <th></th>\n",
       "      <th></th>\n",
       "      <th></th>\n",
       "      <th></th>\n",
       "      <th></th>\n",
       "      <th></th>\n",
       "      <th></th>\n",
       "      <th></th>\n",
       "      <th></th>\n",
       "      <th></th>\n",
       "    </tr>\n",
       "  </thead>\n",
       "  <tbody>\n",
       "    <tr>\n",
       "      <th>1</th>\n",
       "      <td>0</td>\n",
       "      <td>3</td>\n",
       "      <td>Braund, Mr. Owen Harris</td>\n",
       "      <td>male</td>\n",
       "      <td>22.0</td>\n",
       "      <td>1</td>\n",
       "      <td>0</td>\n",
       "      <td>A/5 21171</td>\n",
       "      <td>7.2500</td>\n",
       "      <td>NaN</td>\n",
       "      <td>S</td>\n",
       "    </tr>\n",
       "    <tr>\n",
       "      <th>2</th>\n",
       "      <td>1</td>\n",
       "      <td>1</td>\n",
       "      <td>Cumings, Mrs. John Bradley (Florence Briggs Th...</td>\n",
       "      <td>female</td>\n",
       "      <td>38.0</td>\n",
       "      <td>1</td>\n",
       "      <td>0</td>\n",
       "      <td>PC 17599</td>\n",
       "      <td>71.2833</td>\n",
       "      <td>C85</td>\n",
       "      <td>C</td>\n",
       "    </tr>\n",
       "    <tr>\n",
       "      <th>3</th>\n",
       "      <td>1</td>\n",
       "      <td>3</td>\n",
       "      <td>Heikkinen, Miss. Laina</td>\n",
       "      <td>female</td>\n",
       "      <td>26.0</td>\n",
       "      <td>0</td>\n",
       "      <td>0</td>\n",
       "      <td>STON/O2. 3101282</td>\n",
       "      <td>7.9250</td>\n",
       "      <td>NaN</td>\n",
       "      <td>S</td>\n",
       "    </tr>\n",
       "    <tr>\n",
       "      <th>4</th>\n",
       "      <td>1</td>\n",
       "      <td>1</td>\n",
       "      <td>Futrelle, Mrs. Jacques Heath (Lily May Peel)</td>\n",
       "      <td>female</td>\n",
       "      <td>35.0</td>\n",
       "      <td>1</td>\n",
       "      <td>0</td>\n",
       "      <td>113803</td>\n",
       "      <td>53.1000</td>\n",
       "      <td>C123</td>\n",
       "      <td>S</td>\n",
       "    </tr>\n",
       "    <tr>\n",
       "      <th>5</th>\n",
       "      <td>0</td>\n",
       "      <td>3</td>\n",
       "      <td>Allen, Mr. William Henry</td>\n",
       "      <td>male</td>\n",
       "      <td>35.0</td>\n",
       "      <td>0</td>\n",
       "      <td>0</td>\n",
       "      <td>373450</td>\n",
       "      <td>8.0500</td>\n",
       "      <td>NaN</td>\n",
       "      <td>S</td>\n",
       "    </tr>\n",
       "    <tr>\n",
       "      <th>...</th>\n",
       "      <td>...</td>\n",
       "      <td>...</td>\n",
       "      <td>...</td>\n",
       "      <td>...</td>\n",
       "      <td>...</td>\n",
       "      <td>...</td>\n",
       "      <td>...</td>\n",
       "      <td>...</td>\n",
       "      <td>...</td>\n",
       "      <td>...</td>\n",
       "      <td>...</td>\n",
       "    </tr>\n",
       "    <tr>\n",
       "      <th>887</th>\n",
       "      <td>0</td>\n",
       "      <td>2</td>\n",
       "      <td>Montvila, Rev. Juozas</td>\n",
       "      <td>male</td>\n",
       "      <td>27.0</td>\n",
       "      <td>0</td>\n",
       "      <td>0</td>\n",
       "      <td>211536</td>\n",
       "      <td>13.0000</td>\n",
       "      <td>NaN</td>\n",
       "      <td>S</td>\n",
       "    </tr>\n",
       "    <tr>\n",
       "      <th>888</th>\n",
       "      <td>1</td>\n",
       "      <td>1</td>\n",
       "      <td>Graham, Miss. Margaret Edith</td>\n",
       "      <td>female</td>\n",
       "      <td>19.0</td>\n",
       "      <td>0</td>\n",
       "      <td>0</td>\n",
       "      <td>112053</td>\n",
       "      <td>30.0000</td>\n",
       "      <td>B42</td>\n",
       "      <td>S</td>\n",
       "    </tr>\n",
       "    <tr>\n",
       "      <th>889</th>\n",
       "      <td>0</td>\n",
       "      <td>3</td>\n",
       "      <td>Johnston, Miss. Catherine Helen \"Carrie\"</td>\n",
       "      <td>female</td>\n",
       "      <td>NaN</td>\n",
       "      <td>1</td>\n",
       "      <td>2</td>\n",
       "      <td>W./C. 6607</td>\n",
       "      <td>23.4500</td>\n",
       "      <td>NaN</td>\n",
       "      <td>S</td>\n",
       "    </tr>\n",
       "    <tr>\n",
       "      <th>890</th>\n",
       "      <td>1</td>\n",
       "      <td>1</td>\n",
       "      <td>Behr, Mr. Karl Howell</td>\n",
       "      <td>male</td>\n",
       "      <td>26.0</td>\n",
       "      <td>0</td>\n",
       "      <td>0</td>\n",
       "      <td>111369</td>\n",
       "      <td>30.0000</td>\n",
       "      <td>C148</td>\n",
       "      <td>C</td>\n",
       "    </tr>\n",
       "    <tr>\n",
       "      <th>891</th>\n",
       "      <td>0</td>\n",
       "      <td>3</td>\n",
       "      <td>Dooley, Mr. Patrick</td>\n",
       "      <td>male</td>\n",
       "      <td>32.0</td>\n",
       "      <td>0</td>\n",
       "      <td>0</td>\n",
       "      <td>370376</td>\n",
       "      <td>7.7500</td>\n",
       "      <td>NaN</td>\n",
       "      <td>Q</td>\n",
       "    </tr>\n",
       "  </tbody>\n",
       "</table>\n",
       "<p>891 rows × 11 columns</p>\n",
       "</div>"
      ],
      "text/plain": [
       "             Survived  Pclass  \\\n",
       "PassengerId                     \n",
       "1                   0       3   \n",
       "2                   1       1   \n",
       "3                   1       3   \n",
       "4                   1       1   \n",
       "5                   0       3   \n",
       "...               ...     ...   \n",
       "887                 0       2   \n",
       "888                 1       1   \n",
       "889                 0       3   \n",
       "890                 1       1   \n",
       "891                 0       3   \n",
       "\n",
       "                                                          Name     Sex   Age  \\\n",
       "PassengerId                                                                    \n",
       "1                                      Braund, Mr. Owen Harris    male  22.0   \n",
       "2            Cumings, Mrs. John Bradley (Florence Briggs Th...  female  38.0   \n",
       "3                                       Heikkinen, Miss. Laina  female  26.0   \n",
       "4                 Futrelle, Mrs. Jacques Heath (Lily May Peel)  female  35.0   \n",
       "5                                     Allen, Mr. William Henry    male  35.0   \n",
       "...                                                        ...     ...   ...   \n",
       "887                                      Montvila, Rev. Juozas    male  27.0   \n",
       "888                               Graham, Miss. Margaret Edith  female  19.0   \n",
       "889                   Johnston, Miss. Catherine Helen \"Carrie\"  female   NaN   \n",
       "890                                      Behr, Mr. Karl Howell    male  26.0   \n",
       "891                                        Dooley, Mr. Patrick    male  32.0   \n",
       "\n",
       "             SibSp  Parch            Ticket     Fare Cabin Embarked  \n",
       "PassengerId                                                          \n",
       "1                1      0         A/5 21171   7.2500   NaN        S  \n",
       "2                1      0          PC 17599  71.2833   C85        C  \n",
       "3                0      0  STON/O2. 3101282   7.9250   NaN        S  \n",
       "4                1      0            113803  53.1000  C123        S  \n",
       "5                0      0            373450   8.0500   NaN        S  \n",
       "...            ...    ...               ...      ...   ...      ...  \n",
       "887              0      0            211536  13.0000   NaN        S  \n",
       "888              0      0            112053  30.0000   B42        S  \n",
       "889              1      2        W./C. 6607  23.4500   NaN        S  \n",
       "890              0      0            111369  30.0000  C148        C  \n",
       "891              0      0            370376   7.7500   NaN        Q  \n",
       "\n",
       "[891 rows x 11 columns]"
      ]
     },
     "execution_count": 5,
     "metadata": {},
     "output_type": "execute_result"
    }
   ],
   "source": [
    "train"
   ]
  },
  {
   "cell_type": "code",
   "execution_count": 6,
   "id": "df4be5c0-fc52-43dc-b8bc-54d3b81b0e5b",
   "metadata": {},
   "outputs": [
    {
     "data": {
      "text/html": [
       "<div>\n",
       "<style scoped>\n",
       "    .dataframe tbody tr th:only-of-type {\n",
       "        vertical-align: middle;\n",
       "    }\n",
       "\n",
       "    .dataframe tbody tr th {\n",
       "        vertical-align: top;\n",
       "    }\n",
       "\n",
       "    .dataframe thead th {\n",
       "        text-align: right;\n",
       "    }\n",
       "</style>\n",
       "<table border=\"1\" class=\"dataframe\">\n",
       "  <thead>\n",
       "    <tr style=\"text-align: right;\">\n",
       "      <th></th>\n",
       "      <th>Pclass</th>\n",
       "      <th>Name</th>\n",
       "      <th>Sex</th>\n",
       "      <th>Age</th>\n",
       "      <th>SibSp</th>\n",
       "      <th>Parch</th>\n",
       "      <th>Ticket</th>\n",
       "      <th>Fare</th>\n",
       "      <th>Cabin</th>\n",
       "      <th>Embarked</th>\n",
       "    </tr>\n",
       "    <tr>\n",
       "      <th>PassengerId</th>\n",
       "      <th></th>\n",
       "      <th></th>\n",
       "      <th></th>\n",
       "      <th></th>\n",
       "      <th></th>\n",
       "      <th></th>\n",
       "      <th></th>\n",
       "      <th></th>\n",
       "      <th></th>\n",
       "      <th></th>\n",
       "    </tr>\n",
       "  </thead>\n",
       "  <tbody>\n",
       "    <tr>\n",
       "      <th>892</th>\n",
       "      <td>3</td>\n",
       "      <td>Kelly, Mr. James</td>\n",
       "      <td>male</td>\n",
       "      <td>34.5</td>\n",
       "      <td>0</td>\n",
       "      <td>0</td>\n",
       "      <td>330911</td>\n",
       "      <td>7.8292</td>\n",
       "      <td>NaN</td>\n",
       "      <td>Q</td>\n",
       "    </tr>\n",
       "    <tr>\n",
       "      <th>893</th>\n",
       "      <td>3</td>\n",
       "      <td>Wilkes, Mrs. James (Ellen Needs)</td>\n",
       "      <td>female</td>\n",
       "      <td>47.0</td>\n",
       "      <td>1</td>\n",
       "      <td>0</td>\n",
       "      <td>363272</td>\n",
       "      <td>7.0000</td>\n",
       "      <td>NaN</td>\n",
       "      <td>S</td>\n",
       "    </tr>\n",
       "    <tr>\n",
       "      <th>894</th>\n",
       "      <td>2</td>\n",
       "      <td>Myles, Mr. Thomas Francis</td>\n",
       "      <td>male</td>\n",
       "      <td>62.0</td>\n",
       "      <td>0</td>\n",
       "      <td>0</td>\n",
       "      <td>240276</td>\n",
       "      <td>9.6875</td>\n",
       "      <td>NaN</td>\n",
       "      <td>Q</td>\n",
       "    </tr>\n",
       "    <tr>\n",
       "      <th>895</th>\n",
       "      <td>3</td>\n",
       "      <td>Wirz, Mr. Albert</td>\n",
       "      <td>male</td>\n",
       "      <td>27.0</td>\n",
       "      <td>0</td>\n",
       "      <td>0</td>\n",
       "      <td>315154</td>\n",
       "      <td>8.6625</td>\n",
       "      <td>NaN</td>\n",
       "      <td>S</td>\n",
       "    </tr>\n",
       "    <tr>\n",
       "      <th>896</th>\n",
       "      <td>3</td>\n",
       "      <td>Hirvonen, Mrs. Alexander (Helga E Lindqvist)</td>\n",
       "      <td>female</td>\n",
       "      <td>22.0</td>\n",
       "      <td>1</td>\n",
       "      <td>1</td>\n",
       "      <td>3101298</td>\n",
       "      <td>12.2875</td>\n",
       "      <td>NaN</td>\n",
       "      <td>S</td>\n",
       "    </tr>\n",
       "    <tr>\n",
       "      <th>...</th>\n",
       "      <td>...</td>\n",
       "      <td>...</td>\n",
       "      <td>...</td>\n",
       "      <td>...</td>\n",
       "      <td>...</td>\n",
       "      <td>...</td>\n",
       "      <td>...</td>\n",
       "      <td>...</td>\n",
       "      <td>...</td>\n",
       "      <td>...</td>\n",
       "    </tr>\n",
       "    <tr>\n",
       "      <th>1305</th>\n",
       "      <td>3</td>\n",
       "      <td>Spector, Mr. Woolf</td>\n",
       "      <td>male</td>\n",
       "      <td>NaN</td>\n",
       "      <td>0</td>\n",
       "      <td>0</td>\n",
       "      <td>A.5. 3236</td>\n",
       "      <td>8.0500</td>\n",
       "      <td>NaN</td>\n",
       "      <td>S</td>\n",
       "    </tr>\n",
       "    <tr>\n",
       "      <th>1306</th>\n",
       "      <td>1</td>\n",
       "      <td>Oliva y Ocana, Dona. Fermina</td>\n",
       "      <td>female</td>\n",
       "      <td>39.0</td>\n",
       "      <td>0</td>\n",
       "      <td>0</td>\n",
       "      <td>PC 17758</td>\n",
       "      <td>108.9000</td>\n",
       "      <td>C105</td>\n",
       "      <td>C</td>\n",
       "    </tr>\n",
       "    <tr>\n",
       "      <th>1307</th>\n",
       "      <td>3</td>\n",
       "      <td>Saether, Mr. Simon Sivertsen</td>\n",
       "      <td>male</td>\n",
       "      <td>38.5</td>\n",
       "      <td>0</td>\n",
       "      <td>0</td>\n",
       "      <td>SOTON/O.Q. 3101262</td>\n",
       "      <td>7.2500</td>\n",
       "      <td>NaN</td>\n",
       "      <td>S</td>\n",
       "    </tr>\n",
       "    <tr>\n",
       "      <th>1308</th>\n",
       "      <td>3</td>\n",
       "      <td>Ware, Mr. Frederick</td>\n",
       "      <td>male</td>\n",
       "      <td>NaN</td>\n",
       "      <td>0</td>\n",
       "      <td>0</td>\n",
       "      <td>359309</td>\n",
       "      <td>8.0500</td>\n",
       "      <td>NaN</td>\n",
       "      <td>S</td>\n",
       "    </tr>\n",
       "    <tr>\n",
       "      <th>1309</th>\n",
       "      <td>3</td>\n",
       "      <td>Peter, Master. Michael J</td>\n",
       "      <td>male</td>\n",
       "      <td>NaN</td>\n",
       "      <td>1</td>\n",
       "      <td>1</td>\n",
       "      <td>2668</td>\n",
       "      <td>22.3583</td>\n",
       "      <td>NaN</td>\n",
       "      <td>C</td>\n",
       "    </tr>\n",
       "  </tbody>\n",
       "</table>\n",
       "<p>418 rows × 10 columns</p>\n",
       "</div>"
      ],
      "text/plain": [
       "             Pclass                                          Name     Sex  \\\n",
       "PassengerId                                                                 \n",
       "892               3                              Kelly, Mr. James    male   \n",
       "893               3              Wilkes, Mrs. James (Ellen Needs)  female   \n",
       "894               2                     Myles, Mr. Thomas Francis    male   \n",
       "895               3                              Wirz, Mr. Albert    male   \n",
       "896               3  Hirvonen, Mrs. Alexander (Helga E Lindqvist)  female   \n",
       "...             ...                                           ...     ...   \n",
       "1305              3                            Spector, Mr. Woolf    male   \n",
       "1306              1                  Oliva y Ocana, Dona. Fermina  female   \n",
       "1307              3                  Saether, Mr. Simon Sivertsen    male   \n",
       "1308              3                           Ware, Mr. Frederick    male   \n",
       "1309              3                      Peter, Master. Michael J    male   \n",
       "\n",
       "              Age  SibSp  Parch              Ticket      Fare Cabin Embarked  \n",
       "PassengerId                                                                   \n",
       "892          34.5      0      0              330911    7.8292   NaN        Q  \n",
       "893          47.0      1      0              363272    7.0000   NaN        S  \n",
       "894          62.0      0      0              240276    9.6875   NaN        Q  \n",
       "895          27.0      0      0              315154    8.6625   NaN        S  \n",
       "896          22.0      1      1             3101298   12.2875   NaN        S  \n",
       "...           ...    ...    ...                 ...       ...   ...      ...  \n",
       "1305          NaN      0      0           A.5. 3236    8.0500   NaN        S  \n",
       "1306         39.0      0      0            PC 17758  108.9000  C105        C  \n",
       "1307         38.5      0      0  SOTON/O.Q. 3101262    7.2500   NaN        S  \n",
       "1308          NaN      0      0              359309    8.0500   NaN        S  \n",
       "1309          NaN      1      1                2668   22.3583   NaN        C  \n",
       "\n",
       "[418 rows x 10 columns]"
      ]
     },
     "execution_count": 6,
     "metadata": {},
     "output_type": "execute_result"
    }
   ],
   "source": [
    "test"
   ]
  },
  {
   "cell_type": "code",
   "execution_count": 7,
   "id": "95133362-e645-40d2-aa0d-9b4a272f171a",
   "metadata": {},
   "outputs": [
    {
     "data": {
      "text/plain": [
       "((891, 11), (418, 10))"
      ]
     },
     "execution_count": 7,
     "metadata": {},
     "output_type": "execute_result"
    }
   ],
   "source": [
    "train.shape, test.shape"
   ]
  },
  {
   "cell_type": "code",
   "execution_count": 8,
   "id": "a5f94c5b-7db3-4b23-8a52-2b0c0e1b67d5",
   "metadata": {},
   "outputs": [
    {
     "name": "stdout",
     "output_type": "stream",
     "text": [
      "<class 'pandas.core.frame.DataFrame'>\n",
      "Index: 891 entries, 1 to 891\n",
      "Data columns (total 11 columns):\n",
      " #   Column    Non-Null Count  Dtype  \n",
      "---  ------    --------------  -----  \n",
      " 0   Survived  891 non-null    int64  \n",
      " 1   Pclass    891 non-null    int64  \n",
      " 2   Name      891 non-null    object \n",
      " 3   Sex       891 non-null    object \n",
      " 4   Age       714 non-null    float64\n",
      " 5   SibSp     891 non-null    int64  \n",
      " 6   Parch     891 non-null    int64  \n",
      " 7   Ticket    891 non-null    object \n",
      " 8   Fare      891 non-null    float64\n",
      " 9   Cabin     204 non-null    object \n",
      " 10  Embarked  889 non-null    object \n",
      "dtypes: float64(2), int64(4), object(5)\n",
      "memory usage: 83.5+ KB\n"
     ]
    }
   ],
   "source": [
    "train.info()"
   ]
  },
  {
   "cell_type": "code",
   "execution_count": 9,
   "id": "4b436ac1-18fd-4850-950a-fac3b547f315",
   "metadata": {},
   "outputs": [
    {
     "name": "stdout",
     "output_type": "stream",
     "text": [
      "<class 'pandas.core.frame.DataFrame'>\n",
      "Index: 418 entries, 892 to 1309\n",
      "Data columns (total 10 columns):\n",
      " #   Column    Non-Null Count  Dtype  \n",
      "---  ------    --------------  -----  \n",
      " 0   Pclass    418 non-null    int64  \n",
      " 1   Name      418 non-null    object \n",
      " 2   Sex       418 non-null    object \n",
      " 3   Age       332 non-null    float64\n",
      " 4   SibSp     418 non-null    int64  \n",
      " 5   Parch     418 non-null    int64  \n",
      " 6   Ticket    418 non-null    object \n",
      " 7   Fare      417 non-null    float64\n",
      " 8   Cabin     91 non-null     object \n",
      " 9   Embarked  418 non-null    object \n",
      "dtypes: float64(2), int64(3), object(5)\n",
      "memory usage: 35.9+ KB\n"
     ]
    }
   ],
   "source": [
    "test.info()"
   ]
  },
  {
   "cell_type": "markdown",
   "id": "203312e7-fbcf-4aa6-a178-e00baa37474c",
   "metadata": {},
   "source": [
    "### 결측치가 있는 컬럼\n",
    "- train - Age, Cabin, Embarked\n",
    "- test - Age, Fare, Cabin"
   ]
  },
  {
   "cell_type": "code",
   "execution_count": 11,
   "id": "607ff4ca-24c6-4d66-9edb-57745ce781cb",
   "metadata": {},
   "outputs": [
    {
     "data": {
      "text/plain": [
       "count    714.000000\n",
       "mean      29.699118\n",
       "std       14.526497\n",
       "min        0.420000\n",
       "25%       20.125000\n",
       "50%       28.000000\n",
       "75%       38.000000\n",
       "max       80.000000\n",
       "Name: Age, dtype: float64"
      ]
     },
     "execution_count": 11,
     "metadata": {},
     "output_type": "execute_result"
    }
   ],
   "source": [
    "train['Age'].describe()"
   ]
  },
  {
   "cell_type": "code",
   "execution_count": 12,
   "id": "905e0d0d-dcf5-4675-9fe2-814acbc7cdb5",
   "metadata": {},
   "outputs": [
    {
     "data": {
      "text/plain": [
       "count         204\n",
       "unique        147\n",
       "top       B96 B98\n",
       "freq            4\n",
       "Name: Cabin, dtype: object"
      ]
     },
     "execution_count": 12,
     "metadata": {},
     "output_type": "execute_result"
    }
   ],
   "source": [
    "train['Cabin'].describe()"
   ]
  },
  {
   "cell_type": "code",
   "execution_count": 13,
   "id": "d88a34ee-9ffd-4da0-af92-3192300f9b57",
   "metadata": {},
   "outputs": [
    {
     "data": {
      "text/html": [
       "<div>\n",
       "<style scoped>\n",
       "    .dataframe tbody tr th:only-of-type {\n",
       "        vertical-align: middle;\n",
       "    }\n",
       "\n",
       "    .dataframe tbody tr th {\n",
       "        vertical-align: top;\n",
       "    }\n",
       "\n",
       "    .dataframe thead th {\n",
       "        text-align: right;\n",
       "    }\n",
       "</style>\n",
       "<table border=\"1\" class=\"dataframe\">\n",
       "  <thead>\n",
       "    <tr style=\"text-align: right;\">\n",
       "      <th></th>\n",
       "      <th>Survived</th>\n",
       "      <th>Pclass</th>\n",
       "      <th>Name</th>\n",
       "      <th>Sex</th>\n",
       "      <th>Age</th>\n",
       "      <th>SibSp</th>\n",
       "      <th>Parch</th>\n",
       "      <th>Ticket</th>\n",
       "      <th>Fare</th>\n",
       "      <th>Cabin</th>\n",
       "      <th>Embarked</th>\n",
       "    </tr>\n",
       "    <tr>\n",
       "      <th>PassengerId</th>\n",
       "      <th></th>\n",
       "      <th></th>\n",
       "      <th></th>\n",
       "      <th></th>\n",
       "      <th></th>\n",
       "      <th></th>\n",
       "      <th></th>\n",
       "      <th></th>\n",
       "      <th></th>\n",
       "      <th></th>\n",
       "      <th></th>\n",
       "    </tr>\n",
       "  </thead>\n",
       "  <tbody>\n",
       "    <tr>\n",
       "      <th>391</th>\n",
       "      <td>1</td>\n",
       "      <td>1</td>\n",
       "      <td>Carter, Mr. William Ernest</td>\n",
       "      <td>male</td>\n",
       "      <td>36.0</td>\n",
       "      <td>1</td>\n",
       "      <td>2</td>\n",
       "      <td>113760</td>\n",
       "      <td>120.0</td>\n",
       "      <td>B96 B98</td>\n",
       "      <td>S</td>\n",
       "    </tr>\n",
       "    <tr>\n",
       "      <th>436</th>\n",
       "      <td>1</td>\n",
       "      <td>1</td>\n",
       "      <td>Carter, Miss. Lucile Polk</td>\n",
       "      <td>female</td>\n",
       "      <td>14.0</td>\n",
       "      <td>1</td>\n",
       "      <td>2</td>\n",
       "      <td>113760</td>\n",
       "      <td>120.0</td>\n",
       "      <td>B96 B98</td>\n",
       "      <td>S</td>\n",
       "    </tr>\n",
       "    <tr>\n",
       "      <th>764</th>\n",
       "      <td>1</td>\n",
       "      <td>1</td>\n",
       "      <td>Carter, Mrs. William Ernest (Lucile Polk)</td>\n",
       "      <td>female</td>\n",
       "      <td>36.0</td>\n",
       "      <td>1</td>\n",
       "      <td>2</td>\n",
       "      <td>113760</td>\n",
       "      <td>120.0</td>\n",
       "      <td>B96 B98</td>\n",
       "      <td>S</td>\n",
       "    </tr>\n",
       "    <tr>\n",
       "      <th>803</th>\n",
       "      <td>1</td>\n",
       "      <td>1</td>\n",
       "      <td>Carter, Master. William Thornton II</td>\n",
       "      <td>male</td>\n",
       "      <td>11.0</td>\n",
       "      <td>1</td>\n",
       "      <td>2</td>\n",
       "      <td>113760</td>\n",
       "      <td>120.0</td>\n",
       "      <td>B96 B98</td>\n",
       "      <td>S</td>\n",
       "    </tr>\n",
       "  </tbody>\n",
       "</table>\n",
       "</div>"
      ],
      "text/plain": [
       "             Survived  Pclass                                       Name  \\\n",
       "PassengerId                                                                \n",
       "391                 1       1                 Carter, Mr. William Ernest   \n",
       "436                 1       1                  Carter, Miss. Lucile Polk   \n",
       "764                 1       1  Carter, Mrs. William Ernest (Lucile Polk)   \n",
       "803                 1       1        Carter, Master. William Thornton II   \n",
       "\n",
       "                Sex   Age  SibSp  Parch  Ticket   Fare    Cabin Embarked  \n",
       "PassengerId                                                               \n",
       "391            male  36.0      1      2  113760  120.0  B96 B98        S  \n",
       "436          female  14.0      1      2  113760  120.0  B96 B98        S  \n",
       "764          female  36.0      1      2  113760  120.0  B96 B98        S  \n",
       "803            male  11.0      1      2  113760  120.0  B96 B98        S  "
      ]
     },
     "execution_count": 13,
     "metadata": {},
     "output_type": "execute_result"
    }
   ],
   "source": [
    "train[train['Cabin']=='B96 B98']"
   ]
  },
  {
   "cell_type": "code",
   "execution_count": 14,
   "id": "0009fcf0-26df-4374-875a-44aa18b64d48",
   "metadata": {},
   "outputs": [
    {
     "data": {
      "text/plain": [
       "count     889\n",
       "unique      3\n",
       "top         S\n",
       "freq      644\n",
       "Name: Embarked, dtype: object"
      ]
     },
     "execution_count": 14,
     "metadata": {},
     "output_type": "execute_result"
    }
   ],
   "source": [
    "train['Embarked'].describe()"
   ]
  },
  {
   "cell_type": "code",
   "execution_count": 15,
   "id": "40300694-3413-42b7-94c6-11d06fa92ed5",
   "metadata": {
    "scrolled": true
   },
   "outputs": [
    {
     "data": {
      "text/html": [
       "<div>\n",
       "<style scoped>\n",
       "    .dataframe tbody tr th:only-of-type {\n",
       "        vertical-align: middle;\n",
       "    }\n",
       "\n",
       "    .dataframe tbody tr th {\n",
       "        vertical-align: top;\n",
       "    }\n",
       "\n",
       "    .dataframe thead th {\n",
       "        text-align: right;\n",
       "    }\n",
       "</style>\n",
       "<table border=\"1\" class=\"dataframe\">\n",
       "  <thead>\n",
       "    <tr style=\"text-align: right;\">\n",
       "      <th></th>\n",
       "      <th>Survived</th>\n",
       "      <th>Pclass</th>\n",
       "      <th>Name</th>\n",
       "      <th>Sex</th>\n",
       "      <th>Age</th>\n",
       "      <th>SibSp</th>\n",
       "      <th>Parch</th>\n",
       "      <th>Ticket</th>\n",
       "      <th>Fare</th>\n",
       "      <th>Cabin</th>\n",
       "      <th>Embarked</th>\n",
       "    </tr>\n",
       "    <tr>\n",
       "      <th>PassengerId</th>\n",
       "      <th></th>\n",
       "      <th></th>\n",
       "      <th></th>\n",
       "      <th></th>\n",
       "      <th></th>\n",
       "      <th></th>\n",
       "      <th></th>\n",
       "      <th></th>\n",
       "      <th></th>\n",
       "      <th></th>\n",
       "      <th></th>\n",
       "    </tr>\n",
       "  </thead>\n",
       "  <tbody>\n",
       "    <tr>\n",
       "      <th>1</th>\n",
       "      <td>0</td>\n",
       "      <td>3</td>\n",
       "      <td>Braund, Mr. Owen Harris</td>\n",
       "      <td>male</td>\n",
       "      <td>22.0</td>\n",
       "      <td>1</td>\n",
       "      <td>0</td>\n",
       "      <td>A/5 21171</td>\n",
       "      <td>7.2500</td>\n",
       "      <td>NaN</td>\n",
       "      <td>S</td>\n",
       "    </tr>\n",
       "    <tr>\n",
       "      <th>3</th>\n",
       "      <td>1</td>\n",
       "      <td>3</td>\n",
       "      <td>Heikkinen, Miss. Laina</td>\n",
       "      <td>female</td>\n",
       "      <td>26.0</td>\n",
       "      <td>0</td>\n",
       "      <td>0</td>\n",
       "      <td>STON/O2. 3101282</td>\n",
       "      <td>7.9250</td>\n",
       "      <td>NaN</td>\n",
       "      <td>S</td>\n",
       "    </tr>\n",
       "    <tr>\n",
       "      <th>4</th>\n",
       "      <td>1</td>\n",
       "      <td>1</td>\n",
       "      <td>Futrelle, Mrs. Jacques Heath (Lily May Peel)</td>\n",
       "      <td>female</td>\n",
       "      <td>35.0</td>\n",
       "      <td>1</td>\n",
       "      <td>0</td>\n",
       "      <td>113803</td>\n",
       "      <td>53.1000</td>\n",
       "      <td>C123</td>\n",
       "      <td>S</td>\n",
       "    </tr>\n",
       "    <tr>\n",
       "      <th>5</th>\n",
       "      <td>0</td>\n",
       "      <td>3</td>\n",
       "      <td>Allen, Mr. William Henry</td>\n",
       "      <td>male</td>\n",
       "      <td>35.0</td>\n",
       "      <td>0</td>\n",
       "      <td>0</td>\n",
       "      <td>373450</td>\n",
       "      <td>8.0500</td>\n",
       "      <td>NaN</td>\n",
       "      <td>S</td>\n",
       "    </tr>\n",
       "    <tr>\n",
       "      <th>7</th>\n",
       "      <td>0</td>\n",
       "      <td>1</td>\n",
       "      <td>McCarthy, Mr. Timothy J</td>\n",
       "      <td>male</td>\n",
       "      <td>54.0</td>\n",
       "      <td>0</td>\n",
       "      <td>0</td>\n",
       "      <td>17463</td>\n",
       "      <td>51.8625</td>\n",
       "      <td>E46</td>\n",
       "      <td>S</td>\n",
       "    </tr>\n",
       "    <tr>\n",
       "      <th>...</th>\n",
       "      <td>...</td>\n",
       "      <td>...</td>\n",
       "      <td>...</td>\n",
       "      <td>...</td>\n",
       "      <td>...</td>\n",
       "      <td>...</td>\n",
       "      <td>...</td>\n",
       "      <td>...</td>\n",
       "      <td>...</td>\n",
       "      <td>...</td>\n",
       "      <td>...</td>\n",
       "    </tr>\n",
       "    <tr>\n",
       "      <th>884</th>\n",
       "      <td>0</td>\n",
       "      <td>2</td>\n",
       "      <td>Banfield, Mr. Frederick James</td>\n",
       "      <td>male</td>\n",
       "      <td>28.0</td>\n",
       "      <td>0</td>\n",
       "      <td>0</td>\n",
       "      <td>C.A./SOTON 34068</td>\n",
       "      <td>10.5000</td>\n",
       "      <td>NaN</td>\n",
       "      <td>S</td>\n",
       "    </tr>\n",
       "    <tr>\n",
       "      <th>885</th>\n",
       "      <td>0</td>\n",
       "      <td>3</td>\n",
       "      <td>Sutehall, Mr. Henry Jr</td>\n",
       "      <td>male</td>\n",
       "      <td>25.0</td>\n",
       "      <td>0</td>\n",
       "      <td>0</td>\n",
       "      <td>SOTON/OQ 392076</td>\n",
       "      <td>7.0500</td>\n",
       "      <td>NaN</td>\n",
       "      <td>S</td>\n",
       "    </tr>\n",
       "    <tr>\n",
       "      <th>887</th>\n",
       "      <td>0</td>\n",
       "      <td>2</td>\n",
       "      <td>Montvila, Rev. Juozas</td>\n",
       "      <td>male</td>\n",
       "      <td>27.0</td>\n",
       "      <td>0</td>\n",
       "      <td>0</td>\n",
       "      <td>211536</td>\n",
       "      <td>13.0000</td>\n",
       "      <td>NaN</td>\n",
       "      <td>S</td>\n",
       "    </tr>\n",
       "    <tr>\n",
       "      <th>888</th>\n",
       "      <td>1</td>\n",
       "      <td>1</td>\n",
       "      <td>Graham, Miss. Margaret Edith</td>\n",
       "      <td>female</td>\n",
       "      <td>19.0</td>\n",
       "      <td>0</td>\n",
       "      <td>0</td>\n",
       "      <td>112053</td>\n",
       "      <td>30.0000</td>\n",
       "      <td>B42</td>\n",
       "      <td>S</td>\n",
       "    </tr>\n",
       "    <tr>\n",
       "      <th>889</th>\n",
       "      <td>0</td>\n",
       "      <td>3</td>\n",
       "      <td>Johnston, Miss. Catherine Helen \"Carrie\"</td>\n",
       "      <td>female</td>\n",
       "      <td>NaN</td>\n",
       "      <td>1</td>\n",
       "      <td>2</td>\n",
       "      <td>W./C. 6607</td>\n",
       "      <td>23.4500</td>\n",
       "      <td>NaN</td>\n",
       "      <td>S</td>\n",
       "    </tr>\n",
       "  </tbody>\n",
       "</table>\n",
       "<p>644 rows × 11 columns</p>\n",
       "</div>"
      ],
      "text/plain": [
       "             Survived  Pclass                                          Name  \\\n",
       "PassengerId                                                                   \n",
       "1                   0       3                       Braund, Mr. Owen Harris   \n",
       "3                   1       3                        Heikkinen, Miss. Laina   \n",
       "4                   1       1  Futrelle, Mrs. Jacques Heath (Lily May Peel)   \n",
       "5                   0       3                      Allen, Mr. William Henry   \n",
       "7                   0       1                       McCarthy, Mr. Timothy J   \n",
       "...               ...     ...                                           ...   \n",
       "884                 0       2                 Banfield, Mr. Frederick James   \n",
       "885                 0       3                        Sutehall, Mr. Henry Jr   \n",
       "887                 0       2                         Montvila, Rev. Juozas   \n",
       "888                 1       1                  Graham, Miss. Margaret Edith   \n",
       "889                 0       3      Johnston, Miss. Catherine Helen \"Carrie\"   \n",
       "\n",
       "                Sex   Age  SibSp  Parch            Ticket     Fare Cabin  \\\n",
       "PassengerId                                                                \n",
       "1              male  22.0      1      0         A/5 21171   7.2500   NaN   \n",
       "3            female  26.0      0      0  STON/O2. 3101282   7.9250   NaN   \n",
       "4            female  35.0      1      0            113803  53.1000  C123   \n",
       "5              male  35.0      0      0            373450   8.0500   NaN   \n",
       "7              male  54.0      0      0             17463  51.8625   E46   \n",
       "...             ...   ...    ...    ...               ...      ...   ...   \n",
       "884            male  28.0      0      0  C.A./SOTON 34068  10.5000   NaN   \n",
       "885            male  25.0      0      0   SOTON/OQ 392076   7.0500   NaN   \n",
       "887            male  27.0      0      0            211536  13.0000   NaN   \n",
       "888          female  19.0      0      0            112053  30.0000   B42   \n",
       "889          female   NaN      1      2        W./C. 6607  23.4500   NaN   \n",
       "\n",
       "            Embarked  \n",
       "PassengerId           \n",
       "1                  S  \n",
       "3                  S  \n",
       "4                  S  \n",
       "5                  S  \n",
       "7                  S  \n",
       "...              ...  \n",
       "884                S  \n",
       "885                S  \n",
       "887                S  \n",
       "888                S  \n",
       "889                S  \n",
       "\n",
       "[644 rows x 11 columns]"
      ]
     },
     "execution_count": 15,
     "metadata": {},
     "output_type": "execute_result"
    }
   ],
   "source": [
    "train[train['Embarked']=='S']"
   ]
  },
  {
   "cell_type": "code",
   "execution_count": 16,
   "id": "1166e88c-809e-4a6a-8e37-7315c3803fd8",
   "metadata": {},
   "outputs": [
    {
     "data": {
      "text/plain": [
       "count    332.000000\n",
       "mean      30.272590\n",
       "std       14.181209\n",
       "min        0.170000\n",
       "25%       21.000000\n",
       "50%       27.000000\n",
       "75%       39.000000\n",
       "max       76.000000\n",
       "Name: Age, dtype: float64"
      ]
     },
     "execution_count": 16,
     "metadata": {},
     "output_type": "execute_result"
    }
   ],
   "source": [
    "test['Age'].describe()"
   ]
  },
  {
   "cell_type": "code",
   "execution_count": 17,
   "id": "6e8867c8-5861-4381-9779-2088be41fb56",
   "metadata": {},
   "outputs": [
    {
     "data": {
      "text/plain": [
       "count                  91\n",
       "unique                 76\n",
       "top       B57 B59 B63 B66\n",
       "freq                    3\n",
       "Name: Cabin, dtype: object"
      ]
     },
     "execution_count": 17,
     "metadata": {},
     "output_type": "execute_result"
    }
   ],
   "source": [
    "test['Cabin'].describe()"
   ]
  },
  {
   "cell_type": "code",
   "execution_count": 18,
   "id": "7e27b9a0-66ab-4818-aa5a-729cb61a6137",
   "metadata": {},
   "outputs": [
    {
     "data": {
      "text/plain": [
       "count    417.000000\n",
       "mean      35.627188\n",
       "std       55.907576\n",
       "min        0.000000\n",
       "25%        7.895800\n",
       "50%       14.454200\n",
       "75%       31.500000\n",
       "max      512.329200\n",
       "Name: Fare, dtype: float64"
      ]
     },
     "execution_count": 18,
     "metadata": {},
     "output_type": "execute_result"
    }
   ],
   "source": [
    "test['Fare'].describe()"
   ]
  },
  {
   "cell_type": "markdown",
   "id": "3293907c-4a09-4cd6-a818-85024b176612",
   "metadata": {},
   "source": [
    "## 3. 데이터 전처리\n",
    "- 나이 컬럼은 전체 평균으로 넣기에는 범위가 너무 넓고, 데이터의 분포도 한쪽으로 치우져져있어서 대푯값으로 생각하기에는 신뢰성이 떨어질 수 있음\n",
    "- Age 컬럼과 상관관계가 높은 다른 컬럼들의 데이터들을 이용해 결측치를 좀 더 세분화된 값으로 채워주자"
   ]
  },
  {
   "cell_type": "code",
   "execution_count": 20,
   "id": "84f61d27-b4ea-432a-a129-e9c17230c394",
   "metadata": {},
   "outputs": [
    {
     "data": {
      "text/html": [
       "<div>\n",
       "<style scoped>\n",
       "    .dataframe tbody tr th:only-of-type {\n",
       "        vertical-align: middle;\n",
       "    }\n",
       "\n",
       "    .dataframe tbody tr th {\n",
       "        vertical-align: top;\n",
       "    }\n",
       "\n",
       "    .dataframe thead th {\n",
       "        text-align: right;\n",
       "    }\n",
       "</style>\n",
       "<table border=\"1\" class=\"dataframe\">\n",
       "  <thead>\n",
       "    <tr style=\"text-align: right;\">\n",
       "      <th></th>\n",
       "      <th>Survived</th>\n",
       "      <th>Pclass</th>\n",
       "      <th>Age</th>\n",
       "      <th>SibSp</th>\n",
       "      <th>Parch</th>\n",
       "      <th>Fare</th>\n",
       "    </tr>\n",
       "  </thead>\n",
       "  <tbody>\n",
       "    <tr>\n",
       "      <th>Survived</th>\n",
       "      <td>1.000000</td>\n",
       "      <td>-0.338481</td>\n",
       "      <td>-0.077221</td>\n",
       "      <td>-0.035322</td>\n",
       "      <td>0.081629</td>\n",
       "      <td>0.257307</td>\n",
       "    </tr>\n",
       "    <tr>\n",
       "      <th>Pclass</th>\n",
       "      <td>-0.338481</td>\n",
       "      <td>1.000000</td>\n",
       "      <td>-0.369226</td>\n",
       "      <td>0.083081</td>\n",
       "      <td>0.018443</td>\n",
       "      <td>-0.549500</td>\n",
       "    </tr>\n",
       "    <tr>\n",
       "      <th>Age</th>\n",
       "      <td>-0.077221</td>\n",
       "      <td>-0.369226</td>\n",
       "      <td>1.000000</td>\n",
       "      <td>-0.308247</td>\n",
       "      <td>-0.189119</td>\n",
       "      <td>0.096067</td>\n",
       "    </tr>\n",
       "    <tr>\n",
       "      <th>SibSp</th>\n",
       "      <td>-0.035322</td>\n",
       "      <td>0.083081</td>\n",
       "      <td>-0.308247</td>\n",
       "      <td>1.000000</td>\n",
       "      <td>0.414838</td>\n",
       "      <td>0.159651</td>\n",
       "    </tr>\n",
       "    <tr>\n",
       "      <th>Parch</th>\n",
       "      <td>0.081629</td>\n",
       "      <td>0.018443</td>\n",
       "      <td>-0.189119</td>\n",
       "      <td>0.414838</td>\n",
       "      <td>1.000000</td>\n",
       "      <td>0.216225</td>\n",
       "    </tr>\n",
       "    <tr>\n",
       "      <th>Fare</th>\n",
       "      <td>0.257307</td>\n",
       "      <td>-0.549500</td>\n",
       "      <td>0.096067</td>\n",
       "      <td>0.159651</td>\n",
       "      <td>0.216225</td>\n",
       "      <td>1.000000</td>\n",
       "    </tr>\n",
       "  </tbody>\n",
       "</table>\n",
       "</div>"
      ],
      "text/plain": [
       "          Survived    Pclass       Age     SibSp     Parch      Fare\n",
       "Survived  1.000000 -0.338481 -0.077221 -0.035322  0.081629  0.257307\n",
       "Pclass   -0.338481  1.000000 -0.369226  0.083081  0.018443 -0.549500\n",
       "Age      -0.077221 -0.369226  1.000000 -0.308247 -0.189119  0.096067\n",
       "SibSp    -0.035322  0.083081 -0.308247  1.000000  0.414838  0.159651\n",
       "Parch     0.081629  0.018443 -0.189119  0.414838  1.000000  0.216225\n",
       "Fare      0.257307 -0.549500  0.096067  0.159651  0.216225  1.000000"
      ]
     },
     "execution_count": 20,
     "metadata": {},
     "output_type": "execute_result"
    }
   ],
   "source": [
    "train.corr(numeric_only=True)\n",
    "\n",
    "# 피어슨 상관계수 : 특성들간 상관관계를 수치로 파악할 수 있음(-1(반비례)~1(정비례) 사이 범위)\n",
    "# 절대값이 클수록 관계의 영향도가 높아짐(일반적으로 0.7이상이면 강한 상관관계,0.3이하면 약한 상관관계, 0이면 관계 없음)\n",
    "#numeric_only=True : 수치 데이터만 고료(피어슨 상관계수 공식 자체가 수치 계산으로 이루어지기 때문)"
   ]
  },
  {
   "cell_type": "markdown",
   "id": "0305e26f-3a98-4556-a0eb-78f37b2beef0",
   "metadata": {},
   "source": [
    "#### Age 컬럼과 상관관계가 높은 Pclass 컬럼을 활용해보자\n",
    "- 생존에 관련이 많았던 성별 컬럼도 함께 사용해보자"
   ]
  },
  {
   "cell_type": "code",
   "execution_count": 22,
   "id": "4cd11001-bf49-480a-8cb8-17ebb12fc7b5",
   "metadata": {},
   "outputs": [
    {
     "data": {
      "text/html": [
       "<div>\n",
       "<style scoped>\n",
       "    .dataframe tbody tr th:only-of-type {\n",
       "        vertical-align: middle;\n",
       "    }\n",
       "\n",
       "    .dataframe tbody tr th {\n",
       "        vertical-align: top;\n",
       "    }\n",
       "\n",
       "    .dataframe thead th {\n",
       "        text-align: right;\n",
       "    }\n",
       "</style>\n",
       "<table border=\"1\" class=\"dataframe\">\n",
       "  <thead>\n",
       "    <tr style=\"text-align: right;\">\n",
       "      <th></th>\n",
       "      <th></th>\n",
       "      <th>Age</th>\n",
       "    </tr>\n",
       "    <tr>\n",
       "      <th>Pclass</th>\n",
       "      <th>Sex</th>\n",
       "      <th></th>\n",
       "    </tr>\n",
       "  </thead>\n",
       "  <tbody>\n",
       "    <tr>\n",
       "      <th rowspan=\"2\" valign=\"top\">1</th>\n",
       "      <th>female</th>\n",
       "      <td>34.611765</td>\n",
       "    </tr>\n",
       "    <tr>\n",
       "      <th>male</th>\n",
       "      <td>41.281386</td>\n",
       "    </tr>\n",
       "    <tr>\n",
       "      <th rowspan=\"2\" valign=\"top\">2</th>\n",
       "      <th>female</th>\n",
       "      <td>28.722973</td>\n",
       "    </tr>\n",
       "    <tr>\n",
       "      <th>male</th>\n",
       "      <td>30.740707</td>\n",
       "    </tr>\n",
       "    <tr>\n",
       "      <th rowspan=\"2\" valign=\"top\">3</th>\n",
       "      <th>female</th>\n",
       "      <td>21.750000</td>\n",
       "    </tr>\n",
       "    <tr>\n",
       "      <th>male</th>\n",
       "      <td>26.507589</td>\n",
       "    </tr>\n",
       "  </tbody>\n",
       "</table>\n",
       "</div>"
      ],
      "text/plain": [
       "                     Age\n",
       "Pclass Sex              \n",
       "1      female  34.611765\n",
       "       male    41.281386\n",
       "2      female  28.722973\n",
       "       male    30.740707\n",
       "3      female  21.750000\n",
       "       male    26.507589"
      ]
     },
     "execution_count": 22,
     "metadata": {},
     "output_type": "execute_result"
    }
   ],
   "source": [
    "# 피벗 테이블 만들기 \n",
    "# 피벗 테이블 : 컬럼들의 집계된 정보를 출력할 수 있는 테이블 형태의 표\n",
    "pt1 = train.pivot_table(values='Age', # 데이터로 사용될 컬럼 지정\n",
    "                       index=['Pclass','Sex'],  # 멀티 인덱스 설정 \n",
    "                       aggfunc='mean')   # 데이터 집계시 사용될  함수 mean평균 sum 합 count 개수\n",
    "pt1"
   ]
  },
  {
   "cell_type": "code",
   "execution_count": 23,
   "id": "e4bd59f7-1955-488f-acf9-da6ece33e3fc",
   "metadata": {},
   "outputs": [
    {
     "data": {
      "text/plain": [
       "Age    34.611765\n",
       "Name: (1, female), dtype: float64"
      ]
     },
     "execution_count": 23,
     "metadata": {},
     "output_type": "execute_result"
    }
   ],
   "source": [
    "#멀티 인덱싱\n",
    "pt1.loc[1,'female']"
   ]
  },
  {
   "cell_type": "code",
   "execution_count": 24,
   "id": "948e3a39-dbeb-4ced-905e-fa9ca4a3f97b",
   "metadata": {},
   "outputs": [
    {
     "data": {
      "text/plain": [
       "PassengerId\n",
       "1      False\n",
       "2      False\n",
       "3      False\n",
       "4      False\n",
       "5      False\n",
       "       ...  \n",
       "887    False\n",
       "888    False\n",
       "889     True\n",
       "890    False\n",
       "891    False\n",
       "Name: Age, Length: 891, dtype: bool"
      ]
     },
     "execution_count": 24,
     "metadata": {},
     "output_type": "execute_result"
    }
   ],
   "source": [
    "# Age 컬럼의 비어있는 값(결측치) 확인\n",
    "\n",
    "pd.isna(train['Age'])\n",
    "# train['Age'].isnull()\n",
    "#np.isnan(train['Age'])"
   ]
  },
  {
   "cell_type": "code",
   "execution_count": 25,
   "id": "57fa7cf0-b3cf-4f3b-8125-84042ffb32bc",
   "metadata": {},
   "outputs": [
    {
     "data": {
      "text/html": [
       "<div>\n",
       "<style scoped>\n",
       "    .dataframe tbody tr th:only-of-type {\n",
       "        vertical-align: middle;\n",
       "    }\n",
       "\n",
       "    .dataframe tbody tr th {\n",
       "        vertical-align: top;\n",
       "    }\n",
       "\n",
       "    .dataframe thead th {\n",
       "        text-align: right;\n",
       "    }\n",
       "</style>\n",
       "<table border=\"1\" class=\"dataframe\">\n",
       "  <thead>\n",
       "    <tr style=\"text-align: right;\">\n",
       "      <th></th>\n",
       "      <th>Survived</th>\n",
       "      <th>Pclass</th>\n",
       "      <th>Name</th>\n",
       "      <th>Sex</th>\n",
       "      <th>Age</th>\n",
       "      <th>SibSp</th>\n",
       "      <th>Parch</th>\n",
       "      <th>Ticket</th>\n",
       "      <th>Fare</th>\n",
       "      <th>Cabin</th>\n",
       "      <th>Embarked</th>\n",
       "    </tr>\n",
       "    <tr>\n",
       "      <th>PassengerId</th>\n",
       "      <th></th>\n",
       "      <th></th>\n",
       "      <th></th>\n",
       "      <th></th>\n",
       "      <th></th>\n",
       "      <th></th>\n",
       "      <th></th>\n",
       "      <th></th>\n",
       "      <th></th>\n",
       "      <th></th>\n",
       "      <th></th>\n",
       "    </tr>\n",
       "  </thead>\n",
       "  <tbody>\n",
       "    <tr>\n",
       "      <th>6</th>\n",
       "      <td>0</td>\n",
       "      <td>3</td>\n",
       "      <td>Moran, Mr. James</td>\n",
       "      <td>male</td>\n",
       "      <td>NaN</td>\n",
       "      <td>0</td>\n",
       "      <td>0</td>\n",
       "      <td>330877</td>\n",
       "      <td>8.4583</td>\n",
       "      <td>NaN</td>\n",
       "      <td>Q</td>\n",
       "    </tr>\n",
       "    <tr>\n",
       "      <th>18</th>\n",
       "      <td>1</td>\n",
       "      <td>2</td>\n",
       "      <td>Williams, Mr. Charles Eugene</td>\n",
       "      <td>male</td>\n",
       "      <td>NaN</td>\n",
       "      <td>0</td>\n",
       "      <td>0</td>\n",
       "      <td>244373</td>\n",
       "      <td>13.0000</td>\n",
       "      <td>NaN</td>\n",
       "      <td>S</td>\n",
       "    </tr>\n",
       "    <tr>\n",
       "      <th>20</th>\n",
       "      <td>1</td>\n",
       "      <td>3</td>\n",
       "      <td>Masselmani, Mrs. Fatima</td>\n",
       "      <td>female</td>\n",
       "      <td>NaN</td>\n",
       "      <td>0</td>\n",
       "      <td>0</td>\n",
       "      <td>2649</td>\n",
       "      <td>7.2250</td>\n",
       "      <td>NaN</td>\n",
       "      <td>C</td>\n",
       "    </tr>\n",
       "    <tr>\n",
       "      <th>27</th>\n",
       "      <td>0</td>\n",
       "      <td>3</td>\n",
       "      <td>Emir, Mr. Farred Chehab</td>\n",
       "      <td>male</td>\n",
       "      <td>NaN</td>\n",
       "      <td>0</td>\n",
       "      <td>0</td>\n",
       "      <td>2631</td>\n",
       "      <td>7.2250</td>\n",
       "      <td>NaN</td>\n",
       "      <td>C</td>\n",
       "    </tr>\n",
       "    <tr>\n",
       "      <th>29</th>\n",
       "      <td>1</td>\n",
       "      <td>3</td>\n",
       "      <td>O'Dwyer, Miss. Ellen \"Nellie\"</td>\n",
       "      <td>female</td>\n",
       "      <td>NaN</td>\n",
       "      <td>0</td>\n",
       "      <td>0</td>\n",
       "      <td>330959</td>\n",
       "      <td>7.8792</td>\n",
       "      <td>NaN</td>\n",
       "      <td>Q</td>\n",
       "    </tr>\n",
       "    <tr>\n",
       "      <th>...</th>\n",
       "      <td>...</td>\n",
       "      <td>...</td>\n",
       "      <td>...</td>\n",
       "      <td>...</td>\n",
       "      <td>...</td>\n",
       "      <td>...</td>\n",
       "      <td>...</td>\n",
       "      <td>...</td>\n",
       "      <td>...</td>\n",
       "      <td>...</td>\n",
       "      <td>...</td>\n",
       "    </tr>\n",
       "    <tr>\n",
       "      <th>860</th>\n",
       "      <td>0</td>\n",
       "      <td>3</td>\n",
       "      <td>Razi, Mr. Raihed</td>\n",
       "      <td>male</td>\n",
       "      <td>NaN</td>\n",
       "      <td>0</td>\n",
       "      <td>0</td>\n",
       "      <td>2629</td>\n",
       "      <td>7.2292</td>\n",
       "      <td>NaN</td>\n",
       "      <td>C</td>\n",
       "    </tr>\n",
       "    <tr>\n",
       "      <th>864</th>\n",
       "      <td>0</td>\n",
       "      <td>3</td>\n",
       "      <td>Sage, Miss. Dorothy Edith \"Dolly\"</td>\n",
       "      <td>female</td>\n",
       "      <td>NaN</td>\n",
       "      <td>8</td>\n",
       "      <td>2</td>\n",
       "      <td>CA. 2343</td>\n",
       "      <td>69.5500</td>\n",
       "      <td>NaN</td>\n",
       "      <td>S</td>\n",
       "    </tr>\n",
       "    <tr>\n",
       "      <th>869</th>\n",
       "      <td>0</td>\n",
       "      <td>3</td>\n",
       "      <td>van Melkebeke, Mr. Philemon</td>\n",
       "      <td>male</td>\n",
       "      <td>NaN</td>\n",
       "      <td>0</td>\n",
       "      <td>0</td>\n",
       "      <td>345777</td>\n",
       "      <td>9.5000</td>\n",
       "      <td>NaN</td>\n",
       "      <td>S</td>\n",
       "    </tr>\n",
       "    <tr>\n",
       "      <th>879</th>\n",
       "      <td>0</td>\n",
       "      <td>3</td>\n",
       "      <td>Laleff, Mr. Kristo</td>\n",
       "      <td>male</td>\n",
       "      <td>NaN</td>\n",
       "      <td>0</td>\n",
       "      <td>0</td>\n",
       "      <td>349217</td>\n",
       "      <td>7.8958</td>\n",
       "      <td>NaN</td>\n",
       "      <td>S</td>\n",
       "    </tr>\n",
       "    <tr>\n",
       "      <th>889</th>\n",
       "      <td>0</td>\n",
       "      <td>3</td>\n",
       "      <td>Johnston, Miss. Catherine Helen \"Carrie\"</td>\n",
       "      <td>female</td>\n",
       "      <td>NaN</td>\n",
       "      <td>1</td>\n",
       "      <td>2</td>\n",
       "      <td>W./C. 6607</td>\n",
       "      <td>23.4500</td>\n",
       "      <td>NaN</td>\n",
       "      <td>S</td>\n",
       "    </tr>\n",
       "  </tbody>\n",
       "</table>\n",
       "<p>177 rows × 11 columns</p>\n",
       "</div>"
      ],
      "text/plain": [
       "             Survived  Pclass                                      Name  \\\n",
       "PassengerId                                                               \n",
       "6                   0       3                          Moran, Mr. James   \n",
       "18                  1       2              Williams, Mr. Charles Eugene   \n",
       "20                  1       3                   Masselmani, Mrs. Fatima   \n",
       "27                  0       3                   Emir, Mr. Farred Chehab   \n",
       "29                  1       3             O'Dwyer, Miss. Ellen \"Nellie\"   \n",
       "...               ...     ...                                       ...   \n",
       "860                 0       3                          Razi, Mr. Raihed   \n",
       "864                 0       3         Sage, Miss. Dorothy Edith \"Dolly\"   \n",
       "869                 0       3               van Melkebeke, Mr. Philemon   \n",
       "879                 0       3                        Laleff, Mr. Kristo   \n",
       "889                 0       3  Johnston, Miss. Catherine Helen \"Carrie\"   \n",
       "\n",
       "                Sex  Age  SibSp  Parch      Ticket     Fare Cabin Embarked  \n",
       "PassengerId                                                                 \n",
       "6              male  NaN      0      0      330877   8.4583   NaN        Q  \n",
       "18             male  NaN      0      0      244373  13.0000   NaN        S  \n",
       "20           female  NaN      0      0        2649   7.2250   NaN        C  \n",
       "27             male  NaN      0      0        2631   7.2250   NaN        C  \n",
       "29           female  NaN      0      0      330959   7.8792   NaN        Q  \n",
       "...             ...  ...    ...    ...         ...      ...   ...      ...  \n",
       "860            male  NaN      0      0        2629   7.2292   NaN        C  \n",
       "864          female  NaN      8      2    CA. 2343  69.5500   NaN        S  \n",
       "869            male  NaN      0      0      345777   9.5000   NaN        S  \n",
       "879            male  NaN      0      0      349217   7.8958   NaN        S  \n",
       "889          female  NaN      1      2  W./C. 6607  23.4500   NaN        S  \n",
       "\n",
       "[177 rows x 11 columns]"
      ]
     },
     "execution_count": 25,
     "metadata": {},
     "output_type": "execute_result"
    }
   ],
   "source": [
    "#실제 결측치가 있는 행 출력\n",
    "train[pd.isna(train['Age'])]"
   ]
  },
  {
   "cell_type": "markdown",
   "id": "f1142f1b-7254-4419-9fe1-f28c391f3de0",
   "metadata": {},
   "source": [
    "#### 위에서 만든 피벗테이블로 Age의 결측치를 채워주는 함수를 만들어 한번에 적용하자\n",
    "- apply 함수 활용"
   ]
  },
  {
   "cell_type": "code",
   "execution_count": 27,
   "id": "2bebe12f-fca1-4468-bb45-565bb6e2bd27",
   "metadata": {},
   "outputs": [],
   "source": [
    "def fill_age(df) : #함수의 매개변수로는 Dataframe이 들어가게 될 예정\n",
    "    if pd.isna(df['Age']) :\n",
    "        #우리가 만든 피벗테이블에서 멀티인덱싱 한 값을 리턴\n",
    "        # 1차원 시리즈를 int로 바로 형변환하는 것은 곧 삭제될 예정이라.iloc[0]으로 차원이 없는 수치까지 인덱싱 후 변환\n",
    "        return int(pt1.loc[df['Pclass'], df['Sex']].iloc[0])\n",
    "    # 결측치가 아닌 경우\n",
    "    else:\n",
    "        return int(df['Age'])"
   ]
  },
  {
   "cell_type": "code",
   "execution_count": 28,
   "id": "0030b113-97d0-449e-a5ab-65c00963edb8",
   "metadata": {},
   "outputs": [
    {
     "data": {
      "text/plain": [
       "PassengerId\n",
       "1      22\n",
       "2      38\n",
       "3      26\n",
       "4      35\n",
       "5      35\n",
       "       ..\n",
       "887    27\n",
       "888    19\n",
       "889    21\n",
       "890    26\n",
       "891    32\n",
       "Name: Age, Length: 891, dtype: int64"
      ]
     },
     "execution_count": 28,
     "metadata": {},
     "output_type": "execute_result"
    }
   ],
   "source": [
    "train['Age'] = train.apply(fill_age, axis=1)\n",
    "train['Age']"
   ]
  },
  {
   "cell_type": "code",
   "execution_count": 29,
   "id": "11a1ecb0-0c9e-4a62-96c5-2bc40595e8f9",
   "metadata": {},
   "outputs": [
    {
     "data": {
      "text/plain": [
       "PassengerId\n",
       "892     34\n",
       "893     47\n",
       "894     62\n",
       "895     27\n",
       "896     22\n",
       "        ..\n",
       "1305    26\n",
       "1306    39\n",
       "1307    38\n",
       "1308    26\n",
       "1309    26\n",
       "Name: Age, Length: 418, dtype: int64"
      ]
     },
     "execution_count": 29,
     "metadata": {},
     "output_type": "execute_result"
    }
   ],
   "source": [
    "test['Age'] = test.apply(fill_age, axis=1)\n",
    "test['Age']\n",
    "\n",
    "# 현재 test DF에도 train 데이터를 기준으로 만든 pt1이 적용된 상태 \n",
    "# 머신러닝 지도학습에서는 test 데이터에 대한 정보가 들어간 상태로 학습을 진행하면 모델의 일반화 성능이 낮아질 가능성이 높음\n",
    "# 따라서 test 데이터에 결측치가 있더라도  test 데이터의 정보들은 모른다고 생각하고 train을 기준으로 결측치를 채워줘야함\n",
    "# 실제 서비스 되는 상황에서는 어떤 test 데이터가 들어올지 모르가 때문에 이를 예상해서 작업을 진행하면 안"
   ]
  },
  {
   "cell_type": "code",
   "execution_count": 30,
   "id": "0c4f925c-8075-497f-8602-dce741cbc81e",
   "metadata": {},
   "outputs": [
    {
     "name": "stdout",
     "output_type": "stream",
     "text": [
      "<class 'pandas.core.frame.DataFrame'>\n",
      "Index: 891 entries, 1 to 891\n",
      "Data columns (total 11 columns):\n",
      " #   Column    Non-Null Count  Dtype  \n",
      "---  ------    --------------  -----  \n",
      " 0   Survived  891 non-null    int64  \n",
      " 1   Pclass    891 non-null    int64  \n",
      " 2   Name      891 non-null    object \n",
      " 3   Sex       891 non-null    object \n",
      " 4   Age       891 non-null    int64  \n",
      " 5   SibSp     891 non-null    int64  \n",
      " 6   Parch     891 non-null    int64  \n",
      " 7   Ticket    891 non-null    object \n",
      " 8   Fare      891 non-null    float64\n",
      " 9   Cabin     204 non-null    object \n",
      " 10  Embarked  889 non-null    object \n",
      "dtypes: float64(1), int64(5), object(5)\n",
      "memory usage: 83.5+ KB\n"
     ]
    }
   ],
   "source": [
    "train.info()"
   ]
  },
  {
   "cell_type": "code",
   "execution_count": 31,
   "id": "f6488c6a-cd14-4c57-9ca6-284b604fe769",
   "metadata": {},
   "outputs": [
    {
     "name": "stdout",
     "output_type": "stream",
     "text": [
      "<class 'pandas.core.frame.DataFrame'>\n",
      "Index: 418 entries, 892 to 1309\n",
      "Data columns (total 10 columns):\n",
      " #   Column    Non-Null Count  Dtype  \n",
      "---  ------    --------------  -----  \n",
      " 0   Pclass    418 non-null    int64  \n",
      " 1   Name      418 non-null    object \n",
      " 2   Sex       418 non-null    object \n",
      " 3   Age       418 non-null    int64  \n",
      " 4   SibSp     418 non-null    int64  \n",
      " 5   Parch     418 non-null    int64  \n",
      " 6   Ticket    418 non-null    object \n",
      " 7   Fare      417 non-null    float64\n",
      " 8   Cabin     91 non-null     object \n",
      " 9   Embarked  418 non-null    object \n",
      "dtypes: float64(1), int64(4), object(5)\n",
      "memory usage: 35.9+ KB\n"
     ]
    }
   ],
   "source": [
    "test.info()"
   ]
  },
  {
   "cell_type": "markdown",
   "id": "d5059eda-79e6-42e9-98f6-e4ce39b646af",
   "metadata": {},
   "source": [
    "### Embarked 컬럼 결측치 채우기\n",
    "- train 데이터에 Embarked 컬럼에만 결측치가 존재\n",
    "- Embarked는 문자형 데이터이기 때문에 수치형 데이터처럼 평균값으로 채울 수가 없음"
   ]
  },
  {
   "cell_type": "code",
   "execution_count": 33,
   "id": "ba756147-b85c-4425-b703-4e74adb4c9f6",
   "metadata": {},
   "outputs": [
    {
     "data": {
      "text/plain": [
       "Embarked\n",
       "S    644\n",
       "C    168\n",
       "Q     77\n",
       "Name: count, dtype: int64"
      ]
     },
     "execution_count": 33,
     "metadata": {},
     "output_type": "execute_result"
    }
   ],
   "source": [
    "train['Embarked'].value_counts()"
   ]
  },
  {
   "cell_type": "code",
   "execution_count": 34,
   "id": "0aae2d82-fb00-4da0-8764-be751df44776",
   "metadata": {},
   "outputs": [],
   "source": [
    "# fillna : 지정된 값으로 결측치를 채워주는 함수\n",
    "train['Embarked'] = train['Embarked'].fillna('S')\n",
    "#결측치가 2개 밖에 없기 떄문에 가장 많은 비율을 가지고 있는 S로 채워주기\n",
    "# 결측치가 더 많다면 S,C,Q 의 비율대로 랜덤하게 넣어주는 방법도 생각해볼 수 있음"
   ]
  },
  {
   "cell_type": "code",
   "execution_count": 35,
   "id": "2c8cb897-29da-4adf-965c-cdeda05d9181",
   "metadata": {},
   "outputs": [
    {
     "name": "stdout",
     "output_type": "stream",
     "text": [
      "<class 'pandas.core.frame.DataFrame'>\n",
      "Index: 891 entries, 1 to 891\n",
      "Data columns (total 11 columns):\n",
      " #   Column    Non-Null Count  Dtype  \n",
      "---  ------    --------------  -----  \n",
      " 0   Survived  891 non-null    int64  \n",
      " 1   Pclass    891 non-null    int64  \n",
      " 2   Name      891 non-null    object \n",
      " 3   Sex       891 non-null    object \n",
      " 4   Age       891 non-null    int64  \n",
      " 5   SibSp     891 non-null    int64  \n",
      " 6   Parch     891 non-null    int64  \n",
      " 7   Ticket    891 non-null    object \n",
      " 8   Fare      891 non-null    float64\n",
      " 9   Cabin     204 non-null    object \n",
      " 10  Embarked  891 non-null    object \n",
      "dtypes: float64(1), int64(5), object(5)\n",
      "memory usage: 83.5+ KB\n"
     ]
    }
   ],
   "source": [
    "train.info()   # cabin 빼고는 다 찾다는거 확인 "
   ]
  },
  {
   "cell_type": "markdown",
   "id": "f0f8dad6-faaa-4541-917a-bcf4f1c92981",
   "metadata": {},
   "source": [
    "#### Fare 컬럼 결측치 채우기 \n",
    "- test에만 결측치가 존재\n",
    "- Age랑 마찬가지로 수치 데이터이고, 데이터의 분포가 불균형이므로 전체 데이터의 평균이 아닌 피벗테이블로 구간별 집계된 평균을 사용하자"
   ]
  },
  {
   "cell_type": "code",
   "execution_count": 37,
   "id": "b6542075-fa6e-4c38-90bd-82ace827e34a",
   "metadata": {},
   "outputs": [
    {
     "data": {
      "text/html": [
       "<div>\n",
       "<style scoped>\n",
       "    .dataframe tbody tr th:only-of-type {\n",
       "        vertical-align: middle;\n",
       "    }\n",
       "\n",
       "    .dataframe tbody tr th {\n",
       "        vertical-align: top;\n",
       "    }\n",
       "\n",
       "    .dataframe thead th {\n",
       "        text-align: right;\n",
       "    }\n",
       "</style>\n",
       "<table border=\"1\" class=\"dataframe\">\n",
       "  <thead>\n",
       "    <tr style=\"text-align: right;\">\n",
       "      <th></th>\n",
       "      <th></th>\n",
       "      <th>Fare</th>\n",
       "    </tr>\n",
       "    <tr>\n",
       "      <th>Pclass</th>\n",
       "      <th>Sex</th>\n",
       "      <th></th>\n",
       "    </tr>\n",
       "  </thead>\n",
       "  <tbody>\n",
       "    <tr>\n",
       "      <th rowspan=\"2\" valign=\"top\">1</th>\n",
       "      <th>female</th>\n",
       "      <td>106.125798</td>\n",
       "    </tr>\n",
       "    <tr>\n",
       "      <th>male</th>\n",
       "      <td>67.226127</td>\n",
       "    </tr>\n",
       "    <tr>\n",
       "      <th rowspan=\"2\" valign=\"top\">2</th>\n",
       "      <th>female</th>\n",
       "      <td>21.970121</td>\n",
       "    </tr>\n",
       "    <tr>\n",
       "      <th>male</th>\n",
       "      <td>19.741782</td>\n",
       "    </tr>\n",
       "    <tr>\n",
       "      <th rowspan=\"2\" valign=\"top\">3</th>\n",
       "      <th>female</th>\n",
       "      <td>16.118810</td>\n",
       "    </tr>\n",
       "    <tr>\n",
       "      <th>male</th>\n",
       "      <td>12.661633</td>\n",
       "    </tr>\n",
       "  </tbody>\n",
       "</table>\n",
       "</div>"
      ],
      "text/plain": [
       "                     Fare\n",
       "Pclass Sex               \n",
       "1      female  106.125798\n",
       "       male     67.226127\n",
       "2      female   21.970121\n",
       "       male     19.741782\n",
       "3      female   16.118810\n",
       "       male     12.661633"
      ]
     },
     "execution_count": 37,
     "metadata": {},
     "output_type": "execute_result"
    }
   ],
   "source": [
    "pt2 = train.pivot_table(values='Fare',\n",
    "                       index=['Pclass','Sex'],  \n",
    "                       aggfunc='mean')\n",
    "pt2"
   ]
  },
  {
   "cell_type": "code",
   "execution_count": 38,
   "id": "0ce1c6a9-1db3-4d97-bc34-7861be68f9c5",
   "metadata": {},
   "outputs": [
    {
     "data": {
      "text/html": [
       "<div>\n",
       "<style scoped>\n",
       "    .dataframe tbody tr th:only-of-type {\n",
       "        vertical-align: middle;\n",
       "    }\n",
       "\n",
       "    .dataframe tbody tr th {\n",
       "        vertical-align: top;\n",
       "    }\n",
       "\n",
       "    .dataframe thead th {\n",
       "        text-align: right;\n",
       "    }\n",
       "</style>\n",
       "<table border=\"1\" class=\"dataframe\">\n",
       "  <thead>\n",
       "    <tr style=\"text-align: right;\">\n",
       "      <th></th>\n",
       "      <th>Pclass</th>\n",
       "      <th>Name</th>\n",
       "      <th>Sex</th>\n",
       "      <th>Age</th>\n",
       "      <th>SibSp</th>\n",
       "      <th>Parch</th>\n",
       "      <th>Ticket</th>\n",
       "      <th>Fare</th>\n",
       "      <th>Cabin</th>\n",
       "      <th>Embarked</th>\n",
       "    </tr>\n",
       "    <tr>\n",
       "      <th>PassengerId</th>\n",
       "      <th></th>\n",
       "      <th></th>\n",
       "      <th></th>\n",
       "      <th></th>\n",
       "      <th></th>\n",
       "      <th></th>\n",
       "      <th></th>\n",
       "      <th></th>\n",
       "      <th></th>\n",
       "      <th></th>\n",
       "    </tr>\n",
       "  </thead>\n",
       "  <tbody>\n",
       "    <tr>\n",
       "      <th>1044</th>\n",
       "      <td>3</td>\n",
       "      <td>Storey, Mr. Thomas</td>\n",
       "      <td>male</td>\n",
       "      <td>60</td>\n",
       "      <td>0</td>\n",
       "      <td>0</td>\n",
       "      <td>3701</td>\n",
       "      <td>NaN</td>\n",
       "      <td>NaN</td>\n",
       "      <td>S</td>\n",
       "    </tr>\n",
       "  </tbody>\n",
       "</table>\n",
       "</div>"
      ],
      "text/plain": [
       "             Pclass                Name   Sex  Age  SibSp  Parch Ticket  Fare  \\\n",
       "PassengerId                                                                     \n",
       "1044              3  Storey, Mr. Thomas  male   60      0      0   3701   NaN   \n",
       "\n",
       "            Cabin Embarked  \n",
       "PassengerId                 \n",
       "1044          NaN        S  "
      ]
     },
     "execution_count": 38,
     "metadata": {},
     "output_type": "execute_result"
    }
   ],
   "source": [
    "test[test['Fare'].isnull()]"
   ]
  },
  {
   "cell_type": "code",
   "execution_count": 39,
   "id": "c1af9874-daea-415f-ba11-d4e19c452d87",
   "metadata": {},
   "outputs": [],
   "source": [
    "test['Fare'] = test['Fare'].fillna(12.661633)"
   ]
  },
  {
   "cell_type": "code",
   "execution_count": 40,
   "id": "56833173-bb70-48c8-aec0-7c29f6f7a854",
   "metadata": {},
   "outputs": [
    {
     "name": "stdout",
     "output_type": "stream",
     "text": [
      "<class 'pandas.core.frame.DataFrame'>\n",
      "Index: 418 entries, 892 to 1309\n",
      "Data columns (total 10 columns):\n",
      " #   Column    Non-Null Count  Dtype  \n",
      "---  ------    --------------  -----  \n",
      " 0   Pclass    418 non-null    int64  \n",
      " 1   Name      418 non-null    object \n",
      " 2   Sex       418 non-null    object \n",
      " 3   Age       418 non-null    int64  \n",
      " 4   SibSp     418 non-null    int64  \n",
      " 5   Parch     418 non-null    int64  \n",
      " 6   Ticket    418 non-null    object \n",
      " 7   Fare      418 non-null    float64\n",
      " 8   Cabin     91 non-null     object \n",
      " 9   Embarked  418 non-null    object \n",
      "dtypes: float64(1), int64(4), object(5)\n",
      "memory usage: 35.9+ KB\n"
     ]
    }
   ],
   "source": [
    "test.info()"
   ]
  },
  {
   "cell_type": "markdown",
   "id": "203e552e-d295-4d23-a93c-cc5cf2b9ede2",
   "metadata": {},
   "source": [
    "#### Cabin 컬럼 결측치 채우기\n",
    "- Cabin 컬럼은 데이터보다 결측치가 더 많은 상태\n",
    "- 이럴 때는 컬럼 자체를 학습에서 제외시키는 것도 하나의 방법일 수 있음\n",
    "- 일단은 결측치에 임의의 값을 넣고 시각화를 해서 삭제할지 넣을지 확인해보자!"
   ]
  },
  {
   "cell_type": "code",
   "execution_count": 42,
   "id": "ea62cd5f-bc77-496e-9953-f089b56c2923",
   "metadata": {},
   "outputs": [
    {
     "data": {
      "text/plain": [
       "Cabin\n",
       "B96 B98        4\n",
       "G6             4\n",
       "C23 C25 C27    4\n",
       "C22 C26        3\n",
       "F33            3\n",
       "              ..\n",
       "E34            1\n",
       "C7             1\n",
       "C54            1\n",
       "E36            1\n",
       "C148           1\n",
       "Name: count, Length: 147, dtype: int64"
      ]
     },
     "execution_count": 42,
     "metadata": {},
     "output_type": "execute_result"
    }
   ],
   "source": [
    "train['Cabin'].value_counts()"
   ]
  },
  {
   "cell_type": "code",
   "execution_count": 43,
   "id": "10f1a7c6-65fc-4c2a-ac90-30efa26cb118",
   "metadata": {},
   "outputs": [
    {
     "data": {
      "text/plain": [
       "array([nan, 'C85', 'C123', 'E46', 'G6', 'C103', 'D56', 'A6',\n",
       "       'C23 C25 C27', 'B78', 'D33', 'B30', 'C52', 'B28', 'C83', 'F33',\n",
       "       'F G73', 'E31', 'A5', 'D10 D12', 'D26', 'C110', 'B58 B60', 'E101',\n",
       "       'F E69', 'D47', 'B86', 'F2', 'C2', 'E33', 'B19', 'A7', 'C49', 'F4',\n",
       "       'A32', 'B4', 'B80', 'A31', 'D36', 'D15', 'C93', 'C78', 'D35',\n",
       "       'C87', 'B77', 'E67', 'B94', 'C125', 'C99', 'C118', 'D7', 'A19',\n",
       "       'B49', 'D', 'C22 C26', 'C106', 'C65', 'E36', 'C54',\n",
       "       'B57 B59 B63 B66', 'C7', 'E34', 'C32', 'B18', 'C124', 'C91', 'E40',\n",
       "       'T', 'C128', 'D37', 'B35', 'E50', 'C82', 'B96 B98', 'E10', 'E44',\n",
       "       'A34', 'C104', 'C111', 'C92', 'E38', 'D21', 'E12', 'E63', 'A14',\n",
       "       'B37', 'C30', 'D20', 'B79', 'E25', 'D46', 'B73', 'C95', 'B38',\n",
       "       'B39', 'B22', 'C86', 'C70', 'A16', 'C101', 'C68', 'A10', 'E68',\n",
       "       'B41', 'A20', 'D19', 'D50', 'D9', 'A23', 'B50', 'A26', 'D48',\n",
       "       'E58', 'C126', 'B71', 'B51 B53 B55', 'D49', 'B5', 'B20', 'F G63',\n",
       "       'C62 C64', 'E24', 'C90', 'C45', 'E8', 'B101', 'D45', 'C46', 'D30',\n",
       "       'E121', 'D11', 'E77', 'F38', 'B3', 'D6', 'B82 B84', 'D17', 'A36',\n",
       "       'B102', 'B69', 'E49', 'C47', 'D28', 'E17', 'A24', 'C50', 'B42',\n",
       "       'C148'], dtype=object)"
      ]
     },
     "execution_count": 43,
     "metadata": {},
     "output_type": "execute_result"
    }
   ],
   "source": [
    "train['Cabin'].unique()"
   ]
  },
  {
   "cell_type": "markdown",
   "id": "9f6e66ba-d43f-4fb2-acfa-56028b8b58ee",
   "metadata": {},
   "source": [
    "- 유니크 값이 데이터의 수에 비해 엄청 많은 넓은 분포도를 보이고 있음\n",
    "- 객실 번호값에서 앞에있는 알파벳은 특정한 구역이나 층을 의미하지 않을까?-> 앞의 영문자만 따와서 활용해보자 !!"
   ]
  },
  {
   "cell_type": "code",
   "execution_count": 45,
   "id": "c57264fe-51ac-4a68-9ae8-d15dbeb4403c",
   "metadata": {},
   "outputs": [
    {
     "data": {
      "text/plain": [
       "PassengerId\n",
       "1         M\n",
       "2       C85\n",
       "3         M\n",
       "4      C123\n",
       "5         M\n",
       "       ... \n",
       "887       M\n",
       "888     B42\n",
       "889       M\n",
       "890    C148\n",
       "891       M\n",
       "Name: Deck, Length: 891, dtype: object"
      ]
     },
     "execution_count": 45,
     "metadata": {},
     "output_type": "execute_result"
    }
   ],
   "source": [
    "# train, test 데이터에서 Cabin컬럼의 결측치를 M(missing)으로 채운 Deck 컬럼을 생성\n",
    "train['Deck'] = train['Cabin'].fillna('M')\n",
    "test['Deck'] = test['Cabin'].fillna('M')\n",
    "train['Deck'] # 원래는 Cabin 컬럼에서 결측치를 M으로 채운뒤 Deck이라는 컬럼으로 변경됨"
   ]
  },
  {
   "cell_type": "code",
   "execution_count": 46,
   "id": "6c081344-7643-4d1b-a760-7ecbda1f7655",
   "metadata": {},
   "outputs": [],
   "source": [
    "train['Deck'] = train['Deck'].str[0]\n",
    "test['Deck'] = test['Deck'].str[0]"
   ]
  },
  {
   "cell_type": "code",
   "execution_count": 47,
   "id": "14bae2de-7da5-4c1b-a70a-da50d26d0124",
   "metadata": {},
   "outputs": [
    {
     "data": {
      "text/plain": [
       "PassengerId\n",
       "1      M\n",
       "2      C\n",
       "3      M\n",
       "4      C\n",
       "5      M\n",
       "      ..\n",
       "887    M\n",
       "888    B\n",
       "889    M\n",
       "890    C\n",
       "891    M\n",
       "Name: Deck, Length: 891, dtype: object"
      ]
     },
     "execution_count": 47,
     "metadata": {},
     "output_type": "execute_result"
    }
   ],
   "source": [
    "train['Deck']"
   ]
  },
  {
   "cell_type": "code",
   "execution_count": 48,
   "id": "422d03a8-8b28-4dfc-b319-af588102937b",
   "metadata": {},
   "outputs": [
    {
     "name": "stdout",
     "output_type": "stream",
     "text": [
      "<class 'pandas.core.frame.DataFrame'>\n",
      "Index: 891 entries, 1 to 891\n",
      "Data columns (total 12 columns):\n",
      " #   Column    Non-Null Count  Dtype  \n",
      "---  ------    --------------  -----  \n",
      " 0   Survived  891 non-null    int64  \n",
      " 1   Pclass    891 non-null    int64  \n",
      " 2   Name      891 non-null    object \n",
      " 3   Sex       891 non-null    object \n",
      " 4   Age       891 non-null    int64  \n",
      " 5   SibSp     891 non-null    int64  \n",
      " 6   Parch     891 non-null    int64  \n",
      " 7   Ticket    891 non-null    object \n",
      " 8   Fare      891 non-null    float64\n",
      " 9   Cabin     204 non-null    object \n",
      " 10  Embarked  891 non-null    object \n",
      " 11  Deck      891 non-null    object \n",
      "dtypes: float64(1), int64(5), object(6)\n",
      "memory usage: 90.5+ KB\n"
     ]
    }
   ],
   "source": [
    "train.info()"
   ]
  },
  {
   "cell_type": "code",
   "execution_count": 49,
   "id": "7ac3c5f7-6a4d-43b0-a5ef-03796e4358f0",
   "metadata": {},
   "outputs": [],
   "source": [
    "# 각각의 데이터에 있는 Cabin 컬럼 지우기 (del,drop)\n",
    "train.drop('Cabin',axis=1,inplace=True)\n",
    "test.drop('Cabin',axis=1,inplace=True)"
   ]
  },
  {
   "cell_type": "code",
   "execution_count": 50,
   "id": "6a5fa92a-f3fe-424a-b5f3-e5affdda054f",
   "metadata": {},
   "outputs": [
    {
     "name": "stdout",
     "output_type": "stream",
     "text": [
      "<class 'pandas.core.frame.DataFrame'>\n",
      "Index: 891 entries, 1 to 891\n",
      "Data columns (total 11 columns):\n",
      " #   Column    Non-Null Count  Dtype  \n",
      "---  ------    --------------  -----  \n",
      " 0   Survived  891 non-null    int64  \n",
      " 1   Pclass    891 non-null    int64  \n",
      " 2   Name      891 non-null    object \n",
      " 3   Sex       891 non-null    object \n",
      " 4   Age       891 non-null    int64  \n",
      " 5   SibSp     891 non-null    int64  \n",
      " 6   Parch     891 non-null    int64  \n",
      " 7   Ticket    891 non-null    object \n",
      " 8   Fare      891 non-null    float64\n",
      " 9   Embarked  891 non-null    object \n",
      " 10  Deck      891 non-null    object \n",
      "dtypes: float64(1), int64(5), object(5)\n",
      "memory usage: 83.5+ KB\n"
     ]
    }
   ],
   "source": [
    "train.info()"
   ]
  },
  {
   "cell_type": "markdown",
   "id": "96baebfe-13e5-4a90-9014-111ea1086195",
   "metadata": {},
   "source": [
    "## 4. 탐색적 데이터 분석 +  데이터 추가 전처리\n",
    "\n",
    "#### Deck 컬럼 시각화"
   ]
  },
  {
   "cell_type": "code",
   "execution_count": 52,
   "id": "fdf0be84-1062-4012-aa4d-05f9b764a36b",
   "metadata": {},
   "outputs": [
    {
     "data": {
      "text/html": [
       "<div>\n",
       "<style scoped>\n",
       "    .dataframe tbody tr th:only-of-type {\n",
       "        vertical-align: middle;\n",
       "    }\n",
       "\n",
       "    .dataframe tbody tr th {\n",
       "        vertical-align: top;\n",
       "    }\n",
       "\n",
       "    .dataframe thead th {\n",
       "        text-align: right;\n",
       "    }\n",
       "</style>\n",
       "<table border=\"1\" class=\"dataframe\">\n",
       "  <thead>\n",
       "    <tr style=\"text-align: right;\">\n",
       "      <th></th>\n",
       "      <th></th>\n",
       "      <th>Name</th>\n",
       "    </tr>\n",
       "    <tr>\n",
       "      <th>Deck</th>\n",
       "      <th>Survived</th>\n",
       "      <th></th>\n",
       "    </tr>\n",
       "  </thead>\n",
       "  <tbody>\n",
       "    <tr>\n",
       "      <th rowspan=\"2\" valign=\"top\">A</th>\n",
       "      <th>0</th>\n",
       "      <td>8</td>\n",
       "    </tr>\n",
       "    <tr>\n",
       "      <th>1</th>\n",
       "      <td>7</td>\n",
       "    </tr>\n",
       "    <tr>\n",
       "      <th rowspan=\"2\" valign=\"top\">B</th>\n",
       "      <th>0</th>\n",
       "      <td>12</td>\n",
       "    </tr>\n",
       "    <tr>\n",
       "      <th>1</th>\n",
       "      <td>35</td>\n",
       "    </tr>\n",
       "    <tr>\n",
       "      <th rowspan=\"2\" valign=\"top\">C</th>\n",
       "      <th>0</th>\n",
       "      <td>24</td>\n",
       "    </tr>\n",
       "    <tr>\n",
       "      <th>1</th>\n",
       "      <td>35</td>\n",
       "    </tr>\n",
       "    <tr>\n",
       "      <th rowspan=\"2\" valign=\"top\">D</th>\n",
       "      <th>0</th>\n",
       "      <td>8</td>\n",
       "    </tr>\n",
       "    <tr>\n",
       "      <th>1</th>\n",
       "      <td>25</td>\n",
       "    </tr>\n",
       "    <tr>\n",
       "      <th rowspan=\"2\" valign=\"top\">E</th>\n",
       "      <th>0</th>\n",
       "      <td>8</td>\n",
       "    </tr>\n",
       "    <tr>\n",
       "      <th>1</th>\n",
       "      <td>24</td>\n",
       "    </tr>\n",
       "    <tr>\n",
       "      <th rowspan=\"2\" valign=\"top\">F</th>\n",
       "      <th>0</th>\n",
       "      <td>5</td>\n",
       "    </tr>\n",
       "    <tr>\n",
       "      <th>1</th>\n",
       "      <td>8</td>\n",
       "    </tr>\n",
       "    <tr>\n",
       "      <th rowspan=\"2\" valign=\"top\">G</th>\n",
       "      <th>0</th>\n",
       "      <td>2</td>\n",
       "    </tr>\n",
       "    <tr>\n",
       "      <th>1</th>\n",
       "      <td>2</td>\n",
       "    </tr>\n",
       "    <tr>\n",
       "      <th rowspan=\"2\" valign=\"top\">M</th>\n",
       "      <th>0</th>\n",
       "      <td>481</td>\n",
       "    </tr>\n",
       "    <tr>\n",
       "      <th>1</th>\n",
       "      <td>206</td>\n",
       "    </tr>\n",
       "    <tr>\n",
       "      <th>T</th>\n",
       "      <th>0</th>\n",
       "      <td>1</td>\n",
       "    </tr>\n",
       "  </tbody>\n",
       "</table>\n",
       "</div>"
      ],
      "text/plain": [
       "               Name\n",
       "Deck Survived      \n",
       "A    0            8\n",
       "     1            7\n",
       "B    0           12\n",
       "     1           35\n",
       "C    0           24\n",
       "     1           35\n",
       "D    0            8\n",
       "     1           25\n",
       "E    0            8\n",
       "     1           24\n",
       "F    0            5\n",
       "     1            8\n",
       "G    0            2\n",
       "     1            2\n",
       "M    0          481\n",
       "     1          206\n",
       "T    0            1"
      ]
     },
     "execution_count": 52,
     "metadata": {},
     "output_type": "execute_result"
    }
   ],
   "source": [
    "train_deck = train[['Deck', 'Survived', 'Name']].groupby(['Deck','Survived']).count()\n",
    "train_deck\n",
    "\n",
    "# train.pivot_table(values='Name',\n",
    "#                       index=['Deck','Survived],  \n",
    "#                       aggfunc='count')"
   ]
  },
  {
   "cell_type": "code",
   "execution_count": 53,
   "id": "9bb789eb-4d0e-4043-b7c4-137649adf5b6",
   "metadata": {},
   "outputs": [
    {
     "data": {
      "image/png": "[encoded data removed]",
      "text/plain": [
       "<Figure size 300x300 with 1 Axes>"
      ]
     },
     "metadata": {},
     "output_type": "display_data"
    }
   ],
   "source": [
    "import seaborn as sns\n",
    "plt.figure(figsize=(3,3))\n",
    "sns.countplot(data=train, x='Deck',hue='Survived');"
   ]
  },
  {
   "cell_type": "markdown",
   "id": "f4388bc7-ba9b-4c94-96e7-9d37ee02bf74",
   "metadata": {},
   "source": [
    "- M(결측치 데이터) 에서 상대적으로 많은 사람들이 사망했음\n",
    "- 생존과 사망의 비율이 크게 차이가 나기 때문에 생존여부를 판단하는데 일단 사용해보자!"
   ]
  },
  {
   "cell_type": "code",
   "execution_count": 55,
   "id": "b32d30cc-f3a5-4573-a33e-21543a850443",
   "metadata": {
    "scrolled": true
   },
   "outputs": [
    {
     "data": {
      "image/png": "[encoded data removed]",
      "text/plain": [
       "<Figure size 300x300 with 1 Axes>"
      ]
     },
     "metadata": {},
     "output_type": "display_data"
    }
   ],
   "source": [
    "plt.figure(figsize=(3,3))\n",
    "sns.countplot(data=train, x='Pclass',hue='Survived');"
   ]
  },
  {
   "cell_type": "markdown",
   "id": "7793c403-4c17-4594-a0b9-ffc28874bac2",
   "metadata": {},
   "source": [
    "- Pclass 가 3등급이면 사망률이 높구나"
   ]
  },
  {
   "cell_type": "markdown",
   "id": "7f627b60-9e3b-43fa-b11d-0ed867259da0",
   "metadata": {},
   "source": [
    "## Deck,Pclass 시각화"
   ]
  },
  {
   "cell_type": "code",
   "execution_count": 58,
   "id": "c544d878-f47e-42d3-b4fa-a5016f06021d",
   "metadata": {},
   "outputs": [
    {
     "data": {
      "image/png": "[encoded data removed]",
      "text/plain": [
       "<Figure size 500x300 with 1 Axes>"
      ]
     },
     "metadata": {},
     "output_type": "display_data"
    }
   ],
   "source": [
    "plt.figure(figsize=(5,3))\n",
    "sns.countplot(data=train, x='Deck',hue='Pclass');"
   ]
  },
  {
   "cell_type": "markdown",
   "id": "a7feb94f-563c-49d3-88fe-d311a3b77e15",
   "metadata": {},
   "source": [
    "## Sex,Survived 시각화"
   ]
  },
  {
   "cell_type": "code",
   "execution_count": 60,
   "id": "bb67f5ab-f6b1-40dd-a5d0-6337a68a7e07",
   "metadata": {},
   "outputs": [
    {
     "data": {
      "image/png": "[encoded data removed]",
      "text/plain": [
       "<Figure size 500x300 with 1 Axes>"
      ]
     },
     "metadata": {},
     "output_type": "display_data"
    }
   ],
   "source": [
    "plt.figure(figsize=(5,3))\n",
    "sns.countplot(data=train, x='Sex',hue='Survived');"
   ]
  },
  {
   "cell_type": "markdown",
   "id": "faf84ae8-6b78-4af7-a130-e589dd609762",
   "metadata": {},
   "source": [
    "- 남성이 상대적 많이 사망함"
   ]
  },
  {
   "cell_type": "code",
   "execution_count": 62,
   "id": "a0e8aade-fb89-4ab1-b0e4-f7dcf0087f9f",
   "metadata": {},
   "outputs": [
    {
     "data": {
      "image/png": "[encoded data removed]",
      "text/plain": [
       "<Figure size 500x300 with 1 Axes>"
      ]
     },
     "metadata": {},
     "output_type": "display_data"
    }
   ],
   "source": [
    "plt.figure(figsize=(5,3))\n",
    "sns.countplot(data=train, x='Embarked',hue='Survived');"
   ]
  },
  {
   "cell_type": "markdown",
   "id": "cc0326ee-0ba8-490d-976f-c2a9ed7dcf58",
   "metadata": {},
   "source": [
    "- 탑승항구가 S인 곳의 사람들의 사망비율이 높았음"
   ]
  },
  {
   "cell_type": "code",
   "execution_count": 64,
   "id": "98b65f22-0fad-41cc-b5d0-86367f67626e",
   "metadata": {},
   "outputs": [
    {
     "data": {
      "image/png": "[encoded data removed]",
      "text/plain": [
       "<Figure size 500x300 with 1 Axes>"
      ]
     },
     "metadata": {},
     "output_type": "display_data"
    }
   ],
   "source": [
    "plt.figure(figsize=(5,3))\n",
    "sns.countplot(data=train, x='Embarked',hue='Sex');"
   ]
  },
  {
   "cell_type": "markdown",
   "id": "a3bf75a6-4e93-4a8f-a246-dceb5b31e955",
   "metadata": {},
   "source": [
    "- S항에서 가장 많은 사람들이 탔고 남자가 많았음"
   ]
  },
  {
   "cell_type": "markdown",
   "id": "477ce5b5-55bd-4403-8a30-5e327431609a",
   "metadata": {},
   "source": [
    "### Age 시각화"
   ]
  },
  {
   "cell_type": "code",
   "execution_count": 67,
   "id": "e27a4cf8-4790-4e40-aafd-2dc44cd3eefa",
   "metadata": {},
   "outputs": [
    {
     "data": {
      "image/png": "[encoded data removed]",
      "text/plain": [
       "<Figure size 1000x500 with 1 Axes>"
      ]
     },
     "metadata": {},
     "output_type": "display_data"
    }
   ],
   "source": [
    "plt.figure(figsize=(10,5))\n",
    "\n",
    "sns.violinplot(data=train, x='Sex',y='Age',hue='Survived',split=False)\n",
    "plt.grid()\n",
    "#가운데 흰색 점은 중앙값 (Median 2사분위수)\n",
    "# 바이올린 중앙의 두꺼운 검은 선은 사분위 범위(1사분위수~3사분위수)\n",
    "# 바이올린 중앙의 얇은 선의 데이터 신뢰구간 95%(데이더의 95%가 해당구간에 분포)\n",
    "\n",
    "#연속된 실수 데이터의 경우 일반 bar차트르 표현을 하면 가독성이 매우 떨어짐\n",
    "#구간을 지정하여 히스토그램으로 출력할 수 있지만 히스토그램도 구간에 따른 지정된 값이 막대형ㄹ태로 줄력아 됨\n",
    "# violinplot은 데이터의 밀도를 확률적으로 나타내는 학률 밀도 방식으로 연속된 데이터를 이어주는 그래프를 그리며 곡선 형태로 출력됨\n",
    "# ※확률밀도 : 데이터 사이의 구간을 미분의 개념을 활용하여 순간변화율을 계산하여 확률적으로 데이터의 분포를 표시하는 방식"
   ]
  },
  {
   "cell_type": "markdown",
   "id": "b4e4f350-39b4-48a1-bf74-84ae41a27c5b",
   "metadata": {},
   "source": [
    "- 20~30 대  탑승자가 가장 많았고 사망자도 가장 많았음\n",
    "- 20대 미만의 어린아이 중에서는 오히려 여자가 더 많이 사망했음(전체로 봤을 때는 남자의 사망률이 훨씬 높았음)"
   ]
  },
  {
   "cell_type": "markdown",
   "id": "c343caac-e8cf-45b8-a17b-9eb1d32b4669",
   "metadata": {},
   "source": [
    "### Fare 시각화"
   ]
  },
  {
   "cell_type": "code",
   "execution_count": 70,
   "id": "66909591-912d-4b03-8cb4-84bb6d862aec",
   "metadata": {},
   "outputs": [
    {
     "data": {
      "image/png": "[encoded data removed]",
      "text/plain": [
       "<Figure size 1000x500 with 1 Axes>"
      ]
     },
     "metadata": {},
     "output_type": "display_data"
    }
   ],
   "source": [
    "plt.figure(figsize=(10,5))\n",
    "\n",
    "sns.violinplot(data=train, x='Sex',y='Fare',hue='Survived',split=True)\n",
    "plt.grid()"
   ]
  },
  {
   "cell_type": "markdown",
   "id": "559c7ed2-5d55-438e-9855-3a5a2409e593",
   "metadata": {},
   "source": [
    "- 요금이 저렴한 사람들이 많았고 사망도 많이 했음"
   ]
  },
  {
   "cell_type": "markdown",
   "id": "7c226cbe-54ec-4b6c-bd73-7283414254e6",
   "metadata": {},
   "source": [
    "#### parch - 함께 탑승한 부모자식의 수 \n",
    "#### SibSp - 함께 탑승한 형제자매, 배우자의 수 \n",
    "- 두 컬럼을 더해서 전체 가족 수라는 새로운 컬럼을 생성"
   ]
  },
  {
   "cell_type": "code",
   "execution_count": 73,
   "id": "59bcebb1-317c-4c9f-bd29-6cf3c2108bc4",
   "metadata": {},
   "outputs": [],
   "source": [
    "train['Family_Size']= train['Parch'] + train['SibSp']+1\n",
    "test['Family_Size']= test['Parch'] + test['SibSp']+1"
   ]
  },
  {
   "cell_type": "code",
   "execution_count": 74,
   "id": "90c674f5-28aa-4494-a3bd-361afb61989e",
   "metadata": {},
   "outputs": [
    {
     "data": {
      "text/plain": [
       "<Axes: xlabel='Family_Size', ylabel='count'>"
      ]
     },
     "execution_count": 74,
     "metadata": {},
     "output_type": "execute_result"
    },
    {
     "data": {
      "image/png": "[encoded data removed]",
      "text/plain": [
       "<Figure size 500x300 with 1 Axes>"
      ]
     },
     "metadata": {},
     "output_type": "display_data"
    }
   ],
   "source": [
    "plt.figure(figsize=(5,3))\n",
    "sns.countplot(data=train, x='Family_Size',hue='Survived')"
   ]
  },
  {
   "cell_type": "markdown",
   "id": "7be3b04a-a6fb-4f16-b089-8ee1cd2b09b4",
   "metadata": {},
   "source": [
    "- 1명 일때는 사망비율이 높고, 2~4명 일때는 생존비율이 높고 5명이상이면 사망 비율이 높네!"
   ]
  },
  {
   "cell_type": "markdown",
   "id": "2a951a44-5797-488a-b02c-9378edaf5e4b",
   "metadata": {},
   "source": [
    "#### 가족 사이즈에 따라 3가지로 범주화 시켜보자\n",
    "- 1이면 Alone\n",
    "- 2~4이면 Small\n",
    "- 5이상이면 Large"
   ]
  },
  {
   "cell_type": "code",
   "execution_count": 77,
   "id": "599e89ac-a66e-4467-b6c5-0055113369df",
   "metadata": {},
   "outputs": [],
   "source": [
    "bins_size=[0,1,4,11]\n",
    "labels_size= ['Alone','Small','Large']\n",
    "# cut : 특정 데이터를 원하는 구간과 명칭으로 범주화 시켜주는 함수\n",
    "# bins 범주의 경계를 지정\n",
    "# labels 범주의 명칭을 지정\n",
    "train['Family_Group'] = pd.cut(train['Family_Size'],bins=bins_size,labels=labels_size)\n",
    "test['Family_Group'] = pd.cut(test['Family_Size'],bins=bins_size,labels=labels_size)"
   ]
  },
  {
   "cell_type": "code",
   "execution_count": 78,
   "id": "b749a7d8-fc06-49eb-8767-a6cf78859a6e",
   "metadata": {},
   "outputs": [
    {
     "data": {
      "text/plain": [
       "PassengerId\n",
       "1      Small\n",
       "2      Small\n",
       "3      Alone\n",
       "4      Small\n",
       "5      Alone\n",
       "       ...  \n",
       "887    Alone\n",
       "888    Alone\n",
       "889    Small\n",
       "890    Alone\n",
       "891    Alone\n",
       "Name: Family_Group, Length: 891, dtype: category\n",
       "Categories (3, object): ['Alone' < 'Small' < 'Large']"
      ]
     },
     "execution_count": 78,
     "metadata": {},
     "output_type": "execute_result"
    }
   ],
   "source": [
    "train['Family_Group']"
   ]
  },
  {
   "cell_type": "code",
   "execution_count": 79,
   "id": "369ae119-b937-44df-9acd-fa6556f588b9",
   "metadata": {},
   "outputs": [
    {
     "data": {
      "text/plain": [
       "PassengerId\n",
       "892     Alone\n",
       "893     Small\n",
       "894     Alone\n",
       "895     Alone\n",
       "896     Small\n",
       "        ...  \n",
       "1305    Alone\n",
       "1306    Alone\n",
       "1307    Alone\n",
       "1308    Alone\n",
       "1309    Small\n",
       "Name: Family_Group, Length: 418, dtype: category\n",
       "Categories (3, object): ['Alone' < 'Small' < 'Large']"
      ]
     },
     "execution_count": 79,
     "metadata": {},
     "output_type": "execute_result"
    }
   ],
   "source": [
    "test['Family_Group']"
   ]
  },
  {
   "cell_type": "code",
   "execution_count": 80,
   "id": "ac02572d-8a94-4648-8d10-89bce4279bbb",
   "metadata": {},
   "outputs": [
    {
     "data": {
      "image/png": "[encoded data removed]",
      "text/plain": [
       "<Figure size 500x300 with 1 Axes>"
      ]
     },
     "metadata": {},
     "output_type": "display_data"
    }
   ],
   "source": [
    "plt.figure(figsize=(5,3))\n",
    "sns.countplot(data=train, x='Family_Group',hue='Survived');"
   ]
  },
  {
   "cell_type": "markdown",
   "id": "219b71ef-b70e-42fb-b6f7-48ac9c795361",
   "metadata": {},
   "source": [
    "- family_Size로 보는 것보다 범주화를 시킨 Family_Group으로 보는 것이 더 이해하기 편함(사람이 편하면 기계도 학습이 편할 가능성이 높음)"
   ]
  },
  {
   "cell_type": "markdown",
   "id": "7e0a77b2-3bf9-4d5d-a37d-7f9688901794",
   "metadata": {},
   "source": [
    "#### Name 컬럼 전처리(Text 데이터)\n",
    "- 영문 이름에 있는 호칭 추출"
   ]
  },
  {
   "cell_type": "code",
   "execution_count": 83,
   "id": "dd787d1b-7494-4d98-9221-c0f0d7fba327",
   "metadata": {},
   "outputs": [
    {
     "data": {
      "text/plain": [
       "PassengerId\n",
       "1                                Braund, Mr. Owen Harris\n",
       "2      Cumings, Mrs. John Bradley (Florence Briggs Th...\n",
       "3                                 Heikkinen, Miss. Laina\n",
       "4           Futrelle, Mrs. Jacques Heath (Lily May Peel)\n",
       "5                               Allen, Mr. William Henry\n",
       "                             ...                        \n",
       "887                                Montvila, Rev. Juozas\n",
       "888                         Graham, Miss. Margaret Edith\n",
       "889             Johnston, Miss. Catherine Helen \"Carrie\"\n",
       "890                                Behr, Mr. Karl Howell\n",
       "891                                  Dooley, Mr. Patrick\n",
       "Name: Name, Length: 891, dtype: object"
      ]
     },
     "execution_count": 83,
     "metadata": {},
     "output_type": "execute_result"
    }
   ],
   "source": [
    "train['Name']"
   ]
  },
  {
   "cell_type": "code",
   "execution_count": 84,
   "id": "e74c092f-43d5-492f-967b-9e175cf83d1f",
   "metadata": {},
   "outputs": [
    {
     "data": {
      "text/plain": [
       "['Braund', ' Mr. Owen Harris']"
      ]
     },
     "execution_count": 84,
     "metadata": {},
     "output_type": "execute_result"
    }
   ],
   "source": [
    "train['Name'][1].split(',')"
   ]
  },
  {
   "cell_type": "code",
   "execution_count": 85,
   "id": "6e9ad285-a622-4d2e-86fe-1a9be9ab497e",
   "metadata": {},
   "outputs": [
    {
     "data": {
      "text/plain": [
       "' Mr. Owen Harris'"
      ]
     },
     "execution_count": 85,
     "metadata": {},
     "output_type": "execute_result"
    }
   ],
   "source": [
    "train['Name'][1].split(',')[1]"
   ]
  },
  {
   "cell_type": "code",
   "execution_count": 86,
   "id": "168dfb90-5755-46ad-9ad9-5b4c71a9bd3b",
   "metadata": {},
   "outputs": [
    {
     "data": {
      "text/plain": [
       "[' Mr', ' Owen Harris']"
      ]
     },
     "execution_count": 86,
     "metadata": {},
     "output_type": "execute_result"
    }
   ],
   "source": [
    "train['Name'][1].split(',')[1].split('.')"
   ]
  },
  {
   "cell_type": "code",
   "execution_count": 87,
   "id": "3ae557e1-c71a-48ad-9279-c5ef90bb96bc",
   "metadata": {},
   "outputs": [
    {
     "data": {
      "text/plain": [
       "' Mr'"
      ]
     },
     "execution_count": 87,
     "metadata": {},
     "output_type": "execute_result"
    }
   ],
   "source": [
    "train['Name'][1].split(',')[1].split('.')[0]"
   ]
  },
  {
   "cell_type": "code",
   "execution_count": 88,
   "id": "3335cb2c-3dae-46cd-94e4-4bc3ef508938",
   "metadata": {},
   "outputs": [
    {
     "data": {
      "text/plain": [
       "'Mr'"
      ]
     },
     "execution_count": 88,
     "metadata": {},
     "output_type": "execute_result"
    }
   ],
   "source": [
    "train['Name'][1].split(',')[1].split('.')[0].strip() #공백 지우기"
   ]
  },
  {
   "cell_type": "code",
   "execution_count": 89,
   "id": "d097841c-a781-4ff0-8d2c-0312f31baf54",
   "metadata": {},
   "outputs": [],
   "source": [
    "def split_title(data) : \n",
    "    return data.split(',')[1].split('.')[0].strip()"
   ]
  },
  {
   "cell_type": "code",
   "execution_count": 90,
   "id": "75e0f2c9-9cb3-4ca9-b539-d22dcbe39c6d",
   "metadata": {},
   "outputs": [],
   "source": [
    "train['Title']=train['Name'].apply(split_title)\n",
    "test['Title']=test['Name'].apply(split_title)\n",
    "\n",
    "#apply 함수에 들어가는 매개변수의 차원에 따라서 axis를 쓸지 안쓸지를 결정함\n",
    "# 현재는 1차원의 Series가 들어가기 때문에 axis를 사용하지 않음(초반에는 train이라는 DF가 들어가서 axis를 설정했던 것!!)"
   ]
  },
  {
   "cell_type": "code",
   "execution_count": 91,
   "id": "131f6f46-2b05-4146-a862-248742fcf130",
   "metadata": {},
   "outputs": [
    {
     "data": {
      "text/plain": [
       "array(['Mr', 'Mrs', 'Miss', 'Master', 'Don', 'Rev', 'Dr', 'Mme', 'Ms',\n",
       "       'Major', 'Lady', 'Sir', 'Mlle', 'Col', 'Capt', 'the Countess',\n",
       "       'Jonkheer'], dtype=object)"
      ]
     },
     "execution_count": 91,
     "metadata": {},
     "output_type": "execute_result"
    }
   ],
   "source": [
    "train['Title'].unique()"
   ]
  },
  {
   "cell_type": "code",
   "execution_count": 92,
   "id": "eaf2c7ce-b1cf-4157-87f8-2fa5ab80c106",
   "metadata": {},
   "outputs": [
    {
     "data": {
      "text/plain": [
       "array(['Mr', 'Mrs', 'Miss', 'Master', 'Ms', 'Col', 'Rev', 'Dr', 'Dona'],\n",
       "      dtype=object)"
      ]
     },
     "execution_count": 92,
     "metadata": {},
     "output_type": "execute_result"
    }
   ],
   "source": [
    "test['Title'].unique()"
   ]
  },
  {
   "cell_type": "code",
   "execution_count": 93,
   "id": "6f95ea78-b526-45df-aeb7-d048ebf3e939",
   "metadata": {},
   "outputs": [
    {
     "data": {
      "image/png": "[encoded data removed]",
      "text/plain": [
       "<Figure size 1000x500 with 1 Axes>"
      ]
     },
     "metadata": {},
     "output_type": "display_data"
    }
   ],
   "source": [
    "plt.figure(figsize=(10,5))\n",
    "plt.ylim(0,10) # y축 범위 지정\n",
    "sns.countplot(data=train, x='Title',hue='Survived');"
   ]
  },
  {
   "cell_type": "markdown",
   "id": "10b4b6aa-827d-4176-a2b0-9e3df45b89dc",
   "metadata": {},
   "source": [
    "- 숭고한 희생을 하신 목사님(Rev)들 까지 같이 넣어서 분ㅅ헉하고 나머지 상대적으로 개수가 적은 호칭들은  other로 지정해서 합치기"
   ]
  },
  {
   "cell_type": "code",
   "execution_count": 95,
   "id": "96405990-08fc-4657-8279-9e31c70c0c51",
   "metadata": {},
   "outputs": [],
   "source": [
    "title=['Mr', 'Mrs', 'Miss', 'Master', 'Rev', 'Don', 'Dr', 'Mme', 'Ms',\n",
    "       'Major', 'Lady', 'Sir', 'Mlle', 'Col', 'Capt', 'the Countess',\n",
    "       'Jonkheer']\n",
    "# 'Mr', 'Mrs', 'Miss', 'Master', 'Rev'는 그대로 사용하고 나머지는 Other로 변경하기"
   ]
  },
  {
   "cell_type": "code",
   "execution_count": 96,
   "id": "5c3fbdd0-69ac-4a3f-a4bd-ab970c9c7b16",
   "metadata": {},
   "outputs": [
    {
     "data": {
      "text/plain": [
       "17"
      ]
     },
     "execution_count": 96,
     "metadata": {},
     "output_type": "execute_result"
    }
   ],
   "source": [
    "len(title)"
   ]
  },
  {
   "cell_type": "code",
   "execution_count": 97,
   "id": "0b7ca121-000d-414e-aaee-19f1cd0ab255",
   "metadata": {},
   "outputs": [],
   "source": [
    "covert_title=['Mr', 'Mrs', 'Miss', 'Master', 'Rev'] +['Other']*12"
   ]
  },
  {
   "cell_type": "code",
   "execution_count": 98,
   "id": "c7f61aa2-f68b-4d60-a8e5-c96638141c27",
   "metadata": {},
   "outputs": [
    {
     "data": {
      "text/plain": [
       "17"
      ]
     },
     "execution_count": 98,
     "metadata": {},
     "output_type": "execute_result"
    }
   ],
   "source": [
    "len(covert_title)"
   ]
  },
  {
   "cell_type": "markdown",
   "id": "9cbdc93b-a0fc-420f-8bfe-63387faa0aaf",
   "metadata": {},
   "source": [
    "- dict(zip()) 함수를 사용하여 리스트 형태인 title과 covert_title의 값들을 순서대로 key-value 로 매핑하여 딕셔너리를 생성"
   ]
  },
  {
   "cell_type": "code",
   "execution_count": 100,
   "id": "0606c9b4-542e-40a7-97b4-b1068f235bd7",
   "metadata": {},
   "outputs": [
    {
     "data": {
      "text/plain": [
       "{1: 'a', 2: 'b', 3: 'c'}"
      ]
     },
     "execution_count": 100,
     "metadata": {},
     "output_type": "execute_result"
    }
   ],
   "source": [
    "train_num=[1,2,3]\n",
    "temp_string=['a','b','c']\n",
    "\n",
    "a=zip(train_num,temp_string)\n",
    "dict(a)"
   ]
  },
  {
   "cell_type": "code",
   "execution_count": 101,
   "id": "9321f0de-b358-4f5d-9a44-8e2cfc6ae643",
   "metadata": {},
   "outputs": [
    {
     "data": {
      "text/plain": [
       "{'Mr': 'Mr',\n",
       " 'Mrs': 'Mrs',\n",
       " 'Miss': 'Miss',\n",
       " 'Master': 'Master',\n",
       " 'Rev': 'Rev',\n",
       " 'Don': 'Other',\n",
       " 'Dr': 'Other',\n",
       " 'Mme': 'Other',\n",
       " 'Ms': 'Other',\n",
       " 'Major': 'Other',\n",
       " 'Lady': 'Other',\n",
       " 'Sir': 'Other',\n",
       " 'Mlle': 'Other',\n",
       " 'Col': 'Other',\n",
       " 'Capt': 'Other',\n",
       " 'the Countess': 'Other',\n",
       " 'Jonkheer': 'Other'}"
      ]
     },
     "execution_count": 101,
     "metadata": {},
     "output_type": "execute_result"
    }
   ],
   "source": [
    "title_dict= dict(zip(title,covert_title))\n",
    "title_dict"
   ]
  },
  {
   "cell_type": "code",
   "execution_count": 102,
   "id": "e4c0511b-919e-4b27-b424-0aae6cb7ed60",
   "metadata": {},
   "outputs": [],
   "source": [
    "# title_dict 이용해서 title 컬럼 값들 변경시키기\n",
    "train['Title'] = train['Title'].map(title_dict)"
   ]
  },
  {
   "cell_type": "code",
   "execution_count": 103,
   "id": "f6e09010-bb72-4ad0-b6e1-f8234bebb18a",
   "metadata": {},
   "outputs": [],
   "source": [
    "title_dict['Dona']='Other'"
   ]
  },
  {
   "cell_type": "code",
   "execution_count": 104,
   "id": "42cab01a-c6bc-459d-9906-d7428b1982c2",
   "metadata": {},
   "outputs": [
    {
     "data": {
      "text/html": [
       "<div>\n",
       "<style scoped>\n",
       "    .dataframe tbody tr th:only-of-type {\n",
       "        vertical-align: middle;\n",
       "    }\n",
       "\n",
       "    .dataframe tbody tr th {\n",
       "        vertical-align: top;\n",
       "    }\n",
       "\n",
       "    .dataframe thead th {\n",
       "        text-align: right;\n",
       "    }\n",
       "</style>\n",
       "<table border=\"1\" class=\"dataframe\">\n",
       "  <thead>\n",
       "    <tr style=\"text-align: right;\">\n",
       "      <th></th>\n",
       "      <th>Pclass</th>\n",
       "      <th>Name</th>\n",
       "      <th>Sex</th>\n",
       "      <th>Age</th>\n",
       "      <th>SibSp</th>\n",
       "      <th>Parch</th>\n",
       "      <th>Ticket</th>\n",
       "      <th>Fare</th>\n",
       "      <th>Embarked</th>\n",
       "      <th>Deck</th>\n",
       "      <th>Family_Size</th>\n",
       "      <th>Family_Group</th>\n",
       "      <th>Title</th>\n",
       "    </tr>\n",
       "    <tr>\n",
       "      <th>PassengerId</th>\n",
       "      <th></th>\n",
       "      <th></th>\n",
       "      <th></th>\n",
       "      <th></th>\n",
       "      <th></th>\n",
       "      <th></th>\n",
       "      <th></th>\n",
       "      <th></th>\n",
       "      <th></th>\n",
       "      <th></th>\n",
       "      <th></th>\n",
       "      <th></th>\n",
       "      <th></th>\n",
       "    </tr>\n",
       "  </thead>\n",
       "  <tbody>\n",
       "    <tr>\n",
       "      <th>1306</th>\n",
       "      <td>1</td>\n",
       "      <td>Oliva y Ocana, Dona. Fermina</td>\n",
       "      <td>female</td>\n",
       "      <td>39</td>\n",
       "      <td>0</td>\n",
       "      <td>0</td>\n",
       "      <td>PC 17758</td>\n",
       "      <td>108.9</td>\n",
       "      <td>C</td>\n",
       "      <td>C</td>\n",
       "      <td>1</td>\n",
       "      <td>Alone</td>\n",
       "      <td>Dona</td>\n",
       "    </tr>\n",
       "  </tbody>\n",
       "</table>\n",
       "</div>"
      ],
      "text/plain": [
       "             Pclass                          Name     Sex  Age  SibSp  Parch  \\\n",
       "PassengerId                                                                    \n",
       "1306              1  Oliva y Ocana, Dona. Fermina  female   39      0      0   \n",
       "\n",
       "               Ticket   Fare Embarked Deck  Family_Size Family_Group Title  \n",
       "PassengerId                                                                 \n",
       "1306         PC 17758  108.9        C    C            1        Alone  Dona  "
      ]
     },
     "execution_count": 104,
     "metadata": {},
     "output_type": "execute_result"
    }
   ],
   "source": [
    "test[test['Title']=='Dona']"
   ]
  },
  {
   "cell_type": "code",
   "execution_count": 105,
   "id": "c52d7021-ed42-49e8-8f2c-98953729f14c",
   "metadata": {},
   "outputs": [
    {
     "data": {
      "text/plain": [
       "PassengerId\n",
       "892         Mr\n",
       "893        Mrs\n",
       "894         Mr\n",
       "895         Mr\n",
       "896        Mrs\n",
       "         ...  \n",
       "1305        Mr\n",
       "1306     Other\n",
       "1307        Mr\n",
       "1308        Mr\n",
       "1309    Master\n",
       "Name: Title, Length: 418, dtype: object"
      ]
     },
     "execution_count": 105,
     "metadata": {},
     "output_type": "execute_result"
    }
   ],
   "source": [
    "test['Title'] = test['Title'].map(title_dict)\n",
    "test['Title'] "
   ]
  },
  {
   "cell_type": "code",
   "execution_count": 106,
   "id": "1097d1de-ce18-46aa-95c6-4d7fba27dd35",
   "metadata": {},
   "outputs": [
    {
     "name": "stdout",
     "output_type": "stream",
     "text": [
      "<class 'pandas.core.frame.DataFrame'>\n",
      "Index: 891 entries, 1 to 891\n",
      "Data columns (total 14 columns):\n",
      " #   Column        Non-Null Count  Dtype   \n",
      "---  ------        --------------  -----   \n",
      " 0   Survived      891 non-null    int64   \n",
      " 1   Pclass        891 non-null    int64   \n",
      " 2   Name          891 non-null    object  \n",
      " 3   Sex           891 non-null    object  \n",
      " 4   Age           891 non-null    int64   \n",
      " 5   SibSp         891 non-null    int64   \n",
      " 6   Parch         891 non-null    int64   \n",
      " 7   Ticket        891 non-null    object  \n",
      " 8   Fare          891 non-null    float64 \n",
      " 9   Embarked      891 non-null    object  \n",
      " 10  Deck          891 non-null    object  \n",
      " 11  Family_Size   891 non-null    int64   \n",
      " 12  Family_Group  891 non-null    category\n",
      " 13  Title         891 non-null    object  \n",
      "dtypes: category(1), float64(1), int64(6), object(6)\n",
      "memory usage: 130.7+ KB\n"
     ]
    }
   ],
   "source": [
    "train.info()"
   ]
  },
  {
   "cell_type": "markdown",
   "id": "bb431933-bc3d-4ba4-bbfb-91c92ea285ba",
   "metadata": {},
   "source": [
    "#### 학습에 사용하지 않은 컬럼(Name,SibSp,Parch,Ticket,Family_Size)"
   ]
  },
  {
   "cell_type": "code",
   "execution_count": 108,
   "id": "f523bb90-a51f-44b3-9c66-c196eae5dda0",
   "metadata": {},
   "outputs": [],
   "source": [
    "train.drop(['Name','SibSp','Parch','Ticket','Family_Size'],axis=1,inplace=True)\n",
    "test.drop(['Name','SibSp','Parch','Ticket','Family_Size'],axis=1,inplace=True)"
   ]
  },
  {
   "cell_type": "code",
   "execution_count": 109,
   "id": "7d41cdd3-994a-41e4-abfd-ff62c17483e4",
   "metadata": {},
   "outputs": [
    {
     "name": "stdout",
     "output_type": "stream",
     "text": [
      "<class 'pandas.core.frame.DataFrame'>\n",
      "Index: 891 entries, 1 to 891\n",
      "Data columns (total 9 columns):\n",
      " #   Column        Non-Null Count  Dtype   \n",
      "---  ------        --------------  -----   \n",
      " 0   Survived      891 non-null    int64   \n",
      " 1   Pclass        891 non-null    int64   \n",
      " 2   Sex           891 non-null    object  \n",
      " 3   Age           891 non-null    int64   \n",
      " 4   Fare          891 non-null    float64 \n",
      " 5   Embarked      891 non-null    object  \n",
      " 6   Deck          891 non-null    object  \n",
      " 7   Family_Group  891 non-null    category\n",
      " 8   Title         891 non-null    object  \n",
      "dtypes: category(1), float64(1), int64(3), object(4)\n",
      "memory usage: 95.9+ KB\n"
     ]
    }
   ],
   "source": [
    "train.info()"
   ]
  },
  {
   "cell_type": "code",
   "execution_count": 110,
   "id": "6317c7df-9e6a-4e41-8a81-7c7d366aaf5b",
   "metadata": {},
   "outputs": [
    {
     "name": "stdout",
     "output_type": "stream",
     "text": [
      "<class 'pandas.core.frame.DataFrame'>\n",
      "Index: 418 entries, 892 to 1309\n",
      "Data columns (total 8 columns):\n",
      " #   Column        Non-Null Count  Dtype   \n",
      "---  ------        --------------  -----   \n",
      " 0   Pclass        418 non-null    int64   \n",
      " 1   Sex           418 non-null    object  \n",
      " 2   Age           418 non-null    int64   \n",
      " 3   Fare          418 non-null    float64 \n",
      " 4   Embarked      418 non-null    object  \n",
      " 5   Deck          418 non-null    object  \n",
      " 6   Family_Group  418 non-null    category\n",
      " 7   Title         418 non-null    object  \n",
      "dtypes: category(1), float64(1), int64(2), object(4)\n",
      "memory usage: 26.7+ KB\n"
     ]
    }
   ],
   "source": [
    "test.info()"
   ]
  },
  {
   "cell_type": "markdown",
   "id": "87e77c71-d596-48f1-9a64-8ef3001791e6",
   "metadata": {},
   "source": [
    "## 5. 모델링(데이터 가공, 모델 선택, 학습, 평가)\n",
    "- y-test가 없기 때문에 직접적인 평가를 할 수는 없으며  train 데이터의 정확도를 보고 높게 나오는 모델로 pred를 만들어서 kaggle에 업로드 한 뒤 평가 결과를 봐야함\n",
    " "
   ]
  },
  {
   "cell_type": "code",
   "execution_count": 112,
   "id": "fe66ca19-1d40-4d52-92bb-c34d309b10e8",
   "metadata": {},
   "outputs": [
    {
     "name": "stdout",
     "output_type": "stream",
     "text": [
      "(891, 8)\n",
      "(891,)\n",
      "(418, 8)\n"
     ]
    }
   ],
   "source": [
    "X_train=train.loc[:,'Pclass':]\n",
    "y_train=train.loc[:,'Survived']\n",
    "X_test=test\n",
    "\n",
    "# y_train=train.loc[:,'Survived']\n",
    "# X_train= train.drop('Survived',axis=1)\n",
    "\n",
    "print(X_train.shape)\n",
    "print(y_train.shape)\n",
    "print(X_test.shape)"
   ]
  },
  {
   "cell_type": "code",
   "execution_count": 113,
   "id": "b7388a35-8e4c-4eec-933b-048bfaf20fbb",
   "metadata": {},
   "outputs": [
    {
     "data": {
      "text/html": [
       "<div>\n",
       "<style scoped>\n",
       "    .dataframe tbody tr th:only-of-type {\n",
       "        vertical-align: middle;\n",
       "    }\n",
       "\n",
       "    .dataframe tbody tr th {\n",
       "        vertical-align: top;\n",
       "    }\n",
       "\n",
       "    .dataframe thead th {\n",
       "        text-align: right;\n",
       "    }\n",
       "</style>\n",
       "<table border=\"1\" class=\"dataframe\">\n",
       "  <thead>\n",
       "    <tr style=\"text-align: right;\">\n",
       "      <th></th>\n",
       "      <th>Pclass</th>\n",
       "      <th>Sex</th>\n",
       "      <th>Age</th>\n",
       "      <th>Fare</th>\n",
       "      <th>Embarked</th>\n",
       "      <th>Deck</th>\n",
       "      <th>Family_Group</th>\n",
       "      <th>Title</th>\n",
       "    </tr>\n",
       "    <tr>\n",
       "      <th>PassengerId</th>\n",
       "      <th></th>\n",
       "      <th></th>\n",
       "      <th></th>\n",
       "      <th></th>\n",
       "      <th></th>\n",
       "      <th></th>\n",
       "      <th></th>\n",
       "      <th></th>\n",
       "    </tr>\n",
       "  </thead>\n",
       "  <tbody>\n",
       "    <tr>\n",
       "      <th>1</th>\n",
       "      <td>3</td>\n",
       "      <td>male</td>\n",
       "      <td>22</td>\n",
       "      <td>7.2500</td>\n",
       "      <td>S</td>\n",
       "      <td>M</td>\n",
       "      <td>Small</td>\n",
       "      <td>Mr</td>\n",
       "    </tr>\n",
       "    <tr>\n",
       "      <th>2</th>\n",
       "      <td>1</td>\n",
       "      <td>female</td>\n",
       "      <td>38</td>\n",
       "      <td>71.2833</td>\n",
       "      <td>C</td>\n",
       "      <td>C</td>\n",
       "      <td>Small</td>\n",
       "      <td>Mrs</td>\n",
       "    </tr>\n",
       "    <tr>\n",
       "      <th>3</th>\n",
       "      <td>3</td>\n",
       "      <td>female</td>\n",
       "      <td>26</td>\n",
       "      <td>7.9250</td>\n",
       "      <td>S</td>\n",
       "      <td>M</td>\n",
       "      <td>Alone</td>\n",
       "      <td>Miss</td>\n",
       "    </tr>\n",
       "    <tr>\n",
       "      <th>4</th>\n",
       "      <td>1</td>\n",
       "      <td>female</td>\n",
       "      <td>35</td>\n",
       "      <td>53.1000</td>\n",
       "      <td>S</td>\n",
       "      <td>C</td>\n",
       "      <td>Small</td>\n",
       "      <td>Mrs</td>\n",
       "    </tr>\n",
       "    <tr>\n",
       "      <th>5</th>\n",
       "      <td>3</td>\n",
       "      <td>male</td>\n",
       "      <td>35</td>\n",
       "      <td>8.0500</td>\n",
       "      <td>S</td>\n",
       "      <td>M</td>\n",
       "      <td>Alone</td>\n",
       "      <td>Mr</td>\n",
       "    </tr>\n",
       "    <tr>\n",
       "      <th>...</th>\n",
       "      <td>...</td>\n",
       "      <td>...</td>\n",
       "      <td>...</td>\n",
       "      <td>...</td>\n",
       "      <td>...</td>\n",
       "      <td>...</td>\n",
       "      <td>...</td>\n",
       "      <td>...</td>\n",
       "    </tr>\n",
       "    <tr>\n",
       "      <th>887</th>\n",
       "      <td>2</td>\n",
       "      <td>male</td>\n",
       "      <td>27</td>\n",
       "      <td>13.0000</td>\n",
       "      <td>S</td>\n",
       "      <td>M</td>\n",
       "      <td>Alone</td>\n",
       "      <td>Rev</td>\n",
       "    </tr>\n",
       "    <tr>\n",
       "      <th>888</th>\n",
       "      <td>1</td>\n",
       "      <td>female</td>\n",
       "      <td>19</td>\n",
       "      <td>30.0000</td>\n",
       "      <td>S</td>\n",
       "      <td>B</td>\n",
       "      <td>Alone</td>\n",
       "      <td>Miss</td>\n",
       "    </tr>\n",
       "    <tr>\n",
       "      <th>889</th>\n",
       "      <td>3</td>\n",
       "      <td>female</td>\n",
       "      <td>21</td>\n",
       "      <td>23.4500</td>\n",
       "      <td>S</td>\n",
       "      <td>M</td>\n",
       "      <td>Small</td>\n",
       "      <td>Miss</td>\n",
       "    </tr>\n",
       "    <tr>\n",
       "      <th>890</th>\n",
       "      <td>1</td>\n",
       "      <td>male</td>\n",
       "      <td>26</td>\n",
       "      <td>30.0000</td>\n",
       "      <td>C</td>\n",
       "      <td>C</td>\n",
       "      <td>Alone</td>\n",
       "      <td>Mr</td>\n",
       "    </tr>\n",
       "    <tr>\n",
       "      <th>891</th>\n",
       "      <td>3</td>\n",
       "      <td>male</td>\n",
       "      <td>32</td>\n",
       "      <td>7.7500</td>\n",
       "      <td>Q</td>\n",
       "      <td>M</td>\n",
       "      <td>Alone</td>\n",
       "      <td>Mr</td>\n",
       "    </tr>\n",
       "  </tbody>\n",
       "</table>\n",
       "<p>891 rows × 8 columns</p>\n",
       "</div>"
      ],
      "text/plain": [
       "             Pclass     Sex  Age     Fare Embarked Deck Family_Group Title\n",
       "PassengerId                                                               \n",
       "1                 3    male   22   7.2500        S    M        Small    Mr\n",
       "2                 1  female   38  71.2833        C    C        Small   Mrs\n",
       "3                 3  female   26   7.9250        S    M        Alone  Miss\n",
       "4                 1  female   35  53.1000        S    C        Small   Mrs\n",
       "5                 3    male   35   8.0500        S    M        Alone    Mr\n",
       "...             ...     ...  ...      ...      ...  ...          ...   ...\n",
       "887               2    male   27  13.0000        S    M        Alone   Rev\n",
       "888               1  female   19  30.0000        S    B        Alone  Miss\n",
       "889               3  female   21  23.4500        S    M        Small  Miss\n",
       "890               1    male   26  30.0000        C    C        Alone    Mr\n",
       "891               3    male   32   7.7500        Q    M        Alone    Mr\n",
       "\n",
       "[891 rows x 8 columns]"
      ]
     },
     "execution_count": 113,
     "metadata": {},
     "output_type": "execute_result"
    }
   ],
   "source": [
    "X_train"
   ]
  },
  {
   "cell_type": "code",
   "execution_count": 114,
   "id": "724b8788-9e48-4622-b32c-7d9107dba7a7",
   "metadata": {},
   "outputs": [
    {
     "data": {
      "text/plain": [
       "PassengerId\n",
       "1      0\n",
       "2      1\n",
       "3      1\n",
       "4      1\n",
       "5      0\n",
       "      ..\n",
       "887    0\n",
       "888    1\n",
       "889    0\n",
       "890    1\n",
       "891    0\n",
       "Name: Survived, Length: 891, dtype: int64"
      ]
     },
     "execution_count": 114,
     "metadata": {},
     "output_type": "execute_result"
    }
   ],
   "source": [
    "y_train"
   ]
  },
  {
   "cell_type": "code",
   "execution_count": 115,
   "id": "c9577179-ea0b-4a47-bd89-1dc04b0406c5",
   "metadata": {},
   "outputs": [
    {
     "data": {
      "text/html": [
       "<div>\n",
       "<style scoped>\n",
       "    .dataframe tbody tr th:only-of-type {\n",
       "        vertical-align: middle;\n",
       "    }\n",
       "\n",
       "    .dataframe tbody tr th {\n",
       "        vertical-align: top;\n",
       "    }\n",
       "\n",
       "    .dataframe thead th {\n",
       "        text-align: right;\n",
       "    }\n",
       "</style>\n",
       "<table border=\"1\" class=\"dataframe\">\n",
       "  <thead>\n",
       "    <tr style=\"text-align: right;\">\n",
       "      <th></th>\n",
       "      <th>Pclass</th>\n",
       "      <th>Sex</th>\n",
       "      <th>Age</th>\n",
       "      <th>Fare</th>\n",
       "      <th>Embarked</th>\n",
       "      <th>Deck</th>\n",
       "      <th>Family_Group</th>\n",
       "      <th>Title</th>\n",
       "    </tr>\n",
       "    <tr>\n",
       "      <th>PassengerId</th>\n",
       "      <th></th>\n",
       "      <th></th>\n",
       "      <th></th>\n",
       "      <th></th>\n",
       "      <th></th>\n",
       "      <th></th>\n",
       "      <th></th>\n",
       "      <th></th>\n",
       "    </tr>\n",
       "  </thead>\n",
       "  <tbody>\n",
       "    <tr>\n",
       "      <th>892</th>\n",
       "      <td>3</td>\n",
       "      <td>male</td>\n",
       "      <td>34</td>\n",
       "      <td>7.8292</td>\n",
       "      <td>Q</td>\n",
       "      <td>M</td>\n",
       "      <td>Alone</td>\n",
       "      <td>Mr</td>\n",
       "    </tr>\n",
       "    <tr>\n",
       "      <th>893</th>\n",
       "      <td>3</td>\n",
       "      <td>female</td>\n",
       "      <td>47</td>\n",
       "      <td>7.0000</td>\n",
       "      <td>S</td>\n",
       "      <td>M</td>\n",
       "      <td>Small</td>\n",
       "      <td>Mrs</td>\n",
       "    </tr>\n",
       "    <tr>\n",
       "      <th>894</th>\n",
       "      <td>2</td>\n",
       "      <td>male</td>\n",
       "      <td>62</td>\n",
       "      <td>9.6875</td>\n",
       "      <td>Q</td>\n",
       "      <td>M</td>\n",
       "      <td>Alone</td>\n",
       "      <td>Mr</td>\n",
       "    </tr>\n",
       "    <tr>\n",
       "      <th>895</th>\n",
       "      <td>3</td>\n",
       "      <td>male</td>\n",
       "      <td>27</td>\n",
       "      <td>8.6625</td>\n",
       "      <td>S</td>\n",
       "      <td>M</td>\n",
       "      <td>Alone</td>\n",
       "      <td>Mr</td>\n",
       "    </tr>\n",
       "    <tr>\n",
       "      <th>896</th>\n",
       "      <td>3</td>\n",
       "      <td>female</td>\n",
       "      <td>22</td>\n",
       "      <td>12.2875</td>\n",
       "      <td>S</td>\n",
       "      <td>M</td>\n",
       "      <td>Small</td>\n",
       "      <td>Mrs</td>\n",
       "    </tr>\n",
       "    <tr>\n",
       "      <th>...</th>\n",
       "      <td>...</td>\n",
       "      <td>...</td>\n",
       "      <td>...</td>\n",
       "      <td>...</td>\n",
       "      <td>...</td>\n",
       "      <td>...</td>\n",
       "      <td>...</td>\n",
       "      <td>...</td>\n",
       "    </tr>\n",
       "    <tr>\n",
       "      <th>1305</th>\n",
       "      <td>3</td>\n",
       "      <td>male</td>\n",
       "      <td>26</td>\n",
       "      <td>8.0500</td>\n",
       "      <td>S</td>\n",
       "      <td>M</td>\n",
       "      <td>Alone</td>\n",
       "      <td>Mr</td>\n",
       "    </tr>\n",
       "    <tr>\n",
       "      <th>1306</th>\n",
       "      <td>1</td>\n",
       "      <td>female</td>\n",
       "      <td>39</td>\n",
       "      <td>108.9000</td>\n",
       "      <td>C</td>\n",
       "      <td>C</td>\n",
       "      <td>Alone</td>\n",
       "      <td>Other</td>\n",
       "    </tr>\n",
       "    <tr>\n",
       "      <th>1307</th>\n",
       "      <td>3</td>\n",
       "      <td>male</td>\n",
       "      <td>38</td>\n",
       "      <td>7.2500</td>\n",
       "      <td>S</td>\n",
       "      <td>M</td>\n",
       "      <td>Alone</td>\n",
       "      <td>Mr</td>\n",
       "    </tr>\n",
       "    <tr>\n",
       "      <th>1308</th>\n",
       "      <td>3</td>\n",
       "      <td>male</td>\n",
       "      <td>26</td>\n",
       "      <td>8.0500</td>\n",
       "      <td>S</td>\n",
       "      <td>M</td>\n",
       "      <td>Alone</td>\n",
       "      <td>Mr</td>\n",
       "    </tr>\n",
       "    <tr>\n",
       "      <th>1309</th>\n",
       "      <td>3</td>\n",
       "      <td>male</td>\n",
       "      <td>26</td>\n",
       "      <td>22.3583</td>\n",
       "      <td>C</td>\n",
       "      <td>M</td>\n",
       "      <td>Small</td>\n",
       "      <td>Master</td>\n",
       "    </tr>\n",
       "  </tbody>\n",
       "</table>\n",
       "<p>418 rows × 8 columns</p>\n",
       "</div>"
      ],
      "text/plain": [
       "             Pclass     Sex  Age      Fare Embarked Deck Family_Group   Title\n",
       "PassengerId                                                                  \n",
       "892               3    male   34    7.8292        Q    M        Alone      Mr\n",
       "893               3  female   47    7.0000        S    M        Small     Mrs\n",
       "894               2    male   62    9.6875        Q    M        Alone      Mr\n",
       "895               3    male   27    8.6625        S    M        Alone      Mr\n",
       "896               3  female   22   12.2875        S    M        Small     Mrs\n",
       "...             ...     ...  ...       ...      ...  ...          ...     ...\n",
       "1305              3    male   26    8.0500        S    M        Alone      Mr\n",
       "1306              1  female   39  108.9000        C    C        Alone   Other\n",
       "1307              3    male   38    7.2500        S    M        Alone      Mr\n",
       "1308              3    male   26    8.0500        S    M        Alone      Mr\n",
       "1309              3    male   26   22.3583        C    M        Small  Master\n",
       "\n",
       "[418 rows x 8 columns]"
      ]
     },
     "execution_count": 115,
     "metadata": {},
     "output_type": "execute_result"
    }
   ],
   "source": [
    "X_test"
   ]
  },
  {
   "cell_type": "markdown",
   "id": "a97ac298-c1f8-4cb4-acb6-53890d13c437",
   "metadata": {},
   "source": [
    "## 문자형 데이터 인코딩 "
   ]
  },
  {
   "cell_type": "code",
   "execution_count": 117,
   "id": "6ae1a6dc-8d4e-4e27-9dbb-66a5cc21e06b",
   "metadata": {},
   "outputs": [
    {
     "name": "stdout",
     "output_type": "stream",
     "text": [
      "(891, 26)\n",
      "(418, 25)\n"
     ]
    }
   ],
   "source": [
    "X_train = pd.get_dummies(X_train, dtype=int)\n",
    "X_test = pd.get_dummies(X_test, dtype=int)\n",
    "print(X_train.shape)\n",
    "print(X_test.shape)"
   ]
  },
  {
   "cell_type": "code",
   "execution_count": 118,
   "id": "d5ec72e7-1424-4273-8385-1ab86a8ed311",
   "metadata": {},
   "outputs": [
    {
     "data": {
      "text/plain": [
       "Index(['Pclass', 'Age', 'Fare', 'Sex_female', 'Sex_male', 'Embarked_C',\n",
       "       'Embarked_Q', 'Embarked_S', 'Deck_A', 'Deck_B', 'Deck_C', 'Deck_D',\n",
       "       'Deck_E', 'Deck_F', 'Deck_G', 'Deck_M', 'Deck_T', 'Family_Group_Alone',\n",
       "       'Family_Group_Small', 'Family_Group_Large', 'Title_Master',\n",
       "       'Title_Miss', 'Title_Mr', 'Title_Mrs', 'Title_Other', 'Title_Rev'],\n",
       "      dtype='object')"
      ]
     },
     "execution_count": 118,
     "metadata": {},
     "output_type": "execute_result"
    }
   ],
   "source": [
    "X_train.columns"
   ]
  },
  {
   "cell_type": "code",
   "execution_count": 119,
   "id": "9167aa56-5703-4ea4-9316-66fba8ba4d20",
   "metadata": {},
   "outputs": [
    {
     "data": {
      "text/plain": [
       "Index(['Pclass', 'Age', 'Fare', 'Sex_female', 'Sex_male', 'Embarked_C',\n",
       "       'Embarked_Q', 'Embarked_S', 'Deck_A', 'Deck_B', 'Deck_C', 'Deck_D',\n",
       "       'Deck_E', 'Deck_F', 'Deck_G', 'Deck_M', 'Family_Group_Alone',\n",
       "       'Family_Group_Small', 'Family_Group_Large', 'Title_Master',\n",
       "       'Title_Miss', 'Title_Mr', 'Title_Mrs', 'Title_Other', 'Title_Rev'],\n",
       "      dtype='object')"
      ]
     },
     "execution_count": 119,
     "metadata": {},
     "output_type": "execute_result"
    }
   ],
   "source": [
    "X_test.columns"
   ]
  },
  {
   "cell_type": "code",
   "execution_count": 120,
   "id": "a5ef21f4-4605-4209-9f0b-106e24909395",
   "metadata": {},
   "outputs": [
    {
     "data": {
      "text/plain": [
       "{'Deck_T'}"
      ]
     },
     "execution_count": 120,
     "metadata": {},
     "output_type": "execute_result"
    }
   ],
   "source": [
    "# set 중복이 없는 요소 들로만 구성된 집합\n",
    "set(X_train.columns) - set(X_test.columns)"
   ]
  },
  {
   "cell_type": "markdown",
   "id": "a7d1e8d8-a32e-42ff-82e7-11998493e26d",
   "metadata": {},
   "source": [
    "- 즉, X_train 에는 객실 구역중에  T라는 구역이 있는데 반면 X_test에는 같은 데이터가 없었음"
   ]
  },
  {
   "cell_type": "code",
   "execution_count": 122,
   "id": "7561037b-1959-4497-90c1-bb9827cb5866",
   "metadata": {},
   "outputs": [
    {
     "data": {
      "text/plain": [
       "PassengerId\n",
       "340    1\n",
       "Name: Deck_T, dtype: int32"
      ]
     },
     "execution_count": 122,
     "metadata": {},
     "output_type": "execute_result"
    }
   ],
   "source": [
    "X_train['Deck_T'][X_train['Deck_T']==1]"
   ]
  },
  {
   "cell_type": "code",
   "execution_count": 123,
   "id": "43134d5b-5d5b-4cc9-a7c9-207d1bc10bf6",
   "metadata": {},
   "outputs": [],
   "source": [
    "X_test['Deck_T'] = 0"
   ]
  },
  {
   "cell_type": "markdown",
   "id": "ec113a04-96c5-4b56-848a-b8e48135986b",
   "metadata": {},
   "source": [
    "- 기계학습을 위해 X_train, X_test 컬럼들의 순서를 동일하게 맞춰줘야 함\n",
    "- X_train의 Deck_T를 맨 마지막으로 옮기기"
   ]
  },
  {
   "cell_type": "code",
   "execution_count": 125,
   "id": "37457296-1b0f-4e12-ac31-1ccf7ad14593",
   "metadata": {},
   "outputs": [],
   "source": [
    "a=X_train['Deck_T']\n",
    "X_train.drop('Deck_T',axis=1,inplace=True)\n",
    "X_train['Deck_T']=a         #X_train =pd.concat([X_train,temp], axis=1)"
   ]
  },
  {
   "cell_type": "code",
   "execution_count": 126,
   "id": "0bf81c0b-2874-4833-b1a7-ab797352d8a9",
   "metadata": {},
   "outputs": [
    {
     "data": {
      "text/plain": [
       "Index(['Pclass', 'Age', 'Fare', 'Sex_female', 'Sex_male', 'Embarked_C',\n",
       "       'Embarked_Q', 'Embarked_S', 'Deck_A', 'Deck_B', 'Deck_C', 'Deck_D',\n",
       "       'Deck_E', 'Deck_F', 'Deck_G', 'Deck_M', 'Family_Group_Alone',\n",
       "       'Family_Group_Small', 'Family_Group_Large', 'Title_Master',\n",
       "       'Title_Miss', 'Title_Mr', 'Title_Mrs', 'Title_Other', 'Title_Rev',\n",
       "       'Deck_T'],\n",
       "      dtype='object')"
      ]
     },
     "execution_count": 126,
     "metadata": {},
     "output_type": "execute_result"
    }
   ],
   "source": [
    "X_train.columns"
   ]
  },
  {
   "cell_type": "code",
   "execution_count": 127,
   "id": "5098a688-9ffb-4ccd-94d9-c5e6e5fd31bf",
   "metadata": {},
   "outputs": [
    {
     "data": {
      "text/plain": [
       "Index(['Pclass', 'Age', 'Fare', 'Sex_female', 'Sex_male', 'Embarked_C',\n",
       "       'Embarked_Q', 'Embarked_S', 'Deck_A', 'Deck_B', 'Deck_C', 'Deck_D',\n",
       "       'Deck_E', 'Deck_F', 'Deck_G', 'Deck_M', 'Family_Group_Alone',\n",
       "       'Family_Group_Small', 'Family_Group_Large', 'Title_Master',\n",
       "       'Title_Miss', 'Title_Mr', 'Title_Mrs', 'Title_Other', 'Title_Rev',\n",
       "       'Deck_T'],\n",
       "      dtype='object')"
      ]
     },
     "execution_count": 127,
     "metadata": {},
     "output_type": "execute_result"
    }
   ],
   "source": [
    "X_test.columns"
   ]
  },
  {
   "cell_type": "code",
   "execution_count": 128,
   "id": "2db2ccee-6f8a-4ac5-b6c0-c460d64266ac",
   "metadata": {
    "scrolled": true
   },
   "outputs": [
    {
     "data": {
      "text/html": [
       "<div>\n",
       "<style scoped>\n",
       "    .dataframe tbody tr th:only-of-type {\n",
       "        vertical-align: middle;\n",
       "    }\n",
       "\n",
       "    .dataframe tbody tr th {\n",
       "        vertical-align: top;\n",
       "    }\n",
       "\n",
       "    .dataframe thead th {\n",
       "        text-align: right;\n",
       "    }\n",
       "</style>\n",
       "<table border=\"1\" class=\"dataframe\">\n",
       "  <thead>\n",
       "    <tr style=\"text-align: right;\">\n",
       "      <th></th>\n",
       "      <th>Pclass</th>\n",
       "      <th>Age</th>\n",
       "      <th>Fare</th>\n",
       "      <th>Sex_female</th>\n",
       "      <th>Sex_male</th>\n",
       "      <th>Embarked_C</th>\n",
       "      <th>Embarked_Q</th>\n",
       "      <th>Embarked_S</th>\n",
       "      <th>Deck_A</th>\n",
       "      <th>Deck_B</th>\n",
       "      <th>...</th>\n",
       "      <th>Family_Group_Alone</th>\n",
       "      <th>Family_Group_Small</th>\n",
       "      <th>Family_Group_Large</th>\n",
       "      <th>Title_Master</th>\n",
       "      <th>Title_Miss</th>\n",
       "      <th>Title_Mr</th>\n",
       "      <th>Title_Mrs</th>\n",
       "      <th>Title_Other</th>\n",
       "      <th>Title_Rev</th>\n",
       "      <th>Deck_T</th>\n",
       "    </tr>\n",
       "    <tr>\n",
       "      <th>PassengerId</th>\n",
       "      <th></th>\n",
       "      <th></th>\n",
       "      <th></th>\n",
       "      <th></th>\n",
       "      <th></th>\n",
       "      <th></th>\n",
       "      <th></th>\n",
       "      <th></th>\n",
       "      <th></th>\n",
       "      <th></th>\n",
       "      <th></th>\n",
       "      <th></th>\n",
       "      <th></th>\n",
       "      <th></th>\n",
       "      <th></th>\n",
       "      <th></th>\n",
       "      <th></th>\n",
       "      <th></th>\n",
       "      <th></th>\n",
       "      <th></th>\n",
       "      <th></th>\n",
       "    </tr>\n",
       "  </thead>\n",
       "  <tbody>\n",
       "    <tr>\n",
       "      <th>1</th>\n",
       "      <td>3</td>\n",
       "      <td>22</td>\n",
       "      <td>7.2500</td>\n",
       "      <td>0</td>\n",
       "      <td>1</td>\n",
       "      <td>0</td>\n",
       "      <td>0</td>\n",
       "      <td>1</td>\n",
       "      <td>0</td>\n",
       "      <td>0</td>\n",
       "      <td>...</td>\n",
       "      <td>0</td>\n",
       "      <td>1</td>\n",
       "      <td>0</td>\n",
       "      <td>0</td>\n",
       "      <td>0</td>\n",
       "      <td>1</td>\n",
       "      <td>0</td>\n",
       "      <td>0</td>\n",
       "      <td>0</td>\n",
       "      <td>0</td>\n",
       "    </tr>\n",
       "    <tr>\n",
       "      <th>2</th>\n",
       "      <td>1</td>\n",
       "      <td>38</td>\n",
       "      <td>71.2833</td>\n",
       "      <td>1</td>\n",
       "      <td>0</td>\n",
       "      <td>1</td>\n",
       "      <td>0</td>\n",
       "      <td>0</td>\n",
       "      <td>0</td>\n",
       "      <td>0</td>\n",
       "      <td>...</td>\n",
       "      <td>0</td>\n",
       "      <td>1</td>\n",
       "      <td>0</td>\n",
       "      <td>0</td>\n",
       "      <td>0</td>\n",
       "      <td>0</td>\n",
       "      <td>1</td>\n",
       "      <td>0</td>\n",
       "      <td>0</td>\n",
       "      <td>0</td>\n",
       "    </tr>\n",
       "    <tr>\n",
       "      <th>3</th>\n",
       "      <td>3</td>\n",
       "      <td>26</td>\n",
       "      <td>7.9250</td>\n",
       "      <td>1</td>\n",
       "      <td>0</td>\n",
       "      <td>0</td>\n",
       "      <td>0</td>\n",
       "      <td>1</td>\n",
       "      <td>0</td>\n",
       "      <td>0</td>\n",
       "      <td>...</td>\n",
       "      <td>1</td>\n",
       "      <td>0</td>\n",
       "      <td>0</td>\n",
       "      <td>0</td>\n",
       "      <td>1</td>\n",
       "      <td>0</td>\n",
       "      <td>0</td>\n",
       "      <td>0</td>\n",
       "      <td>0</td>\n",
       "      <td>0</td>\n",
       "    </tr>\n",
       "    <tr>\n",
       "      <th>4</th>\n",
       "      <td>1</td>\n",
       "      <td>35</td>\n",
       "      <td>53.1000</td>\n",
       "      <td>1</td>\n",
       "      <td>0</td>\n",
       "      <td>0</td>\n",
       "      <td>0</td>\n",
       "      <td>1</td>\n",
       "      <td>0</td>\n",
       "      <td>0</td>\n",
       "      <td>...</td>\n",
       "      <td>0</td>\n",
       "      <td>1</td>\n",
       "      <td>0</td>\n",
       "      <td>0</td>\n",
       "      <td>0</td>\n",
       "      <td>0</td>\n",
       "      <td>1</td>\n",
       "      <td>0</td>\n",
       "      <td>0</td>\n",
       "      <td>0</td>\n",
       "    </tr>\n",
       "    <tr>\n",
       "      <th>5</th>\n",
       "      <td>3</td>\n",
       "      <td>35</td>\n",
       "      <td>8.0500</td>\n",
       "      <td>0</td>\n",
       "      <td>1</td>\n",
       "      <td>0</td>\n",
       "      <td>0</td>\n",
       "      <td>1</td>\n",
       "      <td>0</td>\n",
       "      <td>0</td>\n",
       "      <td>...</td>\n",
       "      <td>1</td>\n",
       "      <td>0</td>\n",
       "      <td>0</td>\n",
       "      <td>0</td>\n",
       "      <td>0</td>\n",
       "      <td>1</td>\n",
       "      <td>0</td>\n",
       "      <td>0</td>\n",
       "      <td>0</td>\n",
       "      <td>0</td>\n",
       "    </tr>\n",
       "    <tr>\n",
       "      <th>...</th>\n",
       "      <td>...</td>\n",
       "      <td>...</td>\n",
       "      <td>...</td>\n",
       "      <td>...</td>\n",
       "      <td>...</td>\n",
       "      <td>...</td>\n",
       "      <td>...</td>\n",
       "      <td>...</td>\n",
       "      <td>...</td>\n",
       "      <td>...</td>\n",
       "      <td>...</td>\n",
       "      <td>...</td>\n",
       "      <td>...</td>\n",
       "      <td>...</td>\n",
       "      <td>...</td>\n",
       "      <td>...</td>\n",
       "      <td>...</td>\n",
       "      <td>...</td>\n",
       "      <td>...</td>\n",
       "      <td>...</td>\n",
       "      <td>...</td>\n",
       "    </tr>\n",
       "    <tr>\n",
       "      <th>887</th>\n",
       "      <td>2</td>\n",
       "      <td>27</td>\n",
       "      <td>13.0000</td>\n",
       "      <td>0</td>\n",
       "      <td>1</td>\n",
       "      <td>0</td>\n",
       "      <td>0</td>\n",
       "      <td>1</td>\n",
       "      <td>0</td>\n",
       "      <td>0</td>\n",
       "      <td>...</td>\n",
       "      <td>1</td>\n",
       "      <td>0</td>\n",
       "      <td>0</td>\n",
       "      <td>0</td>\n",
       "      <td>0</td>\n",
       "      <td>0</td>\n",
       "      <td>0</td>\n",
       "      <td>0</td>\n",
       "      <td>1</td>\n",
       "      <td>0</td>\n",
       "    </tr>\n",
       "    <tr>\n",
       "      <th>888</th>\n",
       "      <td>1</td>\n",
       "      <td>19</td>\n",
       "      <td>30.0000</td>\n",
       "      <td>1</td>\n",
       "      <td>0</td>\n",
       "      <td>0</td>\n",
       "      <td>0</td>\n",
       "      <td>1</td>\n",
       "      <td>0</td>\n",
       "      <td>1</td>\n",
       "      <td>...</td>\n",
       "      <td>1</td>\n",
       "      <td>0</td>\n",
       "      <td>0</td>\n",
       "      <td>0</td>\n",
       "      <td>1</td>\n",
       "      <td>0</td>\n",
       "      <td>0</td>\n",
       "      <td>0</td>\n",
       "      <td>0</td>\n",
       "      <td>0</td>\n",
       "    </tr>\n",
       "    <tr>\n",
       "      <th>889</th>\n",
       "      <td>3</td>\n",
       "      <td>21</td>\n",
       "      <td>23.4500</td>\n",
       "      <td>1</td>\n",
       "      <td>0</td>\n",
       "      <td>0</td>\n",
       "      <td>0</td>\n",
       "      <td>1</td>\n",
       "      <td>0</td>\n",
       "      <td>0</td>\n",
       "      <td>...</td>\n",
       "      <td>0</td>\n",
       "      <td>1</td>\n",
       "      <td>0</td>\n",
       "      <td>0</td>\n",
       "      <td>1</td>\n",
       "      <td>0</td>\n",
       "      <td>0</td>\n",
       "      <td>0</td>\n",
       "      <td>0</td>\n",
       "      <td>0</td>\n",
       "    </tr>\n",
       "    <tr>\n",
       "      <th>890</th>\n",
       "      <td>1</td>\n",
       "      <td>26</td>\n",
       "      <td>30.0000</td>\n",
       "      <td>0</td>\n",
       "      <td>1</td>\n",
       "      <td>1</td>\n",
       "      <td>0</td>\n",
       "      <td>0</td>\n",
       "      <td>0</td>\n",
       "      <td>0</td>\n",
       "      <td>...</td>\n",
       "      <td>1</td>\n",
       "      <td>0</td>\n",
       "      <td>0</td>\n",
       "      <td>0</td>\n",
       "      <td>0</td>\n",
       "      <td>1</td>\n",
       "      <td>0</td>\n",
       "      <td>0</td>\n",
       "      <td>0</td>\n",
       "      <td>0</td>\n",
       "    </tr>\n",
       "    <tr>\n",
       "      <th>891</th>\n",
       "      <td>3</td>\n",
       "      <td>32</td>\n",
       "      <td>7.7500</td>\n",
       "      <td>0</td>\n",
       "      <td>1</td>\n",
       "      <td>0</td>\n",
       "      <td>1</td>\n",
       "      <td>0</td>\n",
       "      <td>0</td>\n",
       "      <td>0</td>\n",
       "      <td>...</td>\n",
       "      <td>1</td>\n",
       "      <td>0</td>\n",
       "      <td>0</td>\n",
       "      <td>0</td>\n",
       "      <td>0</td>\n",
       "      <td>1</td>\n",
       "      <td>0</td>\n",
       "      <td>0</td>\n",
       "      <td>0</td>\n",
       "      <td>0</td>\n",
       "    </tr>\n",
       "  </tbody>\n",
       "</table>\n",
       "<p>891 rows × 26 columns</p>\n",
       "</div>"
      ],
      "text/plain": [
       "             Pclass  Age     Fare  Sex_female  Sex_male  Embarked_C  \\\n",
       "PassengerId                                                           \n",
       "1                 3   22   7.2500           0         1           0   \n",
       "2                 1   38  71.2833           1         0           1   \n",
       "3                 3   26   7.9250           1         0           0   \n",
       "4                 1   35  53.1000           1         0           0   \n",
       "5                 3   35   8.0500           0         1           0   \n",
       "...             ...  ...      ...         ...       ...         ...   \n",
       "887               2   27  13.0000           0         1           0   \n",
       "888               1   19  30.0000           1         0           0   \n",
       "889               3   21  23.4500           1         0           0   \n",
       "890               1   26  30.0000           0         1           1   \n",
       "891               3   32   7.7500           0         1           0   \n",
       "\n",
       "             Embarked_Q  Embarked_S  Deck_A  Deck_B  ...  Family_Group_Alone  \\\n",
       "PassengerId                                          ...                       \n",
       "1                     0           1       0       0  ...                   0   \n",
       "2                     0           0       0       0  ...                   0   \n",
       "3                     0           1       0       0  ...                   1   \n",
       "4                     0           1       0       0  ...                   0   \n",
       "5                     0           1       0       0  ...                   1   \n",
       "...                 ...         ...     ...     ...  ...                 ...   \n",
       "887                   0           1       0       0  ...                   1   \n",
       "888                   0           1       0       1  ...                   1   \n",
       "889                   0           1       0       0  ...                   0   \n",
       "890                   0           0       0       0  ...                   1   \n",
       "891                   1           0       0       0  ...                   1   \n",
       "\n",
       "             Family_Group_Small  Family_Group_Large  Title_Master  Title_Miss  \\\n",
       "PassengerId                                                                     \n",
       "1                             1                   0             0           0   \n",
       "2                             1                   0             0           0   \n",
       "3                             0                   0             0           1   \n",
       "4                             1                   0             0           0   \n",
       "5                             0                   0             0           0   \n",
       "...                         ...                 ...           ...         ...   \n",
       "887                           0                   0             0           0   \n",
       "888                           0                   0             0           1   \n",
       "889                           1                   0             0           1   \n",
       "890                           0                   0             0           0   \n",
       "891                           0                   0             0           0   \n",
       "\n",
       "             Title_Mr  Title_Mrs  Title_Other  Title_Rev  Deck_T  \n",
       "PassengerId                                                       \n",
       "1                   1          0            0          0       0  \n",
       "2                   0          1            0          0       0  \n",
       "3                   0          0            0          0       0  \n",
       "4                   0          1            0          0       0  \n",
       "5                   1          0            0          0       0  \n",
       "...               ...        ...          ...        ...     ...  \n",
       "887                 0          0            0          1       0  \n",
       "888                 0          0            0          0       0  \n",
       "889                 0          0            0          0       0  \n",
       "890                 1          0            0          0       0  \n",
       "891                 1          0            0          0       0  \n",
       "\n",
       "[891 rows x 26 columns]"
      ]
     },
     "execution_count": 128,
     "metadata": {},
     "output_type": "execute_result"
    }
   ],
   "source": [
    "X_train"
   ]
  },
  {
   "cell_type": "code",
   "execution_count": 129,
   "id": "de1230ad-e0f2-4919-b905-2063cdf82a78",
   "metadata": {},
   "outputs": [
    {
     "data": {
      "text/plain": [
       "PassengerId\n",
       "340    1\n",
       "Name: Deck_T, dtype: int32"
      ]
     },
     "execution_count": 129,
     "metadata": {},
     "output_type": "execute_result"
    }
   ],
   "source": [
    "X_train['Deck_T'][X_train['Deck_T']==1]"
   ]
  },
  {
   "cell_type": "markdown",
   "id": "15ac4c34-76c3-4589-8f10-b3339e18270f",
   "metadata": {},
   "source": [
    "### 모델 선택"
   ]
  },
  {
   "cell_type": "code",
   "execution_count": 131,
   "id": "be46a936-3d11-4999-9776-59bc16b863d2",
   "metadata": {},
   "outputs": [],
   "source": [
    "from sklearn.neighbors import KNeighborsClassifier\n",
    "from sklearn.tree import DecisionTreeClassifier\n",
    "from sklearn.model_selection import cross_val_score, KFold\n",
    "from tqdm import tqdm"
   ]
  },
  {
   "cell_type": "markdown",
   "id": "5786ea10-fe4b-425d-8454-e8ef2a0d85d3",
   "metadata": {},
   "source": [
    "#### KNN 모델"
   ]
  },
  {
   "cell_type": "code",
   "execution_count": 133,
   "id": "acbd9001-9153-44a9-8d97-c04714a05875",
   "metadata": {},
   "outputs": [],
   "source": [
    "knn_model = KNeighborsClassifier(n_neighbors=5)\n",
    "#KFold : k-fold 교차 검증시 데이터 분리를 설정해주는 클래스 \n",
    "kfold = KFold(n_splits=10,shuffle=True,random_state=42) \n",
    "# shuffle=True 데이터를 섞어서 분리할지를 결정 (디폴트는 안섞음) #random_state는 shuffle을 True로 설정했을 경우\n",
    "#여러개의 데이터 셋으로 나누어 학습, 평가를 여러번 진행하기 때문에 셋트의 크기가 크지 않다면 굳이 안섞어도 됨\n",
    "knn_model.fit(X_train,y_train)\n",
    "pred= knn_model.predict(X_test)"
   ]
  },
  {
   "cell_type": "code",
   "execution_count": 134,
   "id": "f9ec21a1-c502-48fc-ae05-bbf12c34d8a8",
   "metadata": {},
   "outputs": [
    {
     "data": {
      "text/plain": [
       "array([0.73333333, 0.73033708, 0.73033708, 0.69662921, 0.74157303,\n",
       "       0.73033708, 0.70786517, 0.70786517, 0.70786517, 0.76404494])"
      ]
     },
     "execution_count": 134,
     "metadata": {},
     "output_type": "execute_result"
    }
   ],
   "source": [
    "knn_model2 = KNeighborsClassifier(n_neighbors=5)\n",
    "result = cross_val_score(knn_model2, X_train,y_train,cv=kfold)   # (모델객체, 문제, 정답, 나누어줄 데이터 셋트 개수)\n",
    "result"
   ]
  },
  {
   "cell_type": "code",
   "execution_count": 135,
   "id": "0d5bc3c7-b513-4d29-9bfb-f892cf2d1005",
   "metadata": {},
   "outputs": [
    {
     "data": {
      "text/plain": [
       "0.7250187265917603"
      ]
     },
     "execution_count": 135,
     "metadata": {},
     "output_type": "execute_result"
    }
   ],
   "source": [
    "result.mean()"
   ]
  },
  {
   "cell_type": "code",
   "execution_count": 136,
   "id": "bb7dce0a-77f7-4aff-9bb2-78be90b70dfc",
   "metadata": {},
   "outputs": [
    {
     "name": "stderr",
     "output_type": "stream",
     "text": [
      "100%|████████████████████████████████████████████████████████████████████████████████| 100/100 [00:39<00:00,  2.55it/s]\n"
     ]
    }
   ],
   "source": [
    "train_score_list = []\n",
    "for i in tqdm(range(1,101,1)):\n",
    "    knn_model = KNeighborsClassifier(n_neighbors=i)  # KNN모델 객체 생성\n",
    "    result = cross_val_score(knn_model, X_train,y_train,cv=10) #교차검증\n",
    "    score_mean = result.mean()\n",
    "    train_score_list.append(score_mean)"
   ]
  },
  {
   "cell_type": "code",
   "execution_count": 137,
   "id": "b64c7f87-5a16-4e14-89a2-776838e23ebc",
   "metadata": {},
   "outputs": [
    {
     "data": {
      "image/png": "[encoded data removed]",
      "text/plain": [
       "<Figure size 1500x500 with 1 Axes>"
      ]
     },
     "metadata": {},
     "output_type": "display_data"
    }
   ],
   "source": [
    "plt.figure(figsize=(15,5))\n",
    "plt.plot(range(1,101,1), train_score_list)\n",
    "plt.xticks(range(1,101,2))\n",
    "plt.grid();"
   ]
  },
  {
   "cell_type": "markdown",
   "id": "238ecc68-bd9a-46c2-b850-6188bd327002",
   "metadata": {},
   "source": [
    "## 모델이 예측한 값으로 Kaggle 제출용 파을을 만들어보자\n",
    "- gender_submission.csv 파일을 DF 로드\n",
    "- 우리가 만든 모델로 예측한 값을 DF에 없데이트\n",
    "- 해당 DF를 csv 파일로 다시 다운로드\n",
    "- Kaggle에 해당 csv 파일 올려서 결과 확인"
   ]
  },
  {
   "cell_type": "code",
   "execution_count": 139,
   "id": "1e125183-b5a6-401c-b567-ac8f2848b1a9",
   "metadata": {},
   "outputs": [],
   "source": [
    "# 경고 무시 코드\n",
    "import warnings\n",
    "warnings.filterwarnings(action='ignore')"
   ]
  },
  {
   "cell_type": "code",
   "execution_count": 140,
   "id": "e0b73034-8b11-488a-8694-4e52fc212318",
   "metadata": {},
   "outputs": [
    {
     "data": {
      "text/html": [
       "<div>\n",
       "<style scoped>\n",
       "    .dataframe tbody tr th:only-of-type {\n",
       "        vertical-align: middle;\n",
       "    }\n",
       "\n",
       "    .dataframe tbody tr th {\n",
       "        vertical-align: top;\n",
       "    }\n",
       "\n",
       "    .dataframe thead th {\n",
       "        text-align: right;\n",
       "    }\n",
       "</style>\n",
       "<table border=\"1\" class=\"dataframe\">\n",
       "  <thead>\n",
       "    <tr style=\"text-align: right;\">\n",
       "      <th></th>\n",
       "      <th>PassengerId</th>\n",
       "      <th>Survived</th>\n",
       "    </tr>\n",
       "  </thead>\n",
       "  <tbody>\n",
       "    <tr>\n",
       "      <th>0</th>\n",
       "      <td>892</td>\n",
       "      <td>0</td>\n",
       "    </tr>\n",
       "    <tr>\n",
       "      <th>1</th>\n",
       "      <td>893</td>\n",
       "      <td>1</td>\n",
       "    </tr>\n",
       "    <tr>\n",
       "      <th>2</th>\n",
       "      <td>894</td>\n",
       "      <td>0</td>\n",
       "    </tr>\n",
       "    <tr>\n",
       "      <th>3</th>\n",
       "      <td>895</td>\n",
       "      <td>0</td>\n",
       "    </tr>\n",
       "    <tr>\n",
       "      <th>4</th>\n",
       "      <td>896</td>\n",
       "      <td>1</td>\n",
       "    </tr>\n",
       "    <tr>\n",
       "      <th>...</th>\n",
       "      <td>...</td>\n",
       "      <td>...</td>\n",
       "    </tr>\n",
       "    <tr>\n",
       "      <th>413</th>\n",
       "      <td>1305</td>\n",
       "      <td>0</td>\n",
       "    </tr>\n",
       "    <tr>\n",
       "      <th>414</th>\n",
       "      <td>1306</td>\n",
       "      <td>1</td>\n",
       "    </tr>\n",
       "    <tr>\n",
       "      <th>415</th>\n",
       "      <td>1307</td>\n",
       "      <td>0</td>\n",
       "    </tr>\n",
       "    <tr>\n",
       "      <th>416</th>\n",
       "      <td>1308</td>\n",
       "      <td>0</td>\n",
       "    </tr>\n",
       "    <tr>\n",
       "      <th>417</th>\n",
       "      <td>1309</td>\n",
       "      <td>0</td>\n",
       "    </tr>\n",
       "  </tbody>\n",
       "</table>\n",
       "<p>418 rows × 2 columns</p>\n",
       "</div>"
      ],
      "text/plain": [
       "     PassengerId  Survived\n",
       "0            892         0\n",
       "1            893         1\n",
       "2            894         0\n",
       "3            895         0\n",
       "4            896         1\n",
       "..           ...       ...\n",
       "413         1305         0\n",
       "414         1306         1\n",
       "415         1307         0\n",
       "416         1308         0\n",
       "417         1309         0\n",
       "\n",
       "[418 rows x 2 columns]"
      ]
     },
     "execution_count": 140,
     "metadata": {},
     "output_type": "execute_result"
    }
   ],
   "source": [
    "result_submission = pd.read_csv('data/gender_submission.csv')\n",
    "result_submission"
   ]
  },
  {
   "cell_type": "code",
   "execution_count": 141,
   "id": "571ba96e-4f55-4896-8615-c524e0afc437",
   "metadata": {},
   "outputs": [],
   "source": [
    "result_submission['Survived'] = pred"
   ]
  },
  {
   "cell_type": "code",
   "execution_count": 142,
   "id": "27e33bea-5a32-41e1-8b03-0ac5ed87cc9b",
   "metadata": {},
   "outputs": [
    {
     "data": {
      "text/html": [
       "<div>\n",
       "<style scoped>\n",
       "    .dataframe tbody tr th:only-of-type {\n",
       "        vertical-align: middle;\n",
       "    }\n",
       "\n",
       "    .dataframe tbody tr th {\n",
       "        vertical-align: top;\n",
       "    }\n",
       "\n",
       "    .dataframe thead th {\n",
       "        text-align: right;\n",
       "    }\n",
       "</style>\n",
       "<table border=\"1\" class=\"dataframe\">\n",
       "  <thead>\n",
       "    <tr style=\"text-align: right;\">\n",
       "      <th></th>\n",
       "      <th>PassengerId</th>\n",
       "      <th>Survived</th>\n",
       "    </tr>\n",
       "  </thead>\n",
       "  <tbody>\n",
       "    <tr>\n",
       "      <th>0</th>\n",
       "      <td>892</td>\n",
       "      <td>0</td>\n",
       "    </tr>\n",
       "    <tr>\n",
       "      <th>1</th>\n",
       "      <td>893</td>\n",
       "      <td>0</td>\n",
       "    </tr>\n",
       "    <tr>\n",
       "      <th>2</th>\n",
       "      <td>894</td>\n",
       "      <td>0</td>\n",
       "    </tr>\n",
       "    <tr>\n",
       "      <th>3</th>\n",
       "      <td>895</td>\n",
       "      <td>1</td>\n",
       "    </tr>\n",
       "    <tr>\n",
       "      <th>4</th>\n",
       "      <td>896</td>\n",
       "      <td>0</td>\n",
       "    </tr>\n",
       "    <tr>\n",
       "      <th>...</th>\n",
       "      <td>...</td>\n",
       "      <td>...</td>\n",
       "    </tr>\n",
       "    <tr>\n",
       "      <th>413</th>\n",
       "      <td>1305</td>\n",
       "      <td>0</td>\n",
       "    </tr>\n",
       "    <tr>\n",
       "      <th>414</th>\n",
       "      <td>1306</td>\n",
       "      <td>1</td>\n",
       "    </tr>\n",
       "    <tr>\n",
       "      <th>415</th>\n",
       "      <td>1307</td>\n",
       "      <td>0</td>\n",
       "    </tr>\n",
       "    <tr>\n",
       "      <th>416</th>\n",
       "      <td>1308</td>\n",
       "      <td>0</td>\n",
       "    </tr>\n",
       "    <tr>\n",
       "      <th>417</th>\n",
       "      <td>1309</td>\n",
       "      <td>0</td>\n",
       "    </tr>\n",
       "  </tbody>\n",
       "</table>\n",
       "<p>418 rows × 2 columns</p>\n",
       "</div>"
      ],
      "text/plain": [
       "     PassengerId  Survived\n",
       "0            892         0\n",
       "1            893         0\n",
       "2            894         0\n",
       "3            895         1\n",
       "4            896         0\n",
       "..           ...       ...\n",
       "413         1305         0\n",
       "414         1306         1\n",
       "415         1307         0\n",
       "416         1308         0\n",
       "417         1309         0\n",
       "\n",
       "[418 rows x 2 columns]"
      ]
     },
     "execution_count": 142,
     "metadata": {},
     "output_type": "execute_result"
    }
   ],
   "source": [
    "result_submission"
   ]
  },
  {
   "cell_type": "code",
   "execution_count": 143,
   "id": "93762d1f-509b-461f-bd1c-bde23bb040dd",
   "metadata": {},
   "outputs": [],
   "source": [
    "result_submission.to_csv('submission_knn.csv', index=False)"
   ]
  },
  {
   "cell_type": "markdown",
   "id": "84564512-0e5d-4367-aaba-3367ef9b8da6",
   "metadata": {},
   "source": [
    "### 거리기반 모델인 KNN 모델에 Scaler 적용"
   ]
  },
  {
   "cell_type": "code",
   "execution_count": 145,
   "id": "c49956f6-1852-4b20-9bce-f8ec950a4f44",
   "metadata": {},
   "outputs": [],
   "source": [
    "from sklearn.preprocessing import StandardScaler"
   ]
  },
  {
   "cell_type": "code",
   "execution_count": 146,
   "id": "1d4f6c4a-95be-45ae-8a99-f1641c8dd58d",
   "metadata": {},
   "outputs": [],
   "source": [
    "scaler = StandardScaler()"
   ]
  },
  {
   "cell_type": "code",
   "execution_count": 147,
   "id": "99a47e6a-30b2-4820-adf7-4f6c08265157",
   "metadata": {},
   "outputs": [
    {
     "data": {
      "text/html": [
       "<style>#sk-container-id-1 {\n",
       "  /* Definition of color scheme common for light and dark mode */\n",
       "  --sklearn-color-text: black;\n",
       "  --sklearn-color-line: gray;\n",
       "  /* Definition of color scheme for unfitted estimators */\n",
       "  --sklearn-color-unfitted-level-0: #fff5e6;\n",
       "  --sklearn-color-unfitted-level-1: #f6e4d2;\n",
       "  --sklearn-color-unfitted-level-2: #ffe0b3;\n",
       "  --sklearn-color-unfitted-level-3: chocolate;\n",
       "  /* Definition of color scheme for fitted estimators */\n",
       "  --sklearn-color-fitted-level-0: #f0f8ff;\n",
       "  --sklearn-color-fitted-level-1: #d4ebff;\n",
       "  --sklearn-color-fitted-level-2: #b3dbfd;\n",
       "  --sklearn-color-fitted-level-3: cornflowerblue;\n",
       "\n",
       "  /* Specific color for light theme */\n",
       "  --sklearn-color-text-on-default-background: var(--sg-text-color, var(--theme-code-foreground, var(--jp-content-font-color1, black)));\n",
       "  --sklearn-color-background: var(--sg-background-color, var(--theme-background, var(--jp-layout-color0, white)));\n",
       "  --sklearn-color-border-box: var(--sg-text-color, var(--theme-code-foreground, var(--jp-content-font-color1, black)));\n",
       "  --sklearn-color-icon: #696969;\n",
       "\n",
       "  @media (prefers-color-scheme: dark) {\n",
       "    /* Redefinition of color scheme for dark theme */\n",
       "    --sklearn-color-text-on-default-background: var(--sg-text-color, var(--theme-code-foreground, var(--jp-content-font-color1, white)));\n",
       "    --sklearn-color-background: var(--sg-background-color, var(--theme-background, var(--jp-layout-color0, #111)));\n",
       "    --sklearn-color-border-box: var(--sg-text-color, var(--theme-code-foreground, var(--jp-content-font-color1, white)));\n",
       "    --sklearn-color-icon: #878787;\n",
       "  }\n",
       "}\n",
       "\n",
       "#sk-container-id-1 {\n",
       "  color: var(--sklearn-color-text);\n",
       "}\n",
       "\n",
       "#sk-container-id-1 pre {\n",
       "  padding: 0;\n",
       "}\n",
       "\n",
       "#sk-container-id-1 input.sk-hidden--visually {\n",
       "  border: 0;\n",
       "  clip: rect(1px 1px 1px 1px);\n",
       "  clip: rect(1px, 1px, 1px, 1px);\n",
       "  height: 1px;\n",
       "  margin: -1px;\n",
       "  overflow: hidden;\n",
       "  padding: 0;\n",
       "  position: absolute;\n",
       "  width: 1px;\n",
       "}\n",
       "\n",
       "#sk-container-id-1 div.sk-dashed-wrapped {\n",
       "  border: 1px dashed var(--sklearn-color-line);\n",
       "  margin: 0 0.4em 0.5em 0.4em;\n",
       "  box-sizing: border-box;\n",
       "  padding-bottom: 0.4em;\n",
       "  background-color: var(--sklearn-color-background);\n",
       "}\n",
       "\n",
       "#sk-container-id-1 div.sk-container {\n",
       "  /* jupyter's `normalize.less` sets `[hidden] { display: none; }`\n",
       "     but bootstrap.min.css set `[hidden] { display: none !important; }`\n",
       "     so we also need the `!important` here to be able to override the\n",
       "     default hidden behavior on the sphinx rendered scikit-learn.org.\n",
       "     See: https://github.com/scikit-learn/scikit-learn/issues/21755 */\n",
       "  display: inline-block !important;\n",
       "  position: relative;\n",
       "}\n",
       "\n",
       "#sk-container-id-1 div.sk-text-repr-fallback {\n",
       "  display: none;\n",
       "}\n",
       "\n",
       "div.sk-parallel-item,\n",
       "div.sk-serial,\n",
       "div.sk-item {\n",
       "  /* draw centered vertical line to link estimators */\n",
       "  background-image: linear-gradient(var(--sklearn-color-text-on-default-background), var(--sklearn-color-text-on-default-background));\n",
       "  background-size: 2px 100%;\n",
       "  background-repeat: no-repeat;\n",
       "  background-position: center center;\n",
       "}\n",
       "\n",
       "/* Parallel-specific style estimator block */\n",
       "\n",
       "#sk-container-id-1 div.sk-parallel-item::after {\n",
       "  content: \"\";\n",
       "  width: 100%;\n",
       "  border-bottom: 2px solid var(--sklearn-color-text-on-default-background);\n",
       "  flex-grow: 1;\n",
       "}\n",
       "\n",
       "#sk-container-id-1 div.sk-parallel {\n",
       "  display: flex;\n",
       "  align-items: stretch;\n",
       "  justify-content: center;\n",
       "  background-color: var(--sklearn-color-background);\n",
       "  position: relative;\n",
       "}\n",
       "\n",
       "#sk-container-id-1 div.sk-parallel-item {\n",
       "  display: flex;\n",
       "  flex-direction: column;\n",
       "}\n",
       "\n",
       "#sk-container-id-1 div.sk-parallel-item:first-child::after {\n",
       "  align-self: flex-end;\n",
       "  width: 50%;\n",
       "}\n",
       "\n",
       "#sk-container-id-1 div.sk-parallel-item:last-child::after {\n",
       "  align-self: flex-start;\n",
       "  width: 50%;\n",
       "}\n",
       "\n",
       "#sk-container-id-1 div.sk-parallel-item:only-child::after {\n",
       "  width: 0;\n",
       "}\n",
       "\n",
       "/* Serial-specific style estimator block */\n",
       "\n",
       "#sk-container-id-1 div.sk-serial {\n",
       "  display: flex;\n",
       "  flex-direction: column;\n",
       "  align-items: center;\n",
       "  background-color: var(--sklearn-color-background);\n",
       "  padding-right: 1em;\n",
       "  padding-left: 1em;\n",
       "}\n",
       "\n",
       "\n",
       "/* Toggleable style: style used for estimator/Pipeline/ColumnTransformer box that is\n",
       "clickable and can be expanded/collapsed.\n",
       "- Pipeline and ColumnTransformer use this feature and define the default style\n",
       "- Estimators will overwrite some part of the style using the `sk-estimator` class\n",
       "*/\n",
       "\n",
       "/* Pipeline and ColumnTransformer style (default) */\n",
       "\n",
       "#sk-container-id-1 div.sk-toggleable {\n",
       "  /* Default theme specific background. It is overwritten whether we have a\n",
       "  specific estimator or a Pipeline/ColumnTransformer */\n",
       "  background-color: var(--sklearn-color-background);\n",
       "}\n",
       "\n",
       "/* Toggleable label */\n",
       "#sk-container-id-1 label.sk-toggleable__label {\n",
       "  cursor: pointer;\n",
       "  display: block;\n",
       "  width: 100%;\n",
       "  margin-bottom: 0;\n",
       "  padding: 0.5em;\n",
       "  box-sizing: border-box;\n",
       "  text-align: center;\n",
       "}\n",
       "\n",
       "#sk-container-id-1 label.sk-toggleable__label-arrow:before {\n",
       "  /* Arrow on the left of the label */\n",
       "  content: \"▸\";\n",
       "  float: left;\n",
       "  margin-right: 0.25em;\n",
       "  color: var(--sklearn-color-icon);\n",
       "}\n",
       "\n",
       "#sk-container-id-1 label.sk-toggleable__label-arrow:hover:before {\n",
       "  color: var(--sklearn-color-text);\n",
       "}\n",
       "\n",
       "/* Toggleable content - dropdown */\n",
       "\n",
       "#sk-container-id-1 div.sk-toggleable__content {\n",
       "  max-height: 0;\n",
       "  max-width: 0;\n",
       "  overflow: hidden;\n",
       "  text-align: left;\n",
       "  /* unfitted */\n",
       "  background-color: var(--sklearn-color-unfitted-level-0);\n",
       "}\n",
       "\n",
       "#sk-container-id-1 div.sk-toggleable__content.fitted {\n",
       "  /* fitted */\n",
       "  background-color: var(--sklearn-color-fitted-level-0);\n",
       "}\n",
       "\n",
       "#sk-container-id-1 div.sk-toggleable__content pre {\n",
       "  margin: 0.2em;\n",
       "  border-radius: 0.25em;\n",
       "  color: var(--sklearn-color-text);\n",
       "  /* unfitted */\n",
       "  background-color: var(--sklearn-color-unfitted-level-0);\n",
       "}\n",
       "\n",
       "#sk-container-id-1 div.sk-toggleable__content.fitted pre {\n",
       "  /* unfitted */\n",
       "  background-color: var(--sklearn-color-fitted-level-0);\n",
       "}\n",
       "\n",
       "#sk-container-id-1 input.sk-toggleable__control:checked~div.sk-toggleable__content {\n",
       "  /* Expand drop-down */\n",
       "  max-height: 200px;\n",
       "  max-width: 100%;\n",
       "  overflow: auto;\n",
       "}\n",
       "\n",
       "#sk-container-id-1 input.sk-toggleable__control:checked~label.sk-toggleable__label-arrow:before {\n",
       "  content: \"▾\";\n",
       "}\n",
       "\n",
       "/* Pipeline/ColumnTransformer-specific style */\n",
       "\n",
       "#sk-container-id-1 div.sk-label input.sk-toggleable__control:checked~label.sk-toggleable__label {\n",
       "  color: var(--sklearn-color-text);\n",
       "  background-color: var(--sklearn-color-unfitted-level-2);\n",
       "}\n",
       "\n",
       "#sk-container-id-1 div.sk-label.fitted input.sk-toggleable__control:checked~label.sk-toggleable__label {\n",
       "  background-color: var(--sklearn-color-fitted-level-2);\n",
       "}\n",
       "\n",
       "/* Estimator-specific style */\n",
       "\n",
       "/* Colorize estimator box */\n",
       "#sk-container-id-1 div.sk-estimator input.sk-toggleable__control:checked~label.sk-toggleable__label {\n",
       "  /* unfitted */\n",
       "  background-color: var(--sklearn-color-unfitted-level-2);\n",
       "}\n",
       "\n",
       "#sk-container-id-1 div.sk-estimator.fitted input.sk-toggleable__control:checked~label.sk-toggleable__label {\n",
       "  /* fitted */\n",
       "  background-color: var(--sklearn-color-fitted-level-2);\n",
       "}\n",
       "\n",
       "#sk-container-id-1 div.sk-label label.sk-toggleable__label,\n",
       "#sk-container-id-1 div.sk-label label {\n",
       "  /* The background is the default theme color */\n",
       "  color: var(--sklearn-color-text-on-default-background);\n",
       "}\n",
       "\n",
       "/* On hover, darken the color of the background */\n",
       "#sk-container-id-1 div.sk-label:hover label.sk-toggleable__label {\n",
       "  color: var(--sklearn-color-text);\n",
       "  background-color: var(--sklearn-color-unfitted-level-2);\n",
       "}\n",
       "\n",
       "/* Label box, darken color on hover, fitted */\n",
       "#sk-container-id-1 div.sk-label.fitted:hover label.sk-toggleable__label.fitted {\n",
       "  color: var(--sklearn-color-text);\n",
       "  background-color: var(--sklearn-color-fitted-level-2);\n",
       "}\n",
       "\n",
       "/* Estimator label */\n",
       "\n",
       "#sk-container-id-1 div.sk-label label {\n",
       "  font-family: monospace;\n",
       "  font-weight: bold;\n",
       "  display: inline-block;\n",
       "  line-height: 1.2em;\n",
       "}\n",
       "\n",
       "#sk-container-id-1 div.sk-label-container {\n",
       "  text-align: center;\n",
       "}\n",
       "\n",
       "/* Estimator-specific */\n",
       "#sk-container-id-1 div.sk-estimator {\n",
       "  font-family: monospace;\n",
       "  border: 1px dotted var(--sklearn-color-border-box);\n",
       "  border-radius: 0.25em;\n",
       "  box-sizing: border-box;\n",
       "  margin-bottom: 0.5em;\n",
       "  /* unfitted */\n",
       "  background-color: var(--sklearn-color-unfitted-level-0);\n",
       "}\n",
       "\n",
       "#sk-container-id-1 div.sk-estimator.fitted {\n",
       "  /* fitted */\n",
       "  background-color: var(--sklearn-color-fitted-level-0);\n",
       "}\n",
       "\n",
       "/* on hover */\n",
       "#sk-container-id-1 div.sk-estimator:hover {\n",
       "  /* unfitted */\n",
       "  background-color: var(--sklearn-color-unfitted-level-2);\n",
       "}\n",
       "\n",
       "#sk-container-id-1 div.sk-estimator.fitted:hover {\n",
       "  /* fitted */\n",
       "  background-color: var(--sklearn-color-fitted-level-2);\n",
       "}\n",
       "\n",
       "/* Specification for estimator info (e.g. \"i\" and \"?\") */\n",
       "\n",
       "/* Common style for \"i\" and \"?\" */\n",
       "\n",
       ".sk-estimator-doc-link,\n",
       "a:link.sk-estimator-doc-link,\n",
       "a:visited.sk-estimator-doc-link {\n",
       "  float: right;\n",
       "  font-size: smaller;\n",
       "  line-height: 1em;\n",
       "  font-family: monospace;\n",
       "  background-color: var(--sklearn-color-background);\n",
       "  border-radius: 1em;\n",
       "  height: 1em;\n",
       "  width: 1em;\n",
       "  text-decoration: none !important;\n",
       "  margin-left: 1ex;\n",
       "  /* unfitted */\n",
       "  border: var(--sklearn-color-unfitted-level-1) 1pt solid;\n",
       "  color: var(--sklearn-color-unfitted-level-1);\n",
       "}\n",
       "\n",
       ".sk-estimator-doc-link.fitted,\n",
       "a:link.sk-estimator-doc-link.fitted,\n",
       "a:visited.sk-estimator-doc-link.fitted {\n",
       "  /* fitted */\n",
       "  border: var(--sklearn-color-fitted-level-1) 1pt solid;\n",
       "  color: var(--sklearn-color-fitted-level-1);\n",
       "}\n",
       "\n",
       "/* On hover */\n",
       "div.sk-estimator:hover .sk-estimator-doc-link:hover,\n",
       ".sk-estimator-doc-link:hover,\n",
       "div.sk-label-container:hover .sk-estimator-doc-link:hover,\n",
       ".sk-estimator-doc-link:hover {\n",
       "  /* unfitted */\n",
       "  background-color: var(--sklearn-color-unfitted-level-3);\n",
       "  color: var(--sklearn-color-background);\n",
       "  text-decoration: none;\n",
       "}\n",
       "\n",
       "div.sk-estimator.fitted:hover .sk-estimator-doc-link.fitted:hover,\n",
       ".sk-estimator-doc-link.fitted:hover,\n",
       "div.sk-label-container:hover .sk-estimator-doc-link.fitted:hover,\n",
       ".sk-estimator-doc-link.fitted:hover {\n",
       "  /* fitted */\n",
       "  background-color: var(--sklearn-color-fitted-level-3);\n",
       "  color: var(--sklearn-color-background);\n",
       "  text-decoration: none;\n",
       "}\n",
       "\n",
       "/* Span, style for the box shown on hovering the info icon */\n",
       ".sk-estimator-doc-link span {\n",
       "  display: none;\n",
       "  z-index: 9999;\n",
       "  position: relative;\n",
       "  font-weight: normal;\n",
       "  right: .2ex;\n",
       "  padding: .5ex;\n",
       "  margin: .5ex;\n",
       "  width: min-content;\n",
       "  min-width: 20ex;\n",
       "  max-width: 50ex;\n",
       "  color: var(--sklearn-color-text);\n",
       "  box-shadow: 2pt 2pt 4pt #999;\n",
       "  /* unfitted */\n",
       "  background: var(--sklearn-color-unfitted-level-0);\n",
       "  border: .5pt solid var(--sklearn-color-unfitted-level-3);\n",
       "}\n",
       "\n",
       ".sk-estimator-doc-link.fitted span {\n",
       "  /* fitted */\n",
       "  background: var(--sklearn-color-fitted-level-0);\n",
       "  border: var(--sklearn-color-fitted-level-3);\n",
       "}\n",
       "\n",
       ".sk-estimator-doc-link:hover span {\n",
       "  display: block;\n",
       "}\n",
       "\n",
       "/* \"?\"-specific style due to the `<a>` HTML tag */\n",
       "\n",
       "#sk-container-id-1 a.estimator_doc_link {\n",
       "  float: right;\n",
       "  font-size: 1rem;\n",
       "  line-height: 1em;\n",
       "  font-family: monospace;\n",
       "  background-color: var(--sklearn-color-background);\n",
       "  border-radius: 1rem;\n",
       "  height: 1rem;\n",
       "  width: 1rem;\n",
       "  text-decoration: none;\n",
       "  /* unfitted */\n",
       "  color: var(--sklearn-color-unfitted-level-1);\n",
       "  border: var(--sklearn-color-unfitted-level-1) 1pt solid;\n",
       "}\n",
       "\n",
       "#sk-container-id-1 a.estimator_doc_link.fitted {\n",
       "  /* fitted */\n",
       "  border: var(--sklearn-color-fitted-level-1) 1pt solid;\n",
       "  color: var(--sklearn-color-fitted-level-1);\n",
       "}\n",
       "\n",
       "/* On hover */\n",
       "#sk-container-id-1 a.estimator_doc_link:hover {\n",
       "  /* unfitted */\n",
       "  background-color: var(--sklearn-color-unfitted-level-3);\n",
       "  color: var(--sklearn-color-background);\n",
       "  text-decoration: none;\n",
       "}\n",
       "\n",
       "#sk-container-id-1 a.estimator_doc_link.fitted:hover {\n",
       "  /* fitted */\n",
       "  background-color: var(--sklearn-color-fitted-level-3);\n",
       "}\n",
       "</style><div id=\"sk-container-id-1\" class=\"sk-top-container\"><div class=\"sk-text-repr-fallback\"><pre>StandardScaler()</pre><b>In a Jupyter environment, please rerun this cell to show the HTML representation or trust the notebook. <br />On GitHub, the HTML representation is unable to render, please try loading this page with nbviewer.org.</b></div><div class=\"sk-container\" hidden><div class=\"sk-item\"><div class=\"sk-estimator fitted sk-toggleable\"><input class=\"sk-toggleable__control sk-hidden--visually\" id=\"sk-estimator-id-1\" type=\"checkbox\" checked><label for=\"sk-estimator-id-1\" class=\"sk-toggleable__label fitted sk-toggleable__label-arrow fitted\">&nbsp;&nbsp;StandardScaler<a class=\"sk-estimator-doc-link fitted\" rel=\"noreferrer\" target=\"_blank\" href=\"https://scikit-learn.org/1.4/modules/generated/sklearn.preprocessing.StandardScaler.html\">?<span>Documentation for StandardScaler</span></a><span class=\"sk-estimator-doc-link fitted\">i<span>Fitted</span></span></label><div class=\"sk-toggleable__content fitted\"><pre>StandardScaler()</pre></div> </div></div></div></div>"
      ],
      "text/plain": [
       "StandardScaler()"
      ]
     },
     "execution_count": 147,
     "metadata": {},
     "output_type": "execute_result"
    }
   ],
   "source": [
    "scaler.fit(X_train)"
   ]
  },
  {
   "cell_type": "code",
   "execution_count": 148,
   "id": "babf2556-abdb-468d-bc4a-310cf7d0c861",
   "metadata": {},
   "outputs": [
    {
     "data": {
      "text/plain": [
       "array([[ 0.82737724, -0.5404969 , -0.50244517, ..., -0.15536387,\n",
       "        -0.0823387 , -0.03352008],\n",
       "       [-1.56610693,  0.66195688,  0.78684529, ..., -0.15536387,\n",
       "        -0.0823387 , -0.03352008],\n",
       "       [ 0.82737724, -0.23988346, -0.48885426, ..., -0.15536387,\n",
       "        -0.0823387 , -0.03352008],\n",
       "       ...,\n",
       "       [ 0.82737724, -0.61565027, -0.17626324, ..., -0.15536387,\n",
       "        -0.0823387 , -0.03352008],\n",
       "       [-1.56610693, -0.23988346, -0.04438104, ..., -0.15536387,\n",
       "        -0.0823387 , -0.03352008],\n",
       "       [ 0.82737724,  0.21103671, -0.49237783, ..., -0.15536387,\n",
       "        -0.0823387 , -0.03352008]])"
      ]
     },
     "execution_count": 148,
     "metadata": {},
     "output_type": "execute_result"
    }
   ],
   "source": [
    "trans_X_train = scaler.transform(X_train)\n",
    "trans_X_train"
   ]
  },
  {
   "cell_type": "code",
   "execution_count": 149,
   "id": "587366dd-0077-461b-b6e0-ed6533322ccf",
   "metadata": {},
   "outputs": [],
   "source": [
    "trans_X_test= scaler.transform(X_test)"
   ]
  },
  {
   "cell_type": "code",
   "execution_count": 150,
   "id": "7c3e788c-6d8d-4ec9-a0c8-7d51e1e83f72",
   "metadata": {},
   "outputs": [
    {
     "data": {
      "text/plain": [
       "array([0.76666667, 0.78651685, 0.7752809 , 0.84269663, 0.79775281,\n",
       "       0.75280899, 0.76404494, 0.7752809 , 0.82022472, 0.78651685])"
      ]
     },
     "execution_count": 150,
     "metadata": {},
     "output_type": "execute_result"
    }
   ],
   "source": [
    "result_KNN_SS = cross_val_score(knn_model, trans_X_train,y_train,cv=10)\n",
    "result_KNN_SS"
   ]
  },
  {
   "cell_type": "code",
   "execution_count": 151,
   "id": "c8147f39-bd28-4516-b4e4-76e29da1f961",
   "metadata": {},
   "outputs": [
    {
     "data": {
      "text/plain": [
       "0.7867790262172283"
      ]
     },
     "execution_count": 151,
     "metadata": {},
     "output_type": "execute_result"
    }
   ],
   "source": [
    "result_KNN_SS.mean()"
   ]
  },
  {
   "cell_type": "code",
   "execution_count": 152,
   "id": "8cc350c4-cefd-4c04-abc7-90da93ce0701",
   "metadata": {},
   "outputs": [],
   "source": [
    "result_submission = pd.read_csv('data/gender_submission.csv')\n",
    "knn_model.fit(trans_X_train,y_train)\n",
    "pred= knn_model.predict(trans_X_test)"
   ]
  },
  {
   "cell_type": "code",
   "execution_count": 153,
   "id": "78019999-783b-4b4a-8d25-bd787550a08a",
   "metadata": {},
   "outputs": [],
   "source": [
    "result_submission['Survived'] = pred\n",
    "result_submission.to_csv('submission_knn_SS.csv', index=False)"
   ]
  },
  {
   "cell_type": "markdown",
   "id": "bd3014b6-f7b0-4522-9da3-da606ac14bd1",
   "metadata": {},
   "source": [
    "### 결정 트리 모델"
   ]
  },
  {
   "cell_type": "code",
   "execution_count": 155,
   "id": "b3b654cd-c62f-4cb5-9b1d-8e1a58b36109",
   "metadata": {},
   "outputs": [],
   "source": [
    "tree_model = DecisionTreeClassifier(max_depth=5)"
   ]
  },
  {
   "cell_type": "code",
   "execution_count": 156,
   "id": "0a4fbddf-25fc-4c90-9e2e-644c241825b0",
   "metadata": {},
   "outputs": [
    {
     "data": {
      "text/plain": [
       "array([0.74444444, 0.85393258, 0.74157303, 0.84269663, 0.83146067,\n",
       "       0.84269663, 0.80898876, 0.78651685, 0.86516854, 0.83146067])"
      ]
     },
     "execution_count": 156,
     "metadata": {},
     "output_type": "execute_result"
    }
   ],
   "source": [
    "result_DT = cross_val_score(tree_model,X_train,y_train,cv=10)\n",
    "result_DT"
   ]
  },
  {
   "cell_type": "code",
   "execution_count": 157,
   "id": "07215e2e-2f90-4431-973b-ec92f1987377",
   "metadata": {},
   "outputs": [
    {
     "data": {
      "text/plain": [
       "0.8148938826466916"
      ]
     },
     "execution_count": 157,
     "metadata": {},
     "output_type": "execute_result"
    }
   ],
   "source": [
    "result_DT.mean()"
   ]
  },
  {
   "cell_type": "code",
   "execution_count": 158,
   "id": "5c4c7116-7e07-499a-adde-9fda91d58523",
   "metadata": {},
   "outputs": [
    {
     "name": "stderr",
     "output_type": "stream",
     "text": [
      "100%|██████████████████████████████████████████████████████████████████████████████████| 10/10 [00:03<00:00,  2.85it/s]\n"
     ]
    }
   ],
   "source": [
    "train_score_list=[]\n",
    "for i in tqdm(range(1,11,1)):\n",
    "    for j in range(5,51,5):\n",
    "        tree_model = DecisionTreeClassifier(max_depth=i,max_leaf_nodes=j)\n",
    "        result_DT = cross_val_score(tree_model,X_train,y_train,cv=10)\n",
    "        score_mean = result_DT.mean()\n",
    "        train_score_list.append(score_mean)"
   ]
  },
  {
   "cell_type": "code",
   "execution_count": 159,
   "id": "65188a29-bbb9-4ade-ba18-dcc5163e3f4c",
   "metadata": {},
   "outputs": [
    {
     "data": {
      "text/plain": [
       "['max_depth=1',\n",
       " 'max_depth=2',\n",
       " 'max_depth=3',\n",
       " 'max_depth=4',\n",
       " 'max_depth=5',\n",
       " 'max_depth=6',\n",
       " 'max_depth=7',\n",
       " 'max_depth=8',\n",
       " 'max_depth=9',\n",
       " 'max_depth=10',\n",
       " 'max_depth=11']"
      ]
     },
     "execution_count": 159,
     "metadata": {},
     "output_type": "execute_result"
    }
   ],
   "source": [
    "range_tick = [f'max_depth={i}' for i in range(1,12,1)]\n",
    "range_tick"
   ]
  },
  {
   "cell_type": "code",
   "execution_count": 160,
   "id": "2bcf1311-7b7f-4941-95bb-92c42193ab7c",
   "metadata": {},
   "outputs": [
    {
     "data": {
      "image/png": "[encoded data removed]",
      "text/plain": [
       "<Figure size 1500x500 with 1 Axes>"
      ]
     },
     "metadata": {},
     "output_type": "display_data"
    }
   ],
   "source": [
    "plt.figure(figsize=(15,5))\n",
    "plt.plot(range(1,101,1),train_score_list)\n",
    "plt.xticks(range(1,111,10),range_tick, rotation=45)\n",
    "plt.grid()"
   ]
  },
  {
   "cell_type": "code",
   "execution_count": 161,
   "id": "58b2ef1c-b382-428d-8863-5ab87b0c7139",
   "metadata": {},
   "outputs": [],
   "source": [
    "tree_model1= DecisionTreeClassifier(max_depth=5,max_leaf_nodes=10)"
   ]
  },
  {
   "cell_type": "code",
   "execution_count": 162,
   "id": "27799f93-7815-416a-a6a7-f88cf6fc6b91",
   "metadata": {},
   "outputs": [],
   "source": [
    "tree_model2 = DecisionTreeClassifier(max_depth=9,max_leaf_nodes=20)"
   ]
  },
  {
   "cell_type": "markdown",
   "id": "6229ae2c-61cc-43cf-b5bf-20ea0e7d1f61",
   "metadata": {},
   "source": [
    "### 앙상블 모델 적용"
   ]
  },
  {
   "cell_type": "code",
   "execution_count": 308,
   "id": "bd3382b1-cc05-485e-929f-462c7bb92d24",
   "metadata": {},
   "outputs": [],
   "source": [
    "from sklearn.ensemble import RandomForestClassifier\n",
    "from sklearn.ensemble import VotingClassifier\n",
    "from sklearn.ensemble import AdaBoostClassifier"
   ]
  },
  {
   "cell_type": "markdown",
   "id": "2eb2d70a-e0da-49f5-96bc-3475c89b75b0",
   "metadata": {},
   "source": [
    "### 랜덤포레스트"
   ]
  },
  {
   "cell_type": "code",
   "execution_count": 313,
   "id": "3d3e8776-d62b-4170-ba66-fd6c40348283",
   "metadata": {},
   "outputs": [],
   "source": [
    "forest_model = RandomForestClassifier(n_estimators=100, max_features=5, max_depth=5, random_state=11)"
   ]
  },
  {
   "cell_type": "code",
   "execution_count": 315,
   "id": "c154c995-cd78-43d6-b983-1fe29801268f",
   "metadata": {},
   "outputs": [
    {
     "data": {
      "text/html": [
       "<style>#sk-container-id-2 {\n",
       "  /* Definition of color scheme common for light and dark mode */\n",
       "  --sklearn-color-text: black;\n",
       "  --sklearn-color-line: gray;\n",
       "  /* Definition of color scheme for unfitted estimators */\n",
       "  --sklearn-color-unfitted-level-0: #fff5e6;\n",
       "  --sklearn-color-unfitted-level-1: #f6e4d2;\n",
       "  --sklearn-color-unfitted-level-2: #ffe0b3;\n",
       "  --sklearn-color-unfitted-level-3: chocolate;\n",
       "  /* Definition of color scheme for fitted estimators */\n",
       "  --sklearn-color-fitted-level-0: #f0f8ff;\n",
       "  --sklearn-color-fitted-level-1: #d4ebff;\n",
       "  --sklearn-color-fitted-level-2: #b3dbfd;\n",
       "  --sklearn-color-fitted-level-3: cornflowerblue;\n",
       "\n",
       "  /* Specific color for light theme */\n",
       "  --sklearn-color-text-on-default-background: var(--sg-text-color, var(--theme-code-foreground, var(--jp-content-font-color1, black)));\n",
       "  --sklearn-color-background: var(--sg-background-color, var(--theme-background, var(--jp-layout-color0, white)));\n",
       "  --sklearn-color-border-box: var(--sg-text-color, var(--theme-code-foreground, var(--jp-content-font-color1, black)));\n",
       "  --sklearn-color-icon: #696969;\n",
       "\n",
       "  @media (prefers-color-scheme: dark) {\n",
       "    /* Redefinition of color scheme for dark theme */\n",
       "    --sklearn-color-text-on-default-background: var(--sg-text-color, var(--theme-code-foreground, var(--jp-content-font-color1, white)));\n",
       "    --sklearn-color-background: var(--sg-background-color, var(--theme-background, var(--jp-layout-color0, #111)));\n",
       "    --sklearn-color-border-box: var(--sg-text-color, var(--theme-code-foreground, var(--jp-content-font-color1, white)));\n",
       "    --sklearn-color-icon: #878787;\n",
       "  }\n",
       "}\n",
       "\n",
       "#sk-container-id-2 {\n",
       "  color: var(--sklearn-color-text);\n",
       "}\n",
       "\n",
       "#sk-container-id-2 pre {\n",
       "  padding: 0;\n",
       "}\n",
       "\n",
       "#sk-container-id-2 input.sk-hidden--visually {\n",
       "  border: 0;\n",
       "  clip: rect(1px 1px 1px 1px);\n",
       "  clip: rect(1px, 1px, 1px, 1px);\n",
       "  height: 1px;\n",
       "  margin: -1px;\n",
       "  overflow: hidden;\n",
       "  padding: 0;\n",
       "  position: absolute;\n",
       "  width: 1px;\n",
       "}\n",
       "\n",
       "#sk-container-id-2 div.sk-dashed-wrapped {\n",
       "  border: 1px dashed var(--sklearn-color-line);\n",
       "  margin: 0 0.4em 0.5em 0.4em;\n",
       "  box-sizing: border-box;\n",
       "  padding-bottom: 0.4em;\n",
       "  background-color: var(--sklearn-color-background);\n",
       "}\n",
       "\n",
       "#sk-container-id-2 div.sk-container {\n",
       "  /* jupyter's `normalize.less` sets `[hidden] { display: none; }`\n",
       "     but bootstrap.min.css set `[hidden] { display: none !important; }`\n",
       "     so we also need the `!important` here to be able to override the\n",
       "     default hidden behavior on the sphinx rendered scikit-learn.org.\n",
       "     See: https://github.com/scikit-learn/scikit-learn/issues/21755 */\n",
       "  display: inline-block !important;\n",
       "  position: relative;\n",
       "}\n",
       "\n",
       "#sk-container-id-2 div.sk-text-repr-fallback {\n",
       "  display: none;\n",
       "}\n",
       "\n",
       "div.sk-parallel-item,\n",
       "div.sk-serial,\n",
       "div.sk-item {\n",
       "  /* draw centered vertical line to link estimators */\n",
       "  background-image: linear-gradient(var(--sklearn-color-text-on-default-background), var(--sklearn-color-text-on-default-background));\n",
       "  background-size: 2px 100%;\n",
       "  background-repeat: no-repeat;\n",
       "  background-position: center center;\n",
       "}\n",
       "\n",
       "/* Parallel-specific style estimator block */\n",
       "\n",
       "#sk-container-id-2 div.sk-parallel-item::after {\n",
       "  content: \"\";\n",
       "  width: 100%;\n",
       "  border-bottom: 2px solid var(--sklearn-color-text-on-default-background);\n",
       "  flex-grow: 1;\n",
       "}\n",
       "\n",
       "#sk-container-id-2 div.sk-parallel {\n",
       "  display: flex;\n",
       "  align-items: stretch;\n",
       "  justify-content: center;\n",
       "  background-color: var(--sklearn-color-background);\n",
       "  position: relative;\n",
       "}\n",
       "\n",
       "#sk-container-id-2 div.sk-parallel-item {\n",
       "  display: flex;\n",
       "  flex-direction: column;\n",
       "}\n",
       "\n",
       "#sk-container-id-2 div.sk-parallel-item:first-child::after {\n",
       "  align-self: flex-end;\n",
       "  width: 50%;\n",
       "}\n",
       "\n",
       "#sk-container-id-2 div.sk-parallel-item:last-child::after {\n",
       "  align-self: flex-start;\n",
       "  width: 50%;\n",
       "}\n",
       "\n",
       "#sk-container-id-2 div.sk-parallel-item:only-child::after {\n",
       "  width: 0;\n",
       "}\n",
       "\n",
       "/* Serial-specific style estimator block */\n",
       "\n",
       "#sk-container-id-2 div.sk-serial {\n",
       "  display: flex;\n",
       "  flex-direction: column;\n",
       "  align-items: center;\n",
       "  background-color: var(--sklearn-color-background);\n",
       "  padding-right: 1em;\n",
       "  padding-left: 1em;\n",
       "}\n",
       "\n",
       "\n",
       "/* Toggleable style: style used for estimator/Pipeline/ColumnTransformer box that is\n",
       "clickable and can be expanded/collapsed.\n",
       "- Pipeline and ColumnTransformer use this feature and define the default style\n",
       "- Estimators will overwrite some part of the style using the `sk-estimator` class\n",
       "*/\n",
       "\n",
       "/* Pipeline and ColumnTransformer style (default) */\n",
       "\n",
       "#sk-container-id-2 div.sk-toggleable {\n",
       "  /* Default theme specific background. It is overwritten whether we have a\n",
       "  specific estimator or a Pipeline/ColumnTransformer */\n",
       "  background-color: var(--sklearn-color-background);\n",
       "}\n",
       "\n",
       "/* Toggleable label */\n",
       "#sk-container-id-2 label.sk-toggleable__label {\n",
       "  cursor: pointer;\n",
       "  display: block;\n",
       "  width: 100%;\n",
       "  margin-bottom: 0;\n",
       "  padding: 0.5em;\n",
       "  box-sizing: border-box;\n",
       "  text-align: center;\n",
       "}\n",
       "\n",
       "#sk-container-id-2 label.sk-toggleable__label-arrow:before {\n",
       "  /* Arrow on the left of the label */\n",
       "  content: \"▸\";\n",
       "  float: left;\n",
       "  margin-right: 0.25em;\n",
       "  color: var(--sklearn-color-icon);\n",
       "}\n",
       "\n",
       "#sk-container-id-2 label.sk-toggleable__label-arrow:hover:before {\n",
       "  color: var(--sklearn-color-text);\n",
       "}\n",
       "\n",
       "/* Toggleable content - dropdown */\n",
       "\n",
       "#sk-container-id-2 div.sk-toggleable__content {\n",
       "  max-height: 0;\n",
       "  max-width: 0;\n",
       "  overflow: hidden;\n",
       "  text-align: left;\n",
       "  /* unfitted */\n",
       "  background-color: var(--sklearn-color-unfitted-level-0);\n",
       "}\n",
       "\n",
       "#sk-container-id-2 div.sk-toggleable__content.fitted {\n",
       "  /* fitted */\n",
       "  background-color: var(--sklearn-color-fitted-level-0);\n",
       "}\n",
       "\n",
       "#sk-container-id-2 div.sk-toggleable__content pre {\n",
       "  margin: 0.2em;\n",
       "  border-radius: 0.25em;\n",
       "  color: var(--sklearn-color-text);\n",
       "  /* unfitted */\n",
       "  background-color: var(--sklearn-color-unfitted-level-0);\n",
       "}\n",
       "\n",
       "#sk-container-id-2 div.sk-toggleable__content.fitted pre {\n",
       "  /* unfitted */\n",
       "  background-color: var(--sklearn-color-fitted-level-0);\n",
       "}\n",
       "\n",
       "#sk-container-id-2 input.sk-toggleable__control:checked~div.sk-toggleable__content {\n",
       "  /* Expand drop-down */\n",
       "  max-height: 200px;\n",
       "  max-width: 100%;\n",
       "  overflow: auto;\n",
       "}\n",
       "\n",
       "#sk-container-id-2 input.sk-toggleable__control:checked~label.sk-toggleable__label-arrow:before {\n",
       "  content: \"▾\";\n",
       "}\n",
       "\n",
       "/* Pipeline/ColumnTransformer-specific style */\n",
       "\n",
       "#sk-container-id-2 div.sk-label input.sk-toggleable__control:checked~label.sk-toggleable__label {\n",
       "  color: var(--sklearn-color-text);\n",
       "  background-color: var(--sklearn-color-unfitted-level-2);\n",
       "}\n",
       "\n",
       "#sk-container-id-2 div.sk-label.fitted input.sk-toggleable__control:checked~label.sk-toggleable__label {\n",
       "  background-color: var(--sklearn-color-fitted-level-2);\n",
       "}\n",
       "\n",
       "/* Estimator-specific style */\n",
       "\n",
       "/* Colorize estimator box */\n",
       "#sk-container-id-2 div.sk-estimator input.sk-toggleable__control:checked~label.sk-toggleable__label {\n",
       "  /* unfitted */\n",
       "  background-color: var(--sklearn-color-unfitted-level-2);\n",
       "}\n",
       "\n",
       "#sk-container-id-2 div.sk-estimator.fitted input.sk-toggleable__control:checked~label.sk-toggleable__label {\n",
       "  /* fitted */\n",
       "  background-color: var(--sklearn-color-fitted-level-2);\n",
       "}\n",
       "\n",
       "#sk-container-id-2 div.sk-label label.sk-toggleable__label,\n",
       "#sk-container-id-2 div.sk-label label {\n",
       "  /* The background is the default theme color */\n",
       "  color: var(--sklearn-color-text-on-default-background);\n",
       "}\n",
       "\n",
       "/* On hover, darken the color of the background */\n",
       "#sk-container-id-2 div.sk-label:hover label.sk-toggleable__label {\n",
       "  color: var(--sklearn-color-text);\n",
       "  background-color: var(--sklearn-color-unfitted-level-2);\n",
       "}\n",
       "\n",
       "/* Label box, darken color on hover, fitted */\n",
       "#sk-container-id-2 div.sk-label.fitted:hover label.sk-toggleable__label.fitted {\n",
       "  color: var(--sklearn-color-text);\n",
       "  background-color: var(--sklearn-color-fitted-level-2);\n",
       "}\n",
       "\n",
       "/* Estimator label */\n",
       "\n",
       "#sk-container-id-2 div.sk-label label {\n",
       "  font-family: monospace;\n",
       "  font-weight: bold;\n",
       "  display: inline-block;\n",
       "  line-height: 1.2em;\n",
       "}\n",
       "\n",
       "#sk-container-id-2 div.sk-label-container {\n",
       "  text-align: center;\n",
       "}\n",
       "\n",
       "/* Estimator-specific */\n",
       "#sk-container-id-2 div.sk-estimator {\n",
       "  font-family: monospace;\n",
       "  border: 1px dotted var(--sklearn-color-border-box);\n",
       "  border-radius: 0.25em;\n",
       "  box-sizing: border-box;\n",
       "  margin-bottom: 0.5em;\n",
       "  /* unfitted */\n",
       "  background-color: var(--sklearn-color-unfitted-level-0);\n",
       "}\n",
       "\n",
       "#sk-container-id-2 div.sk-estimator.fitted {\n",
       "  /* fitted */\n",
       "  background-color: var(--sklearn-color-fitted-level-0);\n",
       "}\n",
       "\n",
       "/* on hover */\n",
       "#sk-container-id-2 div.sk-estimator:hover {\n",
       "  /* unfitted */\n",
       "  background-color: var(--sklearn-color-unfitted-level-2);\n",
       "}\n",
       "\n",
       "#sk-container-id-2 div.sk-estimator.fitted:hover {\n",
       "  /* fitted */\n",
       "  background-color: var(--sklearn-color-fitted-level-2);\n",
       "}\n",
       "\n",
       "/* Specification for estimator info (e.g. \"i\" and \"?\") */\n",
       "\n",
       "/* Common style for \"i\" and \"?\" */\n",
       "\n",
       ".sk-estimator-doc-link,\n",
       "a:link.sk-estimator-doc-link,\n",
       "a:visited.sk-estimator-doc-link {\n",
       "  float: right;\n",
       "  font-size: smaller;\n",
       "  line-height: 1em;\n",
       "  font-family: monospace;\n",
       "  background-color: var(--sklearn-color-background);\n",
       "  border-radius: 1em;\n",
       "  height: 1em;\n",
       "  width: 1em;\n",
       "  text-decoration: none !important;\n",
       "  margin-left: 1ex;\n",
       "  /* unfitted */\n",
       "  border: var(--sklearn-color-unfitted-level-1) 1pt solid;\n",
       "  color: var(--sklearn-color-unfitted-level-1);\n",
       "}\n",
       "\n",
       ".sk-estimator-doc-link.fitted,\n",
       "a:link.sk-estimator-doc-link.fitted,\n",
       "a:visited.sk-estimator-doc-link.fitted {\n",
       "  /* fitted */\n",
       "  border: var(--sklearn-color-fitted-level-1) 1pt solid;\n",
       "  color: var(--sklearn-color-fitted-level-1);\n",
       "}\n",
       "\n",
       "/* On hover */\n",
       "div.sk-estimator:hover .sk-estimator-doc-link:hover,\n",
       ".sk-estimator-doc-link:hover,\n",
       "div.sk-label-container:hover .sk-estimator-doc-link:hover,\n",
       ".sk-estimator-doc-link:hover {\n",
       "  /* unfitted */\n",
       "  background-color: var(--sklearn-color-unfitted-level-3);\n",
       "  color: var(--sklearn-color-background);\n",
       "  text-decoration: none;\n",
       "}\n",
       "\n",
       "div.sk-estimator.fitted:hover .sk-estimator-doc-link.fitted:hover,\n",
       ".sk-estimator-doc-link.fitted:hover,\n",
       "div.sk-label-container:hover .sk-estimator-doc-link.fitted:hover,\n",
       ".sk-estimator-doc-link.fitted:hover {\n",
       "  /* fitted */\n",
       "  background-color: var(--sklearn-color-fitted-level-3);\n",
       "  color: var(--sklearn-color-background);\n",
       "  text-decoration: none;\n",
       "}\n",
       "\n",
       "/* Span, style for the box shown on hovering the info icon */\n",
       ".sk-estimator-doc-link span {\n",
       "  display: none;\n",
       "  z-index: 9999;\n",
       "  position: relative;\n",
       "  font-weight: normal;\n",
       "  right: .2ex;\n",
       "  padding: .5ex;\n",
       "  margin: .5ex;\n",
       "  width: min-content;\n",
       "  min-width: 20ex;\n",
       "  max-width: 50ex;\n",
       "  color: var(--sklearn-color-text);\n",
       "  box-shadow: 2pt 2pt 4pt #999;\n",
       "  /* unfitted */\n",
       "  background: var(--sklearn-color-unfitted-level-0);\n",
       "  border: .5pt solid var(--sklearn-color-unfitted-level-3);\n",
       "}\n",
       "\n",
       ".sk-estimator-doc-link.fitted span {\n",
       "  /* fitted */\n",
       "  background: var(--sklearn-color-fitted-level-0);\n",
       "  border: var(--sklearn-color-fitted-level-3);\n",
       "}\n",
       "\n",
       ".sk-estimator-doc-link:hover span {\n",
       "  display: block;\n",
       "}\n",
       "\n",
       "/* \"?\"-specific style due to the `<a>` HTML tag */\n",
       "\n",
       "#sk-container-id-2 a.estimator_doc_link {\n",
       "  float: right;\n",
       "  font-size: 1rem;\n",
       "  line-height: 1em;\n",
       "  font-family: monospace;\n",
       "  background-color: var(--sklearn-color-background);\n",
       "  border-radius: 1rem;\n",
       "  height: 1rem;\n",
       "  width: 1rem;\n",
       "  text-decoration: none;\n",
       "  /* unfitted */\n",
       "  color: var(--sklearn-color-unfitted-level-1);\n",
       "  border: var(--sklearn-color-unfitted-level-1) 1pt solid;\n",
       "}\n",
       "\n",
       "#sk-container-id-2 a.estimator_doc_link.fitted {\n",
       "  /* fitted */\n",
       "  border: var(--sklearn-color-fitted-level-1) 1pt solid;\n",
       "  color: var(--sklearn-color-fitted-level-1);\n",
       "}\n",
       "\n",
       "/* On hover */\n",
       "#sk-container-id-2 a.estimator_doc_link:hover {\n",
       "  /* unfitted */\n",
       "  background-color: var(--sklearn-color-unfitted-level-3);\n",
       "  color: var(--sklearn-color-background);\n",
       "  text-decoration: none;\n",
       "}\n",
       "\n",
       "#sk-container-id-2 a.estimator_doc_link.fitted:hover {\n",
       "  /* fitted */\n",
       "  background-color: var(--sklearn-color-fitted-level-3);\n",
       "}\n",
       "</style><div id=\"sk-container-id-2\" class=\"sk-top-container\"><div class=\"sk-text-repr-fallback\"><pre>RandomForestClassifier(max_depth=5, max_features=5, random_state=11)</pre><b>In a Jupyter environment, please rerun this cell to show the HTML representation or trust the notebook. <br />On GitHub, the HTML representation is unable to render, please try loading this page with nbviewer.org.</b></div><div class=\"sk-container\" hidden><div class=\"sk-item\"><div class=\"sk-estimator fitted sk-toggleable\"><input class=\"sk-toggleable__control sk-hidden--visually\" id=\"sk-estimator-id-2\" type=\"checkbox\" checked><label for=\"sk-estimator-id-2\" class=\"sk-toggleable__label fitted sk-toggleable__label-arrow fitted\">&nbsp;&nbsp;RandomForestClassifier<a class=\"sk-estimator-doc-link fitted\" rel=\"noreferrer\" target=\"_blank\" href=\"https://scikit-learn.org/1.4/modules/generated/sklearn.ensemble.RandomForestClassifier.html\">?<span>Documentation for RandomForestClassifier</span></a><span class=\"sk-estimator-doc-link fitted\">i<span>Fitted</span></span></label><div class=\"sk-toggleable__content fitted\"><pre>RandomForestClassifier(max_depth=5, max_features=5, random_state=11)</pre></div> </div></div></div></div>"
      ],
      "text/plain": [
       "RandomForestClassifier(max_depth=5, max_features=5, random_state=11)"
      ]
     },
     "execution_count": 315,
     "metadata": {},
     "output_type": "execute_result"
    }
   ],
   "source": [
    "forest_model.fit(X_train, y_train)"
   ]
  },
  {
   "cell_type": "code",
   "execution_count": 317,
   "id": "a9c815a7-1a3d-4f71-9fea-89017115cade",
   "metadata": {},
   "outputs": [
    {
     "data": {
      "text/plain": [
       "0.8428731762065096"
      ]
     },
     "execution_count": 317,
     "metadata": {},
     "output_type": "execute_result"
    }
   ],
   "source": [
    "forest_model.score(X_train, y_train)"
   ]
  },
  {
   "cell_type": "code",
   "execution_count": 319,
   "id": "f3566334-460c-4142-915f-504c1458236e",
   "metadata": {},
   "outputs": [
    {
     "data": {
      "text/plain": [
       "array([0.83333333, 0.86516854, 0.76404494, 0.87640449, 0.84269663,\n",
       "       0.80898876, 0.83146067, 0.79775281, 0.86516854, 0.85393258])"
      ]
     },
     "execution_count": 319,
     "metadata": {},
     "output_type": "execute_result"
    }
   ],
   "source": [
    "result_RF = cross_val_score(forest_model,X_train,y_train,cv=10)\n",
    "result_RF"
   ]
  },
  {
   "cell_type": "code",
   "execution_count": 323,
   "id": "e2e5c5a3-ffb4-41d2-a548-ee21948011d0",
   "metadata": {},
   "outputs": [
    {
     "data": {
      "text/plain": [
       "0.8338951310861423"
      ]
     },
     "execution_count": 323,
     "metadata": {},
     "output_type": "execute_result"
    }
   ],
   "source": [
    "result_RF.mean()"
   ]
  },
  {
   "cell_type": "markdown",
   "id": "2ac06134-81e9-4695-9e14-4756233894ff",
   "metadata": {},
   "source": [
    "###  에이다 부스팅"
   ]
  },
  {
   "cell_type": "code",
   "execution_count": 332,
   "id": "7c343dfe-c305-41c0-b2c5-9889aeefeb5d",
   "metadata": {},
   "outputs": [],
   "source": [
    "ada_model = AdaBoostClassifier(n_estimators=100, random_state=11)"
   ]
  },
  {
   "cell_type": "code",
   "execution_count": 334,
   "id": "5a908351-9b2b-455b-bb57-c08048f86a06",
   "metadata": {},
   "outputs": [
    {
     "data": {
      "text/plain": [
       "0.8529741863075196"
      ]
     },
     "execution_count": 334,
     "metadata": {},
     "output_type": "execute_result"
    }
   ],
   "source": [
    "ada_model.fit(X_train, y_train)\n",
    "ada_model.score(X_train, y_train)"
   ]
  },
  {
   "cell_type": "code",
   "execution_count": 336,
   "id": "1fd8de31-50b1-4810-ab63-9864c71260e9",
   "metadata": {},
   "outputs": [
    {
     "data": {
      "text/plain": [
       "array([0.77777778, 0.85393258, 0.7752809 , 0.84269663, 0.85393258,\n",
       "       0.78651685, 0.85393258, 0.84269663, 0.85393258, 0.84269663])"
      ]
     },
     "execution_count": 336,
     "metadata": {},
     "output_type": "execute_result"
    }
   ],
   "source": [
    "result_Ada = cross_val_score(ada_model,X_train,y_train,cv=10)\n",
    "result_Ada"
   ]
  },
  {
   "cell_type": "code",
   "execution_count": 338,
   "id": "40b2b53a-c4b2-476b-99f3-246bfd3bc019",
   "metadata": {},
   "outputs": [
    {
     "data": {
      "text/plain": [
       "0.8283395755305867"
      ]
     },
     "execution_count": 338,
     "metadata": {},
     "output_type": "execute_result"
    }
   ],
   "source": [
    "result_Ada.mean()"
   ]
  },
  {
   "cell_type": "markdown",
   "id": "ff78e99d-4713-417e-a63c-ef73606593f7",
   "metadata": {},
   "source": [
    "### 보팅"
   ]
  },
  {
   "cell_type": "code",
   "execution_count": 347,
   "id": "d0df95e6-dbe8-4935-9b92-e066d3f1376d",
   "metadata": {},
   "outputs": [],
   "source": [
    "# 보팅은 서로 다른 모델을 결합하여 최종 결론을 도출하는 앙상블의 종류이기 때문에 사전에 학습된 다른 종류의 모델들이 있어야함\n",
    "voting_model =VotingClassifier(estimators=[('knn',knn_model),('tree',tree_model),('forest',forest_model),('ada',ada_model)],\n",
    "                               voting='soft',          # 소프트 보팅 지정\n",
    "                              )"
   ]
  },
  {
   "cell_type": "code",
   "execution_count": 349,
   "id": "88a0c315-00ed-4e21-a968-ffc11e19980a",
   "metadata": {},
   "outputs": [
    {
     "data": {
      "text/plain": [
       "0.9057239057239057"
      ]
     },
     "execution_count": 349,
     "metadata": {},
     "output_type": "execute_result"
    }
   ],
   "source": [
    "voting_model.fit(X_train, y_train)\n",
    "voting_model.score(X_train, y_train)"
   ]
  },
  {
   "cell_type": "code",
   "execution_count": 351,
   "id": "df6fe3d5-ea32-4745-917c-516191913703",
   "metadata": {},
   "outputs": [
    {
     "data": {
      "text/plain": [
       "array([0.77777778, 0.82022472, 0.73033708, 0.85393258, 0.91011236,\n",
       "       0.82022472, 0.86516854, 0.79775281, 0.84269663, 0.79775281])"
      ]
     },
     "execution_count": 351,
     "metadata": {},
     "output_type": "execute_result"
    }
   ],
   "source": [
    "result_vot = cross_val_score(voting_model,X_train,y_train,cv=10)\n",
    "result_vot"
   ]
  },
  {
   "cell_type": "code",
   "execution_count": 355,
   "id": "66a27411-06ed-49a6-89c0-0aff44631c2d",
   "metadata": {},
   "outputs": [
    {
     "data": {
      "text/plain": [
       "0.821598002496879"
      ]
     },
     "execution_count": 355,
     "metadata": {},
     "output_type": "execute_result"
    }
   ],
   "source": [
    "result_vot.mean()"
   ]
  },
  {
   "cell_type": "markdown",
   "id": "7abab7e5-dfea-4644-892a-64d5ec937b49",
   "metadata": {},
   "source": [
    "- XGboost,LightGBM 설치 (외부 라이브러리)"
   ]
  },
  {
   "cell_type": "code",
   "execution_count": 371,
   "id": "0cdf41f6-1c3b-4099-b077-1766aab3ebd2",
   "metadata": {
    "scrolled": true
   },
   "outputs": [
    {
     "name": "stdout",
     "output_type": "stream",
     "text": [
      "Collecting xgboost\n",
      "  Downloading xgboost-2.1.1-py3-none-win_amd64.whl.metadata (2.1 kB)\n",
      "Requirement already satisfied: numpy in c:\\users\\ben02\\anaconda3\\lib\\site-packages (from xgboost) (1.26.4)\n",
      "Requirement already satisfied: scipy in c:\\users\\ben02\\anaconda3\\lib\\site-packages (from xgboost) (1.13.1)\n",
      "Downloading xgboost-2.1.1-py3-none-win_amd64.whl (124.9 MB)\n",
      "   ---------------------------------------- 0.0/124.9 MB ? eta -:--:--\n",
      "   ---------------------------------------- 0.0/124.9 MB 660.6 kB/s eta 0:03:10\n",
      "   ---------------------------------------- 0.3/124.9 MB 3.8 MB/s eta 0:00:33\n",
      "   ---------------------------------------- 0.8/124.9 MB 6.0 MB/s eta 0:00:21\n",
      "   ---------------------------------------- 1.3/124.9 MB 7.5 MB/s eta 0:00:17\n",
      "    --------------------------------------- 1.7/124.9 MB 7.8 MB/s eta 0:00:16\n",
      "    --------------------------------------- 2.3/124.9 MB 8.7 MB/s eta 0:00:15\n",
      "    --------------------------------------- 2.8/124.9 MB 9.5 MB/s eta 0:00:13\n",
      "   - -------------------------------------- 3.3/124.9 MB 9.7 MB/s eta 0:00:13\n",
      "   - -------------------------------------- 3.9/124.9 MB 9.9 MB/s eta 0:00:13\n",
      "   - -------------------------------------- 4.4/124.9 MB 10.1 MB/s eta 0:00:12\n",
      "   - -------------------------------------- 4.9/124.9 MB 10.2 MB/s eta 0:00:12\n",
      "   - -------------------------------------- 5.5/124.9 MB 10.3 MB/s eta 0:00:12\n",
      "   - -------------------------------------- 6.0/124.9 MB 10.3 MB/s eta 0:00:12\n",
      "   -- ------------------------------------- 6.5/124.9 MB 10.4 MB/s eta 0:00:12\n",
      "   -- ------------------------------------- 7.1/124.9 MB 10.5 MB/s eta 0:00:12\n",
      "   -- ------------------------------------- 7.6/124.9 MB 10.6 MB/s eta 0:00:12\n",
      "   -- ------------------------------------- 8.1/124.9 MB 10.6 MB/s eta 0:00:12\n",
      "   -- ------------------------------------- 8.6/124.9 MB 10.5 MB/s eta 0:00:12\n",
      "   -- ------------------------------------- 9.0/124.9 MB 10.5 MB/s eta 0:00:12\n",
      "   --- ------------------------------------ 9.5/124.9 MB 10.5 MB/s eta 0:00:11\n",
      "   --- ------------------------------------ 10.0/124.9 MB 10.5 MB/s eta 0:00:11\n",
      "   --- ------------------------------------ 10.5/124.9 MB 10.9 MB/s eta 0:00:11\n",
      "   --- ------------------------------------ 10.9/124.9 MB 10.9 MB/s eta 0:00:11\n",
      "   --- ------------------------------------ 11.4/124.9 MB 10.9 MB/s eta 0:00:11\n",
      "   --- ------------------------------------ 12.0/124.9 MB 11.1 MB/s eta 0:00:11\n",
      "   ---- ----------------------------------- 12.5/124.9 MB 10.9 MB/s eta 0:00:11\n",
      "   ---- ----------------------------------- 13.0/124.9 MB 10.9 MB/s eta 0:00:11\n",
      "   ---- ----------------------------------- 13.5/124.9 MB 10.9 MB/s eta 0:00:11\n",
      "   ---- ----------------------------------- 14.1/124.9 MB 10.9 MB/s eta 0:00:11\n",
      "   ---- ----------------------------------- 14.6/124.9 MB 10.9 MB/s eta 0:00:11\n",
      "   ---- ----------------------------------- 15.0/124.9 MB 10.9 MB/s eta 0:00:11\n",
      "   ---- ----------------------------------- 15.5/124.9 MB 10.7 MB/s eta 0:00:11\n",
      "   ----- ---------------------------------- 16.0/124.9 MB 10.7 MB/s eta 0:00:11\n",
      "   ----- ---------------------------------- 16.5/124.9 MB 10.7 MB/s eta 0:00:11\n",
      "   ----- ---------------------------------- 17.0/124.9 MB 10.6 MB/s eta 0:00:11\n",
      "   ----- ---------------------------------- 17.5/124.9 MB 10.7 MB/s eta 0:00:11\n",
      "   ----- ---------------------------------- 18.0/124.9 MB 10.9 MB/s eta 0:00:10\n",
      "   ----- ---------------------------------- 18.5/124.9 MB 10.7 MB/s eta 0:00:10\n",
      "   ------ --------------------------------- 19.0/124.9 MB 10.7 MB/s eta 0:00:10\n",
      "   ------ --------------------------------- 19.6/124.9 MB 10.9 MB/s eta 0:00:10\n",
      "   ------ --------------------------------- 20.1/124.9 MB 10.9 MB/s eta 0:00:10\n",
      "   ------ --------------------------------- 20.6/124.9 MB 10.9 MB/s eta 0:00:10\n",
      "   ------ --------------------------------- 21.1/124.9 MB 11.1 MB/s eta 0:00:10\n",
      "   ------ --------------------------------- 21.7/124.9 MB 11.1 MB/s eta 0:00:10\n",
      "   ------- -------------------------------- 22.2/124.9 MB 11.1 MB/s eta 0:00:10\n",
      "   ------- -------------------------------- 22.8/124.9 MB 11.1 MB/s eta 0:00:10\n",
      "   ------- -------------------------------- 23.2/124.9 MB 11.1 MB/s eta 0:00:10\n",
      "   ------- -------------------------------- 23.7/124.9 MB 11.1 MB/s eta 0:00:10\n",
      "   ------- -------------------------------- 24.2/124.9 MB 10.9 MB/s eta 0:00:10\n",
      "   ------- -------------------------------- 24.7/124.9 MB 10.9 MB/s eta 0:00:10\n",
      "   -------- ------------------------------- 25.2/124.9 MB 11.1 MB/s eta 0:00:09\n",
      "   -------- ------------------------------- 25.8/124.9 MB 11.1 MB/s eta 0:00:09\n",
      "   -------- ------------------------------- 26.3/124.9 MB 11.1 MB/s eta 0:00:09\n",
      "   -------- ------------------------------- 26.8/124.9 MB 11.1 MB/s eta 0:00:09\n",
      "   -------- ------------------------------- 27.4/124.9 MB 11.3 MB/s eta 0:00:09\n",
      "   -------- ------------------------------- 27.9/124.9 MB 11.3 MB/s eta 0:00:09\n",
      "   --------- ------------------------------ 28.4/124.9 MB 11.3 MB/s eta 0:00:09\n",
      "   --------- ------------------------------ 29.0/124.9 MB 11.3 MB/s eta 0:00:09\n",
      "   --------- ------------------------------ 29.4/124.9 MB 11.3 MB/s eta 0:00:09\n",
      "   --------- ------------------------------ 29.4/124.9 MB 11.3 MB/s eta 0:00:09\n",
      "   --------- ------------------------------ 29.4/124.9 MB 11.3 MB/s eta 0:00:09\n",
      "   --------- ------------------------------ 29.4/124.9 MB 9.8 MB/s eta 0:00:10\n",
      "   --------- ------------------------------ 29.9/124.9 MB 9.8 MB/s eta 0:00:10\n",
      "   --------- ------------------------------ 30.4/124.9 MB 9.6 MB/s eta 0:00:10\n",
      "   --------- ------------------------------ 30.9/124.9 MB 9.8 MB/s eta 0:00:10\n",
      "   ---------- ----------------------------- 31.4/124.9 MB 9.6 MB/s eta 0:00:10\n",
      "   ---------- ----------------------------- 31.9/124.9 MB 9.6 MB/s eta 0:00:10\n",
      "   ---------- ----------------------------- 32.4/124.9 MB 9.6 MB/s eta 0:00:10\n",
      "   ---------- ----------------------------- 32.9/124.9 MB 9.6 MB/s eta 0:00:10\n",
      "   ---------- ----------------------------- 33.4/124.9 MB 9.6 MB/s eta 0:00:10\n",
      "   ---------- ----------------------------- 34.0/124.9 MB 9.6 MB/s eta 0:00:10\n",
      "   ----------- ---------------------------- 34.5/124.9 MB 9.8 MB/s eta 0:00:10\n",
      "   ----------- ---------------------------- 35.1/124.9 MB 9.8 MB/s eta 0:00:10\n",
      "   ----------- ---------------------------- 35.6/124.9 MB 9.8 MB/s eta 0:00:10\n",
      "   ----------- ---------------------------- 36.1/124.9 MB 9.8 MB/s eta 0:00:10\n",
      "   ----------- ---------------------------- 36.7/124.9 MB 9.8 MB/s eta 0:00:10\n",
      "   ----------- ---------------------------- 37.2/124.9 MB 9.8 MB/s eta 0:00:09\n",
      "   ------------ --------------------------- 37.6/124.9 MB 9.6 MB/s eta 0:00:10\n",
      "   ------------ --------------------------- 38.1/124.9 MB 9.6 MB/s eta 0:00:10\n",
      "   ------------ --------------------------- 38.6/124.9 MB 9.6 MB/s eta 0:00:09\n",
      "   ------------ --------------------------- 38.8/124.9 MB 9.6 MB/s eta 0:00:09\n",
      "   ------------ --------------------------- 38.8/124.9 MB 9.6 MB/s eta 0:00:09\n",
      "   ------------ --------------------------- 38.8/124.9 MB 9.6 MB/s eta 0:00:09\n",
      "   ------------ --------------------------- 38.9/124.9 MB 8.3 MB/s eta 0:00:11\n",
      "   ------------ --------------------------- 39.4/124.9 MB 8.4 MB/s eta 0:00:11\n",
      "   ------------ --------------------------- 39.8/124.9 MB 9.5 MB/s eta 0:00:09\n",
      "   ------------ --------------------------- 40.4/124.9 MB 9.5 MB/s eta 0:00:09\n",
      "   ------------- -------------------------- 40.9/124.9 MB 9.5 MB/s eta 0:00:09\n",
      "   ------------- -------------------------- 41.5/124.9 MB 9.5 MB/s eta 0:00:09\n",
      "   ------------- -------------------------- 42.0/124.9 MB 9.6 MB/s eta 0:00:09\n",
      "   ------------- -------------------------- 42.5/124.9 MB 9.6 MB/s eta 0:00:09\n",
      "   ------------- -------------------------- 43.1/124.9 MB 9.6 MB/s eta 0:00:09\n",
      "   ------------- -------------------------- 43.6/124.9 MB 9.5 MB/s eta 0:00:09\n",
      "   -------------- ------------------------- 44.1/124.9 MB 9.6 MB/s eta 0:00:09\n",
      "   -------------- ------------------------- 44.7/124.9 MB 9.6 MB/s eta 0:00:09\n",
      "   -------------- ------------------------- 45.1/124.9 MB 9.5 MB/s eta 0:00:09\n",
      "   -------------- ------------------------- 45.6/124.9 MB 9.5 MB/s eta 0:00:09\n",
      "   -------------- ------------------------- 46.1/124.9 MB 9.5 MB/s eta 0:00:09\n",
      "   -------------- ------------------------- 46.6/124.9 MB 9.4 MB/s eta 0:00:09\n",
      "   --------------- ------------------------ 47.2/124.9 MB 9.4 MB/s eta 0:00:09\n",
      "   --------------- ------------------------ 47.7/124.9 MB 9.5 MB/s eta 0:00:09\n",
      "   --------------- ------------------------ 48.2/124.9 MB 9.5 MB/s eta 0:00:09\n",
      "   --------------- ------------------------ 48.8/124.9 MB 9.5 MB/s eta 0:00:09\n",
      "   --------------- ------------------------ 49.3/124.9 MB 11.3 MB/s eta 0:00:07\n",
      "   --------------- ------------------------ 49.9/124.9 MB 11.3 MB/s eta 0:00:07\n",
      "   ---------------- ----------------------- 50.3/124.9 MB 11.3 MB/s eta 0:00:07\n",
      "   ---------------- ----------------------- 50.3/124.9 MB 11.3 MB/s eta 0:00:07\n",
      "   ---------------- ----------------------- 50.3/124.9 MB 11.3 MB/s eta 0:00:07\n",
      "   ---------------- ----------------------- 50.3/124.9 MB 11.3 MB/s eta 0:00:07\n",
      "   ---------------- ----------------------- 50.3/124.9 MB 11.3 MB/s eta 0:00:07\n",
      "   ---------------- ----------------------- 50.4/124.9 MB 9.0 MB/s eta 0:00:09\n",
      "   ---------------- ----------------------- 51.0/124.9 MB 9.0 MB/s eta 0:00:09\n",
      "   ---------------- ----------------------- 51.5/124.9 MB 9.0 MB/s eta 0:00:09\n",
      "   ---------------- ----------------------- 52.0/124.9 MB 9.0 MB/s eta 0:00:09\n",
      "   ---------------- ----------------------- 52.4/124.9 MB 9.0 MB/s eta 0:00:09\n",
      "   ---------------- ----------------------- 52.9/124.9 MB 8.8 MB/s eta 0:00:09\n",
      "   ----------------- ---------------------- 53.4/124.9 MB 8.8 MB/s eta 0:00:09\n",
      "   ----------------- ---------------------- 53.9/124.9 MB 8.8 MB/s eta 0:00:09\n",
      "   ----------------- ---------------------- 54.5/124.9 MB 8.8 MB/s eta 0:00:08\n",
      "   ----------------- ---------------------- 55.0/124.9 MB 8.8 MB/s eta 0:00:08\n",
      "   ----------------- ---------------------- 55.5/124.9 MB 8.8 MB/s eta 0:00:08\n",
      "   ----------------- ---------------------- 56.1/124.9 MB 9.0 MB/s eta 0:00:08\n",
      "   ------------------ --------------------- 56.6/124.9 MB 9.1 MB/s eta 0:00:08\n",
      "   ------------------ --------------------- 57.1/124.9 MB 9.1 MB/s eta 0:00:08\n",
      "   ------------------ --------------------- 57.7/124.9 MB 9.1 MB/s eta 0:00:08\n",
      "   ------------------ --------------------- 58.2/124.9 MB 9.1 MB/s eta 0:00:08\n",
      "   ------------------ --------------------- 58.7/124.9 MB 9.1 MB/s eta 0:00:08\n",
      "   ------------------ --------------------- 59.2/124.9 MB 9.0 MB/s eta 0:00:08\n",
      "   ------------------- -------------------- 59.8/124.9 MB 9.0 MB/s eta 0:00:08\n",
      "   ------------------- -------------------- 60.3/124.9 MB 9.0 MB/s eta 0:00:08\n",
      "   ------------------- -------------------- 60.8/124.9 MB 11.1 MB/s eta 0:00:06\n",
      "   ------------------- -------------------- 61.3/124.9 MB 11.1 MB/s eta 0:00:06\n",
      "   ------------------- -------------------- 61.8/124.9 MB 11.1 MB/s eta 0:00:06\n",
      "   ------------------- -------------------- 62.3/124.9 MB 11.1 MB/s eta 0:00:06\n",
      "   -------------------- ------------------- 62.8/124.9 MB 11.3 MB/s eta 0:00:06\n",
      "   -------------------- ------------------- 63.3/124.9 MB 11.3 MB/s eta 0:00:06\n",
      "   -------------------- ------------------- 63.8/124.9 MB 11.3 MB/s eta 0:00:06\n",
      "   -------------------- ------------------- 64.2/124.9 MB 11.1 MB/s eta 0:00:06\n",
      "   -------------------- ------------------- 64.7/124.9 MB 11.1 MB/s eta 0:00:06\n",
      "   -------------------- ------------------- 65.3/124.9 MB 11.1 MB/s eta 0:00:06\n",
      "   --------------------- ------------------ 65.8/124.9 MB 11.1 MB/s eta 0:00:06\n",
      "   --------------------- ------------------ 66.4/124.9 MB 11.1 MB/s eta 0:00:06\n",
      "   --------------------- ------------------ 66.8/124.9 MB 10.9 MB/s eta 0:00:06\n",
      "   --------------------- ------------------ 67.1/124.9 MB 10.9 MB/s eta 0:00:06\n",
      "   --------------------- ------------------ 67.2/124.9 MB 10.4 MB/s eta 0:00:06\n",
      "   --------------------- ------------------ 67.7/124.9 MB 10.2 MB/s eta 0:00:06\n",
      "   --------------------- ------------------ 68.2/124.9 MB 10.2 MB/s eta 0:00:06\n",
      "   --------------------- ------------------ 68.7/124.9 MB 10.2 MB/s eta 0:00:06\n",
      "   ---------------------- ----------------- 69.2/124.9 MB 10.2 MB/s eta 0:00:06\n",
      "   ---------------------- ----------------- 69.7/124.9 MB 10.2 MB/s eta 0:00:06\n",
      "   ---------------------- ----------------- 70.3/124.9 MB 10.2 MB/s eta 0:00:06\n",
      "   ---------------------- ----------------- 70.8/124.9 MB 10.2 MB/s eta 0:00:06\n",
      "   ---------------------- ----------------- 71.4/124.9 MB 10.2 MB/s eta 0:00:06\n",
      "   ----------------------- ---------------- 71.9/124.9 MB 10.4 MB/s eta 0:00:06\n",
      "   ----------------------- ---------------- 72.4/124.9 MB 10.4 MB/s eta 0:00:06\n",
      "   ----------------------- ---------------- 73.0/124.9 MB 10.4 MB/s eta 0:00:05\n",
      "   ----------------------- ---------------- 73.5/124.9 MB 10.4 MB/s eta 0:00:05\n",
      "   ----------------------- ---------------- 74.0/124.9 MB 10.2 MB/s eta 0:00:05\n",
      "   ----------------------- ---------------- 74.5/124.9 MB 10.4 MB/s eta 0:00:05\n",
      "   ----------------------- ---------------- 74.9/124.9 MB 10.4 MB/s eta 0:00:05\n",
      "   ------------------------ --------------- 75.4/124.9 MB 10.4 MB/s eta 0:00:05\n",
      "   ------------------------ --------------- 75.9/124.9 MB 10.2 MB/s eta 0:00:05\n",
      "   ------------------------ --------------- 76.5/124.9 MB 10.2 MB/s eta 0:00:05\n",
      "   ------------------------ --------------- 77.0/124.9 MB 10.2 MB/s eta 0:00:05\n",
      "   ------------------------ --------------- 77.5/124.9 MB 11.1 MB/s eta 0:00:05\n",
      "   ------------------------ --------------- 78.0/124.9 MB 11.3 MB/s eta 0:00:05\n",
      "   ------------------------- -------------- 78.6/124.9 MB 11.3 MB/s eta 0:00:05\n",
      "   ------------------------- -------------- 79.1/124.9 MB 11.3 MB/s eta 0:00:05\n",
      "   ------------------------- -------------- 79.6/124.9 MB 11.3 MB/s eta 0:00:05\n",
      "   ------------------------- -------------- 80.2/124.9 MB 11.3 MB/s eta 0:00:04\n",
      "   ------------------------- -------------- 80.7/124.9 MB 11.3 MB/s eta 0:00:04\n",
      "   -------------------------- ------------- 81.3/124.9 MB 11.3 MB/s eta 0:00:04\n",
      "   -------------------------- ------------- 81.8/124.9 MB 11.3 MB/s eta 0:00:04\n",
      "   -------------------------- ------------- 82.3/124.9 MB 11.3 MB/s eta 0:00:04\n",
      "   -------------------------- ------------- 82.7/124.9 MB 11.1 MB/s eta 0:00:04\n",
      "   -------------------------- ------------- 83.3/124.9 MB 11.1 MB/s eta 0:00:04\n",
      "   -------------------------- ------------- 83.8/124.9 MB 11.3 MB/s eta 0:00:04\n",
      "   --------------------------- ------------ 84.3/124.9 MB 11.3 MB/s eta 0:00:04\n",
      "   --------------------------- ------------ 84.8/124.9 MB 11.1 MB/s eta 0:00:04\n",
      "   --------------------------- ------------ 85.3/124.9 MB 11.3 MB/s eta 0:00:04\n",
      "   --------------------------- ------------ 85.9/124.9 MB 11.3 MB/s eta 0:00:04\n",
      "   --------------------------- ------------ 86.4/124.9 MB 11.3 MB/s eta 0:00:04\n",
      "   --------------------------- ------------ 87.0/124.9 MB 11.3 MB/s eta 0:00:04\n",
      "   ---------------------------- ----------- 87.5/124.9 MB 11.3 MB/s eta 0:00:04\n",
      "   ---------------------------- ----------- 88.0/124.9 MB 11.3 MB/s eta 0:00:04\n",
      "   ---------------------------- ----------- 88.6/124.9 MB 11.3 MB/s eta 0:00:04\n",
      "   ---------------------------- ----------- 89.1/124.9 MB 11.3 MB/s eta 0:00:04\n",
      "   ---------------------------- ----------- 89.5/124.9 MB 11.3 MB/s eta 0:00:04\n",
      "   ---------------------------- ----------- 90.0/124.9 MB 11.1 MB/s eta 0:00:04\n",
      "   ---------------------------- ----------- 90.5/124.9 MB 11.1 MB/s eta 0:00:04\n",
      "   ----------------------------- ---------- 91.0/124.9 MB 10.9 MB/s eta 0:00:04\n",
      "   ----------------------------- ---------- 91.5/124.9 MB 10.9 MB/s eta 0:00:04\n",
      "   ----------------------------- ---------- 92.1/124.9 MB 11.1 MB/s eta 0:00:03\n",
      "   ----------------------------- ---------- 92.5/124.9 MB 10.9 MB/s eta 0:00:03\n",
      "   ----------------------------- ---------- 93.0/124.9 MB 11.1 MB/s eta 0:00:03\n",
      "   ----------------------------- ---------- 93.3/124.9 MB 11.1 MB/s eta 0:00:03\n",
      "   ----------------------------- ---------- 93.3/124.9 MB 11.1 MB/s eta 0:00:03\n",
      "   ----------------------------- ---------- 93.3/124.9 MB 11.1 MB/s eta 0:00:03\n",
      "   ----------------------------- ---------- 93.3/124.9 MB 11.1 MB/s eta 0:00:03\n",
      "   ----------------------------- ---------- 93.3/124.9 MB 11.1 MB/s eta 0:00:03\n",
      "   ----------------------------- ---------- 93.4/124.9 MB 8.7 MB/s eta 0:00:04\n",
      "   ------------------------------ --------- 94.0/124.9 MB 8.7 MB/s eta 0:00:04\n",
      "   ------------------------------ --------- 94.5/124.9 MB 8.7 MB/s eta 0:00:04\n",
      "   ------------------------------ --------- 95.0/124.9 MB 8.7 MB/s eta 0:00:04\n",
      "   ------------------------------ --------- 95.6/124.9 MB 8.7 MB/s eta 0:00:04\n",
      "   ------------------------------ --------- 96.1/124.9 MB 8.7 MB/s eta 0:00:04\n",
      "   ------------------------------ --------- 96.6/124.9 MB 8.7 MB/s eta 0:00:04\n",
      "   ------------------------------- -------- 97.1/124.9 MB 8.6 MB/s eta 0:00:04\n",
      "   ------------------------------- -------- 97.6/124.9 MB 8.6 MB/s eta 0:00:04\n",
      "   ------------------------------- -------- 98.1/124.9 MB 8.6 MB/s eta 0:00:04\n",
      "   ------------------------------- -------- 98.6/124.9 MB 8.6 MB/s eta 0:00:04\n",
      "   ------------------------------- -------- 99.1/124.9 MB 8.7 MB/s eta 0:00:03\n",
      "   ------------------------------- -------- 99.7/124.9 MB 8.7 MB/s eta 0:00:03\n",
      "   -------------------------------- ------- 100.2/124.9 MB 8.8 MB/s eta 0:00:03\n",
      "   -------------------------------- ------- 100.7/124.9 MB 8.8 MB/s eta 0:00:03\n",
      "   -------------------------------- ------- 101.3/124.9 MB 8.8 MB/s eta 0:00:03\n",
      "   -------------------------------- ------- 101.8/124.9 MB 8.8 MB/s eta 0:00:03\n",
      "   -------------------------------- ------- 102.3/124.9 MB 8.8 MB/s eta 0:00:03\n",
      "   -------------------------------- ------- 102.9/124.9 MB 8.8 MB/s eta 0:00:03\n",
      "   --------------------------------- ------ 103.4/124.9 MB 8.8 MB/s eta 0:00:03\n",
      "   -------------------------------- ------ 103.9/124.9 MB 11.3 MB/s eta 0:00:02\n",
      "   -------------------------------- ------ 104.4/124.9 MB 11.3 MB/s eta 0:00:02\n",
      "   -------------------------------- ------ 104.9/124.9 MB 11.3 MB/s eta 0:00:02\n",
      "   -------------------------------- ------ 105.1/124.9 MB 10.9 MB/s eta 0:00:02\n",
      "   -------------------------------- ------ 105.4/124.9 MB 10.7 MB/s eta 0:00:02\n",
      "   -------------------------------- ------ 105.7/124.9 MB 10.4 MB/s eta 0:00:02\n",
      "   --------------------------------- ----- 106.0/124.9 MB 10.2 MB/s eta 0:00:02\n",
      "   --------------------------------- ----- 106.3/124.9 MB 10.1 MB/s eta 0:00:02\n",
      "   ---------------------------------- ----- 106.6/124.9 MB 9.8 MB/s eta 0:00:02\n",
      "   ---------------------------------- ----- 106.9/124.9 MB 9.6 MB/s eta 0:00:02\n",
      "   ---------------------------------- ----- 107.2/124.9 MB 9.5 MB/s eta 0:00:02\n",
      "   ---------------------------------- ----- 107.6/124.9 MB 9.4 MB/s eta 0:00:02\n",
      "   ---------------------------------- ----- 108.0/124.9 MB 9.4 MB/s eta 0:00:02\n",
      "   ---------------------------------- ----- 108.4/124.9 MB 9.2 MB/s eta 0:00:02\n",
      "   ---------------------------------- ----- 108.8/124.9 MB 9.1 MB/s eta 0:00:02\n",
      "   ---------------------------------- ----- 109.3/124.9 MB 9.1 MB/s eta 0:00:02\n",
      "   ----------------------------------- ---- 109.7/124.9 MB 9.0 MB/s eta 0:00:02\n",
      "   ----------------------------------- ---- 110.1/124.9 MB 9.0 MB/s eta 0:00:02\n",
      "   ----------------------------------- ---- 110.6/124.9 MB 8.8 MB/s eta 0:00:02\n",
      "   ----------------------------------- ---- 111.1/124.9 MB 8.8 MB/s eta 0:00:02\n",
      "   ----------------------------------- ---- 111.6/124.9 MB 8.8 MB/s eta 0:00:02\n",
      "   ----------------------------------- ---- 112.1/124.9 MB 8.8 MB/s eta 0:00:02\n",
      "   ------------------------------------ --- 112.6/124.9 MB 8.8 MB/s eta 0:00:02\n",
      "   ------------------------------------ --- 113.1/124.9 MB 8.7 MB/s eta 0:00:02\n",
      "   ------------------------------------ --- 113.7/124.9 MB 8.7 MB/s eta 0:00:02\n",
      "   ------------------------------------ --- 114.2/124.9 MB 8.7 MB/s eta 0:00:02\n",
      "   ------------------------------------ --- 114.5/124.9 MB 8.6 MB/s eta 0:00:02\n",
      "   ------------------------------------ --- 115.0/124.9 MB 8.7 MB/s eta 0:00:02\n",
      "   ------------------------------------- -- 115.6/124.9 MB 9.1 MB/s eta 0:00:02\n",
      "   ------------------------------------- -- 116.1/124.9 MB 9.5 MB/s eta 0:00:01\n",
      "   ------------------------------------- -- 116.7/124.9 MB 9.8 MB/s eta 0:00:01\n",
      "   ------------------------------------ -- 117.2/124.9 MB 10.1 MB/s eta 0:00:01\n",
      "   ------------------------------------ -- 117.7/124.9 MB 10.2 MB/s eta 0:00:01\n",
      "   ------------------------------------ -- 118.2/124.9 MB 10.4 MB/s eta 0:00:01\n",
      "   ------------------------------------ -- 118.5/124.9 MB 10.4 MB/s eta 0:00:01\n",
      "   ------------------------------------- - 118.7/124.9 MB 10.1 MB/s eta 0:00:01\n",
      "   ------------------------------------- - 119.2/124.9 MB 10.2 MB/s eta 0:00:01\n",
      "   ------------------------------------- - 119.8/124.9 MB 10.2 MB/s eta 0:00:01\n",
      "   ------------------------------------- - 120.3/124.9 MB 10.4 MB/s eta 0:00:01\n",
      "   ------------------------------------- - 120.8/124.9 MB 10.4 MB/s eta 0:00:01\n",
      "   ------------------------------------- - 121.3/124.9 MB 10.4 MB/s eta 0:00:01\n",
      "   --------------------------------------  121.9/124.9 MB 10.4 MB/s eta 0:00:01\n",
      "   --------------------------------------  122.4/124.9 MB 10.6 MB/s eta 0:00:01\n",
      "   --------------------------------------  122.9/124.9 MB 10.6 MB/s eta 0:00:01\n",
      "   --------------------------------------  123.5/124.9 MB 10.6 MB/s eta 0:00:01\n",
      "   --------------------------------------  124.0/124.9 MB 10.7 MB/s eta 0:00:01\n",
      "   --------------------------------------  124.6/124.9 MB 10.9 MB/s eta 0:00:01\n",
      "   --------------------------------------  124.9/124.9 MB 10.7 MB/s eta 0:00:01\n",
      "   --------------------------------------  124.9/124.9 MB 10.7 MB/s eta 0:00:01\n",
      "   --------------------------------------  124.9/124.9 MB 10.7 MB/s eta 0:00:01\n",
      "   ---------------------------------------- 124.9/124.9 MB 9.5 MB/s eta 0:00:00\n",
      "Installing collected packages: xgboost\n",
      "Successfully installed xgboost-2.1.1\n"
     ]
    }
   ],
   "source": [
    "#!pip install xgboost"
   ]
  },
  {
   "cell_type": "code",
   "execution_count": 369,
   "id": "1213d682-4153-4322-9dec-57162d4015f9",
   "metadata": {},
   "outputs": [
    {
     "name": "stdout",
     "output_type": "stream",
     "text": [
      "Requirement already satisfied: lightgbm in c:\\users\\ben02\\anaconda3\\lib\\site-packages (4.5.0)\n",
      "Requirement already satisfied: numpy>=1.17.0 in c:\\users\\ben02\\anaconda3\\lib\\site-packages (from lightgbm) (1.26.4)\n",
      "Requirement already satisfied: scipy in c:\\users\\ben02\\anaconda3\\lib\\site-packages (from lightgbm) (1.13.1)\n"
     ]
    }
   ],
   "source": [
    "#!pip install lightgbm"
   ]
  },
  {
   "cell_type": "code",
   "execution_count": 373,
   "id": "343b7527-643e-4223-94e2-63013e6ccc99",
   "metadata": {},
   "outputs": [],
   "source": [
    "from xgboost import XGBClassifier\n",
    "from lightgbm import LGBMClassifier"
   ]
  },
  {
   "cell_type": "markdown",
   "id": "18e9b31c-8911-4f79-86a5-ee313f1e85c3",
   "metadata": {},
   "source": [
    "## XG부스팅"
   ]
  },
  {
   "cell_type": "code",
   "execution_count": 376,
   "id": "c9fb9b90-7894-44d3-9c0f-4db56e812779",
   "metadata": {},
   "outputs": [],
   "source": [
    "xg_model = XGBClassifier(n_esatimators = 100, random_state=11)"
   ]
  },
  {
   "cell_type": "code",
   "execution_count": 378,
   "id": "e7b78153-6a50-4b12-a829-00006ecf0804",
   "metadata": {},
   "outputs": [
    {
     "data": {
      "text/plain": [
       "0.9730639730639731"
      ]
     },
     "execution_count": 378,
     "metadata": {},
     "output_type": "execute_result"
    }
   ],
   "source": [
    "xg_model.fit(X_train, y_train)\n",
    "xg_model.score(X_train, y_train)"
   ]
  },
  {
   "cell_type": "code",
   "execution_count": 380,
   "id": "9f789235-76a8-479c-974f-f8810e3127b8",
   "metadata": {},
   "outputs": [
    {
     "data": {
      "text/plain": [
       "array([0.77777778, 0.85393258, 0.74157303, 0.85393258, 0.85393258,\n",
       "       0.85393258, 0.85393258, 0.80898876, 0.87640449, 0.80898876])"
      ]
     },
     "execution_count": 380,
     "metadata": {},
     "output_type": "execute_result"
    }
   ],
   "source": [
    "result_xg = cross_val_score(xg_model,X_train,y_train,cv=10)\n",
    "result_xg"
   ]
  },
  {
   "cell_type": "code",
   "execution_count": 382,
   "id": "cea92de2-0a50-4d32-bb02-2d6cb8a008ca",
   "metadata": {},
   "outputs": [
    {
     "data": {
      "text/plain": [
       "0.8283395755305868"
      ]
     },
     "execution_count": 382,
     "metadata": {},
     "output_type": "execute_result"
    }
   ],
   "source": [
    "result_xg.mean()"
   ]
  },
  {
   "cell_type": "code",
   "execution_count": null,
   "id": "892abc3d-e922-4015-8254-08d6e694fd39",
   "metadata": {},
   "outputs": [],
   "source": []
  },
  {
   "cell_type": "code",
   "execution_count": 390,
   "id": "ae9bb471-0c2f-4201-a3d2-ed59a25d1733",
   "metadata": {},
   "outputs": [
    {
     "name": "stdout",
     "output_type": "stream",
     "text": [
      "[LightGBM] [Info] Number of positive: 342, number of negative: 549\n",
      "[LightGBM] [Info] Auto-choosing row-wise multi-threading, the overhead of testing was 0.000181 seconds.\n",
      "You can set `force_row_wise=true` to remove the overhead.\n",
      "And if memory is not enough, you can set `force_col_wise=true`.\n",
      "[LightGBM] [Info] Total Bins 236\n",
      "[LightGBM] [Info] Number of data points in the train set: 891, number of used features: 21\n",
      "[LightGBM] [Info] [binary:BoostFromScore]: pavg=0.383838 -> initscore=-0.473288\n",
      "[LightGBM] [Info] Start training from score -0.473288\n"
     ]
    },
    {
     "data": {
      "text/plain": [
       "0.9528619528619529"
      ]
     },
     "execution_count": 390,
     "metadata": {},
     "output_type": "execute_result"
    }
   ],
   "source": [
    "lgb_model= LGBMClassifier(n_estimators=100, random_state=11)\n",
    "lgb_model.fit(X_train, y_train)\n",
    "lgb_model.score(X_train, y_train)"
   ]
  },
  {
   "cell_type": "code",
   "execution_count": 392,
   "id": "248f601d-581a-4a3a-a06d-0ec307cdc75b",
   "metadata": {
    "scrolled": true
   },
   "outputs": [
    {
     "name": "stdout",
     "output_type": "stream",
     "text": [
      "[LightGBM] [Info] Number of positive: 307, number of negative: 494\n",
      "[LightGBM] [Info] Auto-choosing row-wise multi-threading, the overhead of testing was 0.000090 seconds.\n",
      "You can set `force_row_wise=true` to remove the overhead.\n",
      "And if memory is not enough, you can set `force_col_wise=true`.\n",
      "[LightGBM] [Info] Total Bins 226\n",
      "[LightGBM] [Info] Number of data points in the train set: 801, number of used features: 21\n",
      "[LightGBM] [Info] [binary:BoostFromScore]: pavg=0.383271 -> initscore=-0.475688\n",
      "[LightGBM] [Info] Start training from score -0.475688\n",
      "[LightGBM] [Warning] No further splits with positive gain, best gain: -inf\n",
      "[LightGBM] [Warning] No further splits with positive gain, best gain: -inf\n",
      "[LightGBM] [Warning] No further splits with positive gain, best gain: -inf\n",
      "[LightGBM] [Warning] No further splits with positive gain, best gain: -inf\n",
      "[LightGBM] [Warning] No further splits with positive gain, best gain: -inf\n",
      "[LightGBM] [Warning] No further splits with positive gain, best gain: -inf\n",
      "[LightGBM] [Warning] No further splits with positive gain, best gain: -inf\n",
      "[LightGBM] [Warning] No further splits with positive gain, best gain: -inf\n",
      "[LightGBM] [Warning] No further splits with positive gain, best gain: -inf\n",
      "[LightGBM] [Warning] No further splits with positive gain, best gain: -inf\n",
      "[LightGBM] [Warning] No further splits with positive gain, best gain: -inf\n",
      "[LightGBM] [Warning] No further splits with positive gain, best gain: -inf\n",
      "[LightGBM] [Warning] No further splits with positive gain, best gain: -inf\n",
      "[LightGBM] [Warning] No further splits with positive gain, best gain: -inf\n",
      "[LightGBM] [Warning] No further splits with positive gain, best gain: -inf\n",
      "[LightGBM] [Warning] No further splits with positive gain, best gain: -inf\n",
      "[LightGBM] [Warning] No further splits with positive gain, best gain: -inf\n",
      "[LightGBM] [Warning] No further splits with positive gain, best gain: -inf\n",
      "[LightGBM] [Warning] No further splits with positive gain, best gain: -inf\n",
      "[LightGBM] [Warning] No further splits with positive gain, best gain: -inf\n",
      "[LightGBM] [Warning] No further splits with positive gain, best gain: -inf\n",
      "[LightGBM] [Warning] No further splits with positive gain, best gain: -inf\n",
      "[LightGBM] [Warning] No further splits with positive gain, best gain: -inf\n",
      "[LightGBM] [Warning] No further splits with positive gain, best gain: -inf\n",
      "[LightGBM] [Warning] No further splits with positive gain, best gain: -inf\n",
      "[LightGBM] [Warning] No further splits with positive gain, best gain: -inf\n",
      "[LightGBM] [Warning] No further splits with positive gain, best gain: -inf\n",
      "[LightGBM] [Warning] No further splits with positive gain, best gain: -inf\n",
      "[LightGBM] [Warning] No further splits with positive gain, best gain: -inf\n",
      "[LightGBM] [Warning] No further splits with positive gain, best gain: -inf\n",
      "[LightGBM] [Info] Number of positive: 308, number of negative: 494\n",
      "[LightGBM] [Info] Auto-choosing row-wise multi-threading, the overhead of testing was 0.000067 seconds.\n",
      "You can set `force_row_wise=true` to remove the overhead.\n",
      "And if memory is not enough, you can set `force_col_wise=true`.\n",
      "[LightGBM] [Info] Total Bins 228\n",
      "[LightGBM] [Info] Number of data points in the train set: 802, number of used features: 21\n",
      "[LightGBM] [Info] [binary:BoostFromScore]: pavg=0.384040 -> initscore=-0.472436\n",
      "[LightGBM] [Info] Start training from score -0.472436\n",
      "[LightGBM] [Warning] No further splits with positive gain, best gain: -inf\n",
      "[LightGBM] [Warning] No further splits with positive gain, best gain: -inf\n",
      "[LightGBM] [Warning] No further splits with positive gain, best gain: -inf\n",
      "[LightGBM] [Warning] No further splits with positive gain, best gain: -inf\n",
      "[LightGBM] [Warning] No further splits with positive gain, best gain: -inf\n",
      "[LightGBM] [Warning] No further splits with positive gain, best gain: -inf\n",
      "[LightGBM] [Warning] No further splits with positive gain, best gain: -inf\n",
      "[LightGBM] [Warning] No further splits with positive gain, best gain: -inf\n",
      "[LightGBM] [Warning] No further splits with positive gain, best gain: -inf\n",
      "[LightGBM] [Warning] No further splits with positive gain, best gain: -inf\n",
      "[LightGBM] [Warning] No further splits with positive gain, best gain: -inf\n",
      "[LightGBM] [Warning] No further splits with positive gain, best gain: -inf\n",
      "[LightGBM] [Warning] No further splits with positive gain, best gain: -inf\n",
      "[LightGBM] [Warning] No further splits with positive gain, best gain: -inf\n",
      "[LightGBM] [Warning] No further splits with positive gain, best gain: -inf\n",
      "[LightGBM] [Warning] No further splits with positive gain, best gain: -inf\n",
      "[LightGBM] [Warning] No further splits with positive gain, best gain: -inf\n",
      "[LightGBM] [Warning] No further splits with positive gain, best gain: -inf\n",
      "[LightGBM] [Warning] No further splits with positive gain, best gain: -inf\n",
      "[LightGBM] [Warning] No further splits with positive gain, best gain: -inf\n",
      "[LightGBM] [Warning] No further splits with positive gain, best gain: -inf\n",
      "[LightGBM] [Warning] No further splits with positive gain, best gain: -inf\n",
      "[LightGBM] [Warning] No further splits with positive gain, best gain: -inf\n",
      "[LightGBM] [Warning] No further splits with positive gain, best gain: -inf\n",
      "[LightGBM] [Warning] No further splits with positive gain, best gain: -inf\n",
      "[LightGBM] [Warning] No further splits with positive gain, best gain: -inf\n",
      "[LightGBM] [Warning] No further splits with positive gain, best gain: -inf\n",
      "[LightGBM] [Warning] No further splits with positive gain, best gain: -inf\n",
      "[LightGBM] [Warning] No further splits with positive gain, best gain: -inf\n",
      "[LightGBM] [Info] Number of positive: 308, number of negative: 494\n",
      "[LightGBM] [Info] Auto-choosing row-wise multi-threading, the overhead of testing was 0.000076 seconds.\n",
      "You can set `force_row_wise=true` to remove the overhead.\n",
      "And if memory is not enough, you can set `force_col_wise=true`.\n",
      "[LightGBM] [Info] Total Bins 230\n",
      "[LightGBM] [Info] Number of data points in the train set: 802, number of used features: 21\n",
      "[LightGBM] [Info] [binary:BoostFromScore]: pavg=0.384040 -> initscore=-0.472436\n",
      "[LightGBM] [Info] Start training from score -0.472436\n",
      "[LightGBM] [Warning] No further splits with positive gain, best gain: -inf\n",
      "[LightGBM] [Warning] No further splits with positive gain, best gain: -inf\n",
      "[LightGBM] [Warning] No further splits with positive gain, best gain: -inf\n",
      "[LightGBM] [Warning] No further splits with positive gain, best gain: -inf\n",
      "[LightGBM] [Warning] No further splits with positive gain, best gain: -inf\n",
      "[LightGBM] [Warning] No further splits with positive gain, best gain: -inf\n",
      "[LightGBM] [Warning] No further splits with positive gain, best gain: -inf\n",
      "[LightGBM] [Warning] No further splits with positive gain, best gain: -inf\n",
      "[LightGBM] [Warning] No further splits with positive gain, best gain: -inf\n",
      "[LightGBM] [Warning] No further splits with positive gain, best gain: -inf\n",
      "[LightGBM] [Warning] No further splits with positive gain, best gain: -inf\n",
      "[LightGBM] [Warning] No further splits with positive gain, best gain: -inf\n",
      "[LightGBM] [Warning] No further splits with positive gain, best gain: -inf\n",
      "[LightGBM] [Warning] No further splits with positive gain, best gain: -inf\n",
      "[LightGBM] [Warning] No further splits with positive gain, best gain: -inf\n",
      "[LightGBM] [Warning] No further splits with positive gain, best gain: -inf\n",
      "[LightGBM] [Warning] No further splits with positive gain, best gain: -inf\n",
      "[LightGBM] [Warning] No further splits with positive gain, best gain: -inf\n",
      "[LightGBM] [Warning] No further splits with positive gain, best gain: -inf\n",
      "[LightGBM] [Warning] No further splits with positive gain, best gain: -inf\n",
      "[LightGBM] [Warning] No further splits with positive gain, best gain: -inf\n",
      "[LightGBM] [Warning] No further splits with positive gain, best gain: -inf\n",
      "[LightGBM] [Warning] No further splits with positive gain, best gain: -inf\n",
      "[LightGBM] [Warning] No further splits with positive gain, best gain: -inf\n",
      "[LightGBM] [Warning] No further splits with positive gain, best gain: -inf\n",
      "[LightGBM] [Warning] No further splits with positive gain, best gain: -inf\n",
      "[LightGBM] [Warning] No further splits with positive gain, best gain: -inf\n",
      "[LightGBM] [Warning] No further splits with positive gain, best gain: -inf\n",
      "[LightGBM] [Warning] No further splits with positive gain, best gain: -inf\n",
      "[LightGBM] [Warning] No further splits with positive gain, best gain: -inf\n",
      "[LightGBM] [Warning] No further splits with positive gain, best gain: -inf\n",
      "[LightGBM] [Warning] No further splits with positive gain, best gain: -inf\n",
      "[LightGBM] [Warning] No further splits with positive gain, best gain: -inf\n",
      "[LightGBM] [Info] Number of positive: 308, number of negative: 494\n",
      "[LightGBM] [Info] Auto-choosing row-wise multi-threading, the overhead of testing was 0.000062 seconds.\n",
      "You can set `force_row_wise=true` to remove the overhead.\n",
      "And if memory is not enough, you can set `force_col_wise=true`.\n",
      "[LightGBM] [Info] Total Bins 224\n",
      "[LightGBM] [Info] Number of data points in the train set: 802, number of used features: 21\n",
      "[LightGBM] [Info] [binary:BoostFromScore]: pavg=0.384040 -> initscore=-0.472436\n",
      "[LightGBM] [Info] Start training from score -0.472436\n",
      "[LightGBM] [Warning] No further splits with positive gain, best gain: -inf\n",
      "[LightGBM] [Warning] No further splits with positive gain, best gain: -inf\n",
      "[LightGBM] [Warning] No further splits with positive gain, best gain: -inf\n",
      "[LightGBM] [Warning] No further splits with positive gain, best gain: -inf\n",
      "[LightGBM] [Warning] No further splits with positive gain, best gain: -inf\n",
      "[LightGBM] [Warning] No further splits with positive gain, best gain: -inf\n",
      "[LightGBM] [Warning] No further splits with positive gain, best gain: -inf\n",
      "[LightGBM] [Warning] No further splits with positive gain, best gain: -inf\n",
      "[LightGBM] [Warning] No further splits with positive gain, best gain: -inf\n",
      "[LightGBM] [Warning] No further splits with positive gain, best gain: -inf\n",
      "[LightGBM] [Warning] No further splits with positive gain, best gain: -inf\n",
      "[LightGBM] [Warning] No further splits with positive gain, best gain: -inf\n",
      "[LightGBM] [Warning] No further splits with positive gain, best gain: -inf\n",
      "[LightGBM] [Warning] No further splits with positive gain, best gain: -inf\n",
      "[LightGBM] [Warning] No further splits with positive gain, best gain: -inf\n",
      "[LightGBM] [Warning] No further splits with positive gain, best gain: -inf\n",
      "[LightGBM] [Warning] No further splits with positive gain, best gain: -inf\n",
      "[LightGBM] [Warning] No further splits with positive gain, best gain: -inf\n",
      "[LightGBM] [Warning] No further splits with positive gain, best gain: -inf\n",
      "[LightGBM] [Warning] No further splits with positive gain, best gain: -inf\n",
      "[LightGBM] [Warning] No further splits with positive gain, best gain: -inf\n",
      "[LightGBM] [Warning] No further splits with positive gain, best gain: -inf\n",
      "[LightGBM] [Warning] No further splits with positive gain, best gain: -inf\n",
      "[LightGBM] [Warning] No further splits with positive gain, best gain: -inf\n",
      "[LightGBM] [Warning] No further splits with positive gain, best gain: -inf\n",
      "[LightGBM] [Warning] No further splits with positive gain, best gain: -inf\n",
      "[LightGBM] [Warning] No further splits with positive gain, best gain: -inf\n",
      "[LightGBM] [Warning] No further splits with positive gain, best gain: -inf\n",
      "[LightGBM] [Warning] No further splits with positive gain, best gain: -inf\n",
      "[LightGBM] [Warning] No further splits with positive gain, best gain: -inf\n",
      "[LightGBM] [Warning] No further splits with positive gain, best gain: -inf\n",
      "[LightGBM] [Warning] No further splits with positive gain, best gain: -inf\n",
      "[LightGBM] [Info] Number of positive: 308, number of negative: 494\n",
      "[LightGBM] [Info] Auto-choosing row-wise multi-threading, the overhead of testing was 0.000079 seconds.\n",
      "You can set `force_row_wise=true` to remove the overhead.\n",
      "And if memory is not enough, you can set `force_col_wise=true`.\n",
      "[LightGBM] [Info] Total Bins 227\n",
      "[LightGBM] [Info] Number of data points in the train set: 802, number of used features: 20\n",
      "[LightGBM] [Info] [binary:BoostFromScore]: pavg=0.384040 -> initscore=-0.472436\n",
      "[LightGBM] [Info] Start training from score -0.472436\n",
      "[LightGBM] [Warning] No further splits with positive gain, best gain: -inf\n",
      "[LightGBM] [Warning] No further splits with positive gain, best gain: -inf\n",
      "[LightGBM] [Warning] No further splits with positive gain, best gain: -inf\n",
      "[LightGBM] [Warning] No further splits with positive gain, best gain: -inf\n",
      "[LightGBM] [Warning] No further splits with positive gain, best gain: -inf\n",
      "[LightGBM] [Warning] No further splits with positive gain, best gain: -inf\n",
      "[LightGBM] [Warning] No further splits with positive gain, best gain: -inf\n",
      "[LightGBM] [Warning] No further splits with positive gain, best gain: -inf\n",
      "[LightGBM] [Warning] No further splits with positive gain, best gain: -inf\n",
      "[LightGBM] [Warning] No further splits with positive gain, best gain: -inf\n",
      "[LightGBM] [Warning] No further splits with positive gain, best gain: -inf\n",
      "[LightGBM] [Warning] No further splits with positive gain, best gain: -inf\n",
      "[LightGBM] [Warning] No further splits with positive gain, best gain: -inf\n",
      "[LightGBM] [Warning] No further splits with positive gain, best gain: -inf\n",
      "[LightGBM] [Warning] No further splits with positive gain, best gain: -inf\n",
      "[LightGBM] [Warning] No further splits with positive gain, best gain: -inf\n",
      "[LightGBM] [Warning] No further splits with positive gain, best gain: -inf\n",
      "[LightGBM] [Warning] No further splits with positive gain, best gain: -inf\n",
      "[LightGBM] [Warning] No further splits with positive gain, best gain: -inf\n",
      "[LightGBM] [Warning] No further splits with positive gain, best gain: -inf\n",
      "[LightGBM] [Warning] No further splits with positive gain, best gain: -inf\n",
      "[LightGBM] [Warning] No further splits with positive gain, best gain: -inf\n",
      "[LightGBM] [Warning] No further splits with positive gain, best gain: -inf\n",
      "[LightGBM] [Warning] No further splits with positive gain, best gain: -inf\n",
      "[LightGBM] [Warning] No further splits with positive gain, best gain: -inf\n",
      "[LightGBM] [Warning] No further splits with positive gain, best gain: -inf\n",
      "[LightGBM] [Warning] No further splits with positive gain, best gain: -inf\n",
      "[LightGBM] [Warning] No further splits with positive gain, best gain: -inf\n",
      "[LightGBM] [Warning] No further splits with positive gain, best gain: -inf\n",
      "[LightGBM] [Warning] No further splits with positive gain, best gain: -inf\n",
      "[LightGBM] [Warning] No further splits with positive gain, best gain: -inf\n",
      "[LightGBM] [Warning] No further splits with positive gain, best gain: -inf\n",
      "[LightGBM] [Warning] No further splits with positive gain, best gain: -inf\n",
      "[LightGBM] [Warning] No further splits with positive gain, best gain: -inf\n",
      "[LightGBM] [Warning] No further splits with positive gain, best gain: -inf\n",
      "[LightGBM] [Warning] No further splits with positive gain, best gain: -inf\n",
      "[LightGBM] [Warning] No further splits with positive gain, best gain: -inf\n",
      "[LightGBM] [Warning] No further splits with positive gain, best gain: -inf\n",
      "[LightGBM] [Warning] No further splits with positive gain, best gain: -inf\n",
      "[LightGBM] [Info] Number of positive: 308, number of negative: 494\n",
      "[LightGBM] [Info] Auto-choosing row-wise multi-threading, the overhead of testing was 0.000065 seconds.\n",
      "You can set `force_row_wise=true` to remove the overhead.\n",
      "And if memory is not enough, you can set `force_col_wise=true`.\n",
      "[LightGBM] [Info] Total Bins 223\n",
      "[LightGBM] [Info] Number of data points in the train set: 802, number of used features: 20\n",
      "[LightGBM] [Info] [binary:BoostFromScore]: pavg=0.384040 -> initscore=-0.472436\n",
      "[LightGBM] [Info] Start training from score -0.472436\n",
      "[LightGBM] [Warning] No further splits with positive gain, best gain: -inf\n",
      "[LightGBM] [Warning] No further splits with positive gain, best gain: -inf\n",
      "[LightGBM] [Warning] No further splits with positive gain, best gain: -inf\n",
      "[LightGBM] [Warning] No further splits with positive gain, best gain: -inf\n",
      "[LightGBM] [Warning] No further splits with positive gain, best gain: -inf\n",
      "[LightGBM] [Warning] No further splits with positive gain, best gain: -inf\n",
      "[LightGBM] [Warning] No further splits with positive gain, best gain: -inf\n",
      "[LightGBM] [Warning] No further splits with positive gain, best gain: -inf\n",
      "[LightGBM] [Warning] No further splits with positive gain, best gain: -inf\n",
      "[LightGBM] [Warning] No further splits with positive gain, best gain: -inf\n",
      "[LightGBM] [Warning] No further splits with positive gain, best gain: -inf\n",
      "[LightGBM] [Warning] No further splits with positive gain, best gain: -inf\n",
      "[LightGBM] [Warning] No further splits with positive gain, best gain: -inf\n",
      "[LightGBM] [Warning] No further splits with positive gain, best gain: -inf\n",
      "[LightGBM] [Warning] No further splits with positive gain, best gain: -inf\n",
      "[LightGBM] [Warning] No further splits with positive gain, best gain: -inf\n",
      "[LightGBM] [Warning] No further splits with positive gain, best gain: -inf\n",
      "[LightGBM] [Warning] No further splits with positive gain, best gain: -inf\n",
      "[LightGBM] [Warning] No further splits with positive gain, best gain: -inf\n",
      "[LightGBM] [Warning] No further splits with positive gain, best gain: -inf\n",
      "[LightGBM] [Warning] No further splits with positive gain, best gain: -inf\n",
      "[LightGBM] [Warning] No further splits with positive gain, best gain: -inf\n",
      "[LightGBM] [Warning] No further splits with positive gain, best gain: -inf\n",
      "[LightGBM] [Warning] No further splits with positive gain, best gain: -inf\n",
      "[LightGBM] [Warning] No further splits with positive gain, best gain: -inf\n",
      "[LightGBM] [Warning] No further splits with positive gain, best gain: -inf\n",
      "[LightGBM] [Info] Number of positive: 308, number of negative: 494\n",
      "[LightGBM] [Info] Auto-choosing row-wise multi-threading, the overhead of testing was 0.000061 seconds.\n",
      "You can set `force_row_wise=true` to remove the overhead.\n",
      "And if memory is not enough, you can set `force_col_wise=true`.\n",
      "[LightGBM] [Info] Total Bins 225\n",
      "[LightGBM] [Info] Number of data points in the train set: 802, number of used features: 20\n",
      "[LightGBM] [Info] [binary:BoostFromScore]: pavg=0.384040 -> initscore=-0.472436\n",
      "[LightGBM] [Info] Start training from score -0.472436\n",
      "[LightGBM] [Warning] No further splits with positive gain, best gain: -inf\n",
      "[LightGBM] [Warning] No further splits with positive gain, best gain: -inf\n",
      "[LightGBM] [Warning] No further splits with positive gain, best gain: -inf\n",
      "[LightGBM] [Warning] No further splits with positive gain, best gain: -inf\n",
      "[LightGBM] [Warning] No further splits with positive gain, best gain: -inf\n",
      "[LightGBM] [Warning] No further splits with positive gain, best gain: -inf\n",
      "[LightGBM] [Warning] No further splits with positive gain, best gain: -inf\n",
      "[LightGBM] [Warning] No further splits with positive gain, best gain: -inf\n",
      "[LightGBM] [Warning] No further splits with positive gain, best gain: -inf\n",
      "[LightGBM] [Warning] No further splits with positive gain, best gain: -inf\n",
      "[LightGBM] [Warning] No further splits with positive gain, best gain: -inf\n",
      "[LightGBM] [Warning] No further splits with positive gain, best gain: -inf\n",
      "[LightGBM] [Warning] No further splits with positive gain, best gain: -inf\n",
      "[LightGBM] [Warning] No further splits with positive gain, best gain: -inf\n",
      "[LightGBM] [Warning] No further splits with positive gain, best gain: -inf\n",
      "[LightGBM] [Warning] No further splits with positive gain, best gain: -inf\n",
      "[LightGBM] [Warning] No further splits with positive gain, best gain: -inf\n",
      "[LightGBM] [Warning] No further splits with positive gain, best gain: -inf\n",
      "[LightGBM] [Warning] No further splits with positive gain, best gain: -inf\n",
      "[LightGBM] [Warning] No further splits with positive gain, best gain: -inf\n",
      "[LightGBM] [Warning] No further splits with positive gain, best gain: -inf\n",
      "[LightGBM] [Warning] No further splits with positive gain, best gain: -inf\n",
      "[LightGBM] [Warning] No further splits with positive gain, best gain: -inf\n",
      "[LightGBM] [Warning] No further splits with positive gain, best gain: -inf\n",
      "[LightGBM] [Warning] No further splits with positive gain, best gain: -inf\n",
      "[LightGBM] [Warning] No further splits with positive gain, best gain: -inf\n",
      "[LightGBM] [Warning] No further splits with positive gain, best gain: -inf\n",
      "[LightGBM] [Warning] No further splits with positive gain, best gain: -inf\n",
      "[LightGBM] [Warning] No further splits with positive gain, best gain: -inf\n",
      "[LightGBM] [Info] Number of positive: 308, number of negative: 494\n",
      "[LightGBM] [Info] Auto-choosing row-wise multi-threading, the overhead of testing was 0.000081 seconds.\n",
      "You can set `force_row_wise=true` to remove the overhead.\n",
      "And if memory is not enough, you can set `force_col_wise=true`.\n",
      "[LightGBM] [Info] Total Bins 225\n",
      "[LightGBM] [Info] Number of data points in the train set: 802, number of used features: 20\n",
      "[LightGBM] [Info] [binary:BoostFromScore]: pavg=0.384040 -> initscore=-0.472436\n",
      "[LightGBM] [Info] Start training from score -0.472436\n",
      "[LightGBM] [Warning] No further splits with positive gain, best gain: -inf\n",
      "[LightGBM] [Warning] No further splits with positive gain, best gain: -inf\n",
      "[LightGBM] [Warning] No further splits with positive gain, best gain: -inf\n",
      "[LightGBM] [Warning] No further splits with positive gain, best gain: -inf\n",
      "[LightGBM] [Warning] No further splits with positive gain, best gain: -inf\n",
      "[LightGBM] [Warning] No further splits with positive gain, best gain: -inf\n",
      "[LightGBM] [Warning] No further splits with positive gain, best gain: -inf\n",
      "[LightGBM] [Warning] No further splits with positive gain, best gain: -inf\n",
      "[LightGBM] [Warning] No further splits with positive gain, best gain: -inf\n",
      "[LightGBM] [Warning] No further splits with positive gain, best gain: -inf\n",
      "[LightGBM] [Warning] No further splits with positive gain, best gain: -inf\n",
      "[LightGBM] [Warning] No further splits with positive gain, best gain: -inf\n",
      "[LightGBM] [Warning] No further splits with positive gain, best gain: -inf\n",
      "[LightGBM] [Warning] No further splits with positive gain, best gain: -inf\n",
      "[LightGBM] [Warning] No further splits with positive gain, best gain: -inf\n",
      "[LightGBM] [Warning] No further splits with positive gain, best gain: -inf\n",
      "[LightGBM] [Warning] No further splits with positive gain, best gain: -inf\n",
      "[LightGBM] [Warning] No further splits with positive gain, best gain: -inf\n",
      "[LightGBM] [Warning] No further splits with positive gain, best gain: -inf\n",
      "[LightGBM] [Warning] No further splits with positive gain, best gain: -inf\n",
      "[LightGBM] [Warning] No further splits with positive gain, best gain: -inf\n",
      "[LightGBM] [Warning] No further splits with positive gain, best gain: -inf\n",
      "[LightGBM] [Warning] No further splits with positive gain, best gain: -inf\n",
      "[LightGBM] [Warning] No further splits with positive gain, best gain: -inf\n",
      "[LightGBM] [Info] Number of positive: 308, number of negative: 494\n",
      "[LightGBM] [Info] Auto-choosing row-wise multi-threading, the overhead of testing was 0.000081 seconds.\n",
      "You can set `force_row_wise=true` to remove the overhead.\n",
      "And if memory is not enough, you can set `force_col_wise=true`.\n",
      "[LightGBM] [Info] Total Bins 226\n",
      "[LightGBM] [Info] Number of data points in the train set: 802, number of used features: 20\n",
      "[LightGBM] [Info] [binary:BoostFromScore]: pavg=0.384040 -> initscore=-0.472436\n",
      "[LightGBM] [Info] Start training from score -0.472436\n",
      "[LightGBM] [Warning] No further splits with positive gain, best gain: -inf\n",
      "[LightGBM] [Warning] No further splits with positive gain, best gain: -inf\n",
      "[LightGBM] [Warning] No further splits with positive gain, best gain: -inf\n",
      "[LightGBM] [Warning] No further splits with positive gain, best gain: -inf\n",
      "[LightGBM] [Warning] No further splits with positive gain, best gain: -inf\n",
      "[LightGBM] [Warning] No further splits with positive gain, best gain: -inf\n",
      "[LightGBM] [Warning] No further splits with positive gain, best gain: -inf\n",
      "[LightGBM] [Warning] No further splits with positive gain, best gain: -inf\n",
      "[LightGBM] [Warning] No further splits with positive gain, best gain: -inf\n",
      "[LightGBM] [Warning] No further splits with positive gain, best gain: -inf\n",
      "[LightGBM] [Warning] No further splits with positive gain, best gain: -inf\n",
      "[LightGBM] [Warning] No further splits with positive gain, best gain: -inf\n",
      "[LightGBM] [Warning] No further splits with positive gain, best gain: -inf\n",
      "[LightGBM] [Warning] No further splits with positive gain, best gain: -inf\n",
      "[LightGBM] [Warning] No further splits with positive gain, best gain: -inf\n",
      "[LightGBM] [Warning] No further splits with positive gain, best gain: -inf\n",
      "[LightGBM] [Warning] No further splits with positive gain, best gain: -inf\n",
      "[LightGBM] [Warning] No further splits with positive gain, best gain: -inf\n",
      "[LightGBM] [Warning] No further splits with positive gain, best gain: -inf\n",
      "[LightGBM] [Warning] No further splits with positive gain, best gain: -inf\n",
      "[LightGBM] [Warning] No further splits with positive gain, best gain: -inf\n",
      "[LightGBM] [Warning] No further splits with positive gain, best gain: -inf\n",
      "[LightGBM] [Warning] No further splits with positive gain, best gain: -inf\n",
      "[LightGBM] [Warning] No further splits with positive gain, best gain: -inf\n",
      "[LightGBM] [Warning] No further splits with positive gain, best gain: -inf\n",
      "[LightGBM] [Warning] No further splits with positive gain, best gain: -inf\n",
      "[LightGBM] [Warning] No further splits with positive gain, best gain: -inf\n",
      "[LightGBM] [Warning] No further splits with positive gain, best gain: -inf\n",
      "[LightGBM] [Warning] No further splits with positive gain, best gain: -inf\n",
      "[LightGBM] [Warning] No further splits with positive gain, best gain: -inf\n",
      "[LightGBM] [Warning] No further splits with positive gain, best gain: -inf\n",
      "[LightGBM] [Warning] No further splits with positive gain, best gain: -inf\n",
      "[LightGBM] [Warning] No further splits with positive gain, best gain: -inf\n",
      "[LightGBM] [Warning] No further splits with positive gain, best gain: -inf\n",
      "[LightGBM] [Warning] No further splits with positive gain, best gain: -inf\n",
      "[LightGBM] [Warning] No further splits with positive gain, best gain: -inf\n",
      "[LightGBM] [Warning] No further splits with positive gain, best gain: -inf\n",
      "[LightGBM] [Warning] No further splits with positive gain, best gain: -inf\n",
      "[LightGBM] [Warning] No further splits with positive gain, best gain: -inf\n",
      "[LightGBM] [Info] Number of positive: 307, number of negative: 495\n",
      "[LightGBM] [Info] Auto-choosing row-wise multi-threading, the overhead of testing was 0.000065 seconds.\n",
      "You can set `force_row_wise=true` to remove the overhead.\n",
      "And if memory is not enough, you can set `force_col_wise=true`.\n",
      "[LightGBM] [Info] Total Bins 226\n",
      "[LightGBM] [Info] Number of data points in the train set: 802, number of used features: 21\n",
      "[LightGBM] [Info] [binary:BoostFromScore]: pavg=0.382793 -> initscore=-0.477710\n",
      "[LightGBM] [Info] Start training from score -0.477710\n",
      "[LightGBM] [Warning] No further splits with positive gain, best gain: -inf\n",
      "[LightGBM] [Warning] No further splits with positive gain, best gain: -inf\n",
      "[LightGBM] [Warning] No further splits with positive gain, best gain: -inf\n",
      "[LightGBM] [Warning] No further splits with positive gain, best gain: -inf\n",
      "[LightGBM] [Warning] No further splits with positive gain, best gain: -inf\n",
      "[LightGBM] [Warning] No further splits with positive gain, best gain: -inf\n",
      "[LightGBM] [Warning] No further splits with positive gain, best gain: -inf\n",
      "[LightGBM] [Warning] No further splits with positive gain, best gain: -inf\n",
      "[LightGBM] [Warning] No further splits with positive gain, best gain: -inf\n",
      "[LightGBM] [Warning] No further splits with positive gain, best gain: -inf\n",
      "[LightGBM] [Warning] No further splits with positive gain, best gain: -inf\n",
      "[LightGBM] [Warning] No further splits with positive gain, best gain: -inf\n",
      "[LightGBM] [Warning] No further splits with positive gain, best gain: -inf\n",
      "[LightGBM] [Warning] No further splits with positive gain, best gain: -inf\n",
      "[LightGBM] [Warning] No further splits with positive gain, best gain: -inf\n",
      "[LightGBM] [Warning] No further splits with positive gain, best gain: -inf\n",
      "[LightGBM] [Warning] No further splits with positive gain, best gain: -inf\n",
      "[LightGBM] [Warning] No further splits with positive gain, best gain: -inf\n",
      "[LightGBM] [Warning] No further splits with positive gain, best gain: -inf\n",
      "[LightGBM] [Warning] No further splits with positive gain, best gain: -inf\n",
      "[LightGBM] [Warning] No further splits with positive gain, best gain: -inf\n",
      "[LightGBM] [Warning] No further splits with positive gain, best gain: -inf\n",
      "[LightGBM] [Warning] No further splits with positive gain, best gain: -inf\n",
      "[LightGBM] [Warning] No further splits with positive gain, best gain: -inf\n",
      "[LightGBM] [Warning] No further splits with positive gain, best gain: -inf\n",
      "[LightGBM] [Warning] No further splits with positive gain, best gain: -inf\n",
      "[LightGBM] [Warning] No further splits with positive gain, best gain: -inf\n",
      "[LightGBM] [Warning] No further splits with positive gain, best gain: -inf\n",
      "[LightGBM] [Warning] No further splits with positive gain, best gain: -inf\n",
      "[LightGBM] [Warning] No further splits with positive gain, best gain: -inf\n",
      "[LightGBM] [Warning] No further splits with positive gain, best gain: -inf\n",
      "[LightGBM] [Warning] No further splits with positive gain, best gain: -inf\n",
      "[LightGBM] [Warning] No further splits with positive gain, best gain: -inf\n",
      "[LightGBM] [Warning] No further splits with positive gain, best gain: -inf\n",
      "[LightGBM] [Warning] No further splits with positive gain, best gain: -inf\n",
      "[LightGBM] [Warning] No further splits with positive gain, best gain: -inf\n",
      "[LightGBM] [Warning] No further splits with positive gain, best gain: -inf\n"
     ]
    },
    {
     "data": {
      "text/plain": [
       "array([0.77777778, 0.84269663, 0.74157303, 0.85393258, 0.87640449,\n",
       "       0.80898876, 0.84269663, 0.78651685, 0.91011236, 0.80898876])"
      ]
     },
     "execution_count": 392,
     "metadata": {},
     "output_type": "execute_result"
    }
   ],
   "source": [
    "result_lgb = cross_val_score(lgb_model,X_train,y_train,cv=10)\n",
    "result_lgb"
   ]
  },
  {
   "cell_type": "code",
   "execution_count": 394,
   "id": "07ee45dc-35ef-4c59-ad94-05fe605fd25a",
   "metadata": {},
   "outputs": [
    {
     "data": {
      "text/plain": [
       "0.8249687890137327"
      ]
     },
     "execution_count": 394,
     "metadata": {},
     "output_type": "execute_result"
    }
   ],
   "source": [
    "result_lgb.mean()"
   ]
  },
  {
   "cell_type": "code",
   "execution_count": null,
   "id": "94a69197-7c59-458d-9660-e8df56679ee3",
   "metadata": {},
   "outputs": [],
   "source": []
  },
  {
   "cell_type": "code",
   "execution_count": 163,
   "id": "16d5ebfd-8208-446a-898e-8d8eba5646f3",
   "metadata": {},
   "outputs": [],
   "source": [
    "tree_model1.fit(X_train,y_train)\n",
    "pred1= tree_model1.predict(X_test)"
   ]
  },
  {
   "cell_type": "code",
   "execution_count": 164,
   "id": "e98d2cec-ad04-4f03-b413-539916668778",
   "metadata": {},
   "outputs": [],
   "source": [
    "result_submission['Survived'] = pred1"
   ]
  },
  {
   "cell_type": "code",
   "execution_count": 165,
   "id": "3f46fb54-0a48-4e22-af22-07496fe07bf3",
   "metadata": {},
   "outputs": [],
   "source": [
    "result_submission.to_csv('tree_model_m5_ln10.csv', index=False)"
   ]
  },
  {
   "cell_type": "code",
   "execution_count": null,
   "id": "ece7b1cc-e432-46ed-bcde-23255a0c1241",
   "metadata": {},
   "outputs": [],
   "source": []
  },
  {
   "cell_type": "code",
   "execution_count": 384,
   "id": "5ac5512f-6c7f-49f9-ad8c-9e5fe6abdbc2",
   "metadata": {},
   "outputs": [],
   "source": [
    "xg_model.fit(X_train,y_train)\n",
    "pred2= xg_model.predict(X_test)"
   ]
  },
  {
   "cell_type": "code",
   "execution_count": 386,
   "id": "8f1ebc6c-62b0-4a82-81d9-f8902b4147b5",
   "metadata": {},
   "outputs": [],
   "source": [
    "result_submission['Survived'] = pred2"
   ]
  },
  {
   "cell_type": "code",
   "execution_count": 388,
   "id": "1c7bf63a-26b2-4f7d-aa39-2da58c463a6d",
   "metadata": {},
   "outputs": [],
   "source": [
    "result_submission.to_csv('xg_model.csv', index=False)"
   ]
  },
  {
   "cell_type": "code",
   "execution_count": null,
   "id": "db0ab612-0ca9-45f0-aff2-a1adf5f9a77d",
   "metadata": {},
   "outputs": [],
   "source": []
  },
  {
   "cell_type": "code",
   "execution_count": null,
   "id": "f8df1772-a227-457b-8ab5-1c73e85edd3a",
   "metadata": {},
   "outputs": [],
   "source": []
  },
  {
   "cell_type": "code",
   "execution_count": null,
   "id": "2054ce16-2cef-42fc-b839-55002352f975",
   "metadata": {},
   "outputs": [],
   "source": []
  },
  {
   "cell_type": "code",
   "execution_count": null,
   "id": "e532d982-1c36-4e84-b643-cd03de81ca44",
   "metadata": {},
   "outputs": [],
   "source": []
  },
  {
   "cell_type": "code",
   "execution_count": null,
   "id": "7bc71919-fe42-4307-ace1-71bedd1da403",
   "metadata": {},
   "outputs": [],
   "source": []
  },
  {
   "cell_type": "code",
   "execution_count": null,
   "id": "1a70f6d3-3aa9-4dbd-9137-5f80e9981647",
   "metadata": {},
   "outputs": [],
   "source": []
  },
  {
   "cell_type": "code",
   "execution_count": null,
   "id": "f8effb2f-b95d-40d7-8542-84f5bcf65dd7",
   "metadata": {},
   "outputs": [],
   "source": []
  },
  {
   "cell_type": "code",
   "execution_count": null,
   "id": "3c83fe33-23f7-474b-a27c-ddcb1a846d77",
   "metadata": {},
   "outputs": [],
   "source": []
  },
  {
   "cell_type": "code",
   "execution_count": null,
   "id": "087f6343-e311-4d64-978c-1445e38dbb4d",
   "metadata": {},
   "outputs": [],
   "source": []
  }
 ],
 "metadata": {
  "kernelspec": {
   "display_name": "Python 3 (ipykernel)",
   "language": "python",
   "name": "python3"
  },
  "language_info": {
   "codemirror_mode": {
    "name": "ipython",
    "version": 3
   },
   "file_extension": ".py",
   "mimetype": "text/x-python",
   "name": "python",
   "nbconvert_exporter": "python",
   "pygments_lexer": "ipython3",
   "version": "3.12.4"
  }
 },
 "nbformat": 4,
 "nbformat_minor": 5
}

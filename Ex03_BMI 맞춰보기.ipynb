{
 "cells": [
  {
   "cell_type": "markdown",
   "id": "0598a83c-1831-42e5-b122-714f44a8dea3",
   "metadata": {},
   "source": [
    "# 1. 문제정의\n",
    "- 비만도를 예측하는 인공지능을 만들어보자\n",
    "- 처음에는 비교적 간단하게 문제를 정의하고, 데이터를 수집한 후에 자세하게 정의"
   ]
  },
  {
   "cell_type": "markdown",
   "id": "f3d8d63a-f0f9-4db5-8039-bb13a3918df9",
   "metadata": {},
   "source": [
    "# 2. 데이터 수집\n",
    "- 파일 다운로드(bmi_500.csv)\n",
    "- 500명의 키, 몸무게, 성별, 비만도 라벨 데이터"
   ]
  },
  {
   "cell_type": "code",
   "execution_count": 8,
   "id": "93772303-a915-4a51-b2e5-4277a2780b30",
   "metadata": {},
   "outputs": [
    {
     "data": {
      "text/html": [
       "<div>\n",
       "<style scoped>\n",
       "    .dataframe tbody tr th:only-of-type {\n",
       "        vertical-align: middle;\n",
       "    }\n",
       "\n",
       "    .dataframe tbody tr th {\n",
       "        vertical-align: top;\n",
       "    }\n",
       "\n",
       "    .dataframe thead th {\n",
       "        text-align: right;\n",
       "    }\n",
       "</style>\n",
       "<table border=\"1\" class=\"dataframe\">\n",
       "  <thead>\n",
       "    <tr style=\"text-align: right;\">\n",
       "      <th></th>\n",
       "      <th>Gender</th>\n",
       "      <th>Height</th>\n",
       "      <th>Weight</th>\n",
       "      <th>Label</th>\n",
       "    </tr>\n",
       "  </thead>\n",
       "  <tbody>\n",
       "    <tr>\n",
       "      <th>0</th>\n",
       "      <td>Male</td>\n",
       "      <td>174</td>\n",
       "      <td>96</td>\n",
       "      <td>Obesity</td>\n",
       "    </tr>\n",
       "    <tr>\n",
       "      <th>1</th>\n",
       "      <td>Male</td>\n",
       "      <td>189</td>\n",
       "      <td>87</td>\n",
       "      <td>Normal</td>\n",
       "    </tr>\n",
       "    <tr>\n",
       "      <th>2</th>\n",
       "      <td>Female</td>\n",
       "      <td>185</td>\n",
       "      <td>110</td>\n",
       "      <td>Obesity</td>\n",
       "    </tr>\n",
       "    <tr>\n",
       "      <th>3</th>\n",
       "      <td>Female</td>\n",
       "      <td>195</td>\n",
       "      <td>104</td>\n",
       "      <td>Overweight</td>\n",
       "    </tr>\n",
       "    <tr>\n",
       "      <th>4</th>\n",
       "      <td>Male</td>\n",
       "      <td>149</td>\n",
       "      <td>61</td>\n",
       "      <td>Overweight</td>\n",
       "    </tr>\n",
       "  </tbody>\n",
       "</table>\n",
       "</div>"
      ],
      "text/plain": [
       "   Gender  Height  Weight       Label\n",
       "0    Male     174      96     Obesity\n",
       "1    Male     189      87      Normal\n",
       "2  Female     185     110     Obesity\n",
       "3  Female     195     104  Overweight\n",
       "4    Male     149      61  Overweight"
      ]
     },
     "execution_count": 8,
     "metadata": {},
     "output_type": "execute_result"
    }
   ],
   "source": [
    "import pandas as pd\n",
    "data = pd.read_csv('data/bmi_500.csv')\n",
    "data.head()\n",
    "# Label : Obesity = 비만"
   ]
  },
  {
   "cell_type": "markdown",
   "id": "a951090d-7c61-4f11-bd01-f0c7ceaa1287",
   "metadata": {},
   "source": [
    "# 3. 데이터 전처리\n",
    "- 결측치, 이상치 처리\n",
    "- 문제 데이터는 학습하려면 수치 데이터로 변환 > 타입이 int, float"
   ]
  },
  {
   "cell_type": "code",
   "execution_count": 12,
   "id": "628a20cd-8d95-4b27-82a7-a0fcfc649aac",
   "metadata": {},
   "outputs": [
    {
     "name": "stdout",
     "output_type": "stream",
     "text": [
      "<class 'pandas.core.frame.DataFrame'>\n",
      "RangeIndex: 500 entries, 0 to 499\n",
      "Data columns (total 4 columns):\n",
      " #   Column  Non-Null Count  Dtype \n",
      "---  ------  --------------  ----- \n",
      " 0   Gender  500 non-null    object\n",
      " 1   Height  500 non-null    int64 \n",
      " 2   Weight  500 non-null    int64 \n",
      " 3   Label   500 non-null    object\n",
      "dtypes: int64(2), object(2)\n",
      "memory usage: 15.8+ KB\n"
     ]
    }
   ],
   "source": [
    "# 결측치 확인하기\n",
    "# Non-Null Count 결측치가 아닌 데이터의 수\n",
    "# object는 변환 필요\n",
    "data.info()"
   ]
  },
  {
   "cell_type": "code",
   "execution_count": 17,
   "id": "11147255-e14b-4cc8-9ef4-023c58bb9c82",
   "metadata": {},
   "outputs": [
    {
     "data": {
      "text/html": [
       "<div>\n",
       "<style scoped>\n",
       "    .dataframe tbody tr th:only-of-type {\n",
       "        vertical-align: middle;\n",
       "    }\n",
       "\n",
       "    .dataframe tbody tr th {\n",
       "        vertical-align: top;\n",
       "    }\n",
       "\n",
       "    .dataframe thead th {\n",
       "        text-align: right;\n",
       "    }\n",
       "</style>\n",
       "<table border=\"1\" class=\"dataframe\">\n",
       "  <thead>\n",
       "    <tr style=\"text-align: right;\">\n",
       "      <th></th>\n",
       "      <th>Height</th>\n",
       "      <th>Weight</th>\n",
       "    </tr>\n",
       "  </thead>\n",
       "  <tbody>\n",
       "    <tr>\n",
       "      <th>count</th>\n",
       "      <td>500.000000</td>\n",
       "      <td>500.000000</td>\n",
       "    </tr>\n",
       "    <tr>\n",
       "      <th>mean</th>\n",
       "      <td>169.944000</td>\n",
       "      <td>106.000000</td>\n",
       "    </tr>\n",
       "    <tr>\n",
       "      <th>std</th>\n",
       "      <td>16.375261</td>\n",
       "      <td>32.382607</td>\n",
       "    </tr>\n",
       "    <tr>\n",
       "      <th>min</th>\n",
       "      <td>140.000000</td>\n",
       "      <td>50.000000</td>\n",
       "    </tr>\n",
       "    <tr>\n",
       "      <th>25%</th>\n",
       "      <td>156.000000</td>\n",
       "      <td>80.000000</td>\n",
       "    </tr>\n",
       "    <tr>\n",
       "      <th>50%</th>\n",
       "      <td>170.500000</td>\n",
       "      <td>106.000000</td>\n",
       "    </tr>\n",
       "    <tr>\n",
       "      <th>75%</th>\n",
       "      <td>184.000000</td>\n",
       "      <td>136.000000</td>\n",
       "    </tr>\n",
       "    <tr>\n",
       "      <th>max</th>\n",
       "      <td>199.000000</td>\n",
       "      <td>160.000000</td>\n",
       "    </tr>\n",
       "  </tbody>\n",
       "</table>\n",
       "</div>"
      ],
      "text/plain": [
       "           Height      Weight\n",
       "count  500.000000  500.000000\n",
       "mean   169.944000  106.000000\n",
       "std     16.375261   32.382607\n",
       "min    140.000000   50.000000\n",
       "25%    156.000000   80.000000\n",
       "50%    170.500000  106.000000\n",
       "75%    184.000000  136.000000\n",
       "max    199.000000  160.000000"
      ]
     },
     "execution_count": 17,
     "metadata": {},
     "output_type": "execute_result"
    }
   ],
   "source": [
    "# 이상치 확인하기\n",
    "# 수치 데이터의 통계값 출력\n",
    "# 1. 데이터의 전체 분포 > 특정 범위에 몰려있지 않은지 확인! > \n",
    "#                                       >min~max 사이에 있는 값들의 차이가 일정한가?\n",
    "#                                       > 일정하다 : 데이터의 분포가 고르다\n",
    "#                                       > 일정하지 않다 : 특정범위에 데이터가 몰려있다\n",
    "# 2. 이상치 확인하기 > min, max 값 확인하기\n",
    "data.describe()\n",
    "# -> min~max에서 값의 분포 확인가능\n",
    "# 값의 차이가 일정하다 = 값이 다르게 분포되어 있다\n",
    "# 다른 값보다 50%~75%의 차이가 적다 "
   ]
  },
  {
   "cell_type": "markdown",
   "id": "5dac2664-6731-4756-ac1c-021446d19662",
   "metadata": {},
   "source": [
    "# 4. 탐색적 데이터 분석\n",
    "- 데이터 자세하게 보자\n",
    "- 그래프를 통한 시각화"
   ]
  },
  {
   "cell_type": "markdown",
   "id": "c7606f90-41aa-4373-9166-3c9e56a4a200",
   "metadata": {},
   "source": [
    "## 비만도 등급별로 시각화\n",
    "- 등급별로 데이터 이상치는 없는지 확인하기"
   ]
  },
  {
   "cell_type": "code",
   "execution_count": 26,
   "id": "25e939b4-90b0-4f80-9f24-6271ede8d0a6",
   "metadata": {},
   "outputs": [
    {
     "data": {
      "text/plain": [
       "array(['Obesity', 'Normal', 'Overweight', 'Extreme Obesity', 'Weak',\n",
       "       'Extremely Weak'], dtype=object)"
      ]
     },
     "execution_count": 26,
     "metadata": {},
     "output_type": "execute_result"
    }
   ],
   "source": [
    "data['Label'].unique()"
   ]
  },
  {
   "cell_type": "code",
   "execution_count": 67,
   "id": "dfc8e6ab-2c55-4d3f-9fab-b8067bdab643",
   "metadata": {},
   "outputs": [
    {
     "data": {
      "text/plain": [
       "<matplotlib.collections.PathCollection at 0x2004d9de630>"
      ]
     },
     "execution_count": 67,
     "metadata": {},
     "output_type": "execute_result"
    },
    {
     "data": {
      "image/png": "[encoded data removed]",
      "text/plain": [
       "<Figure size 640x480 with 1 Axes>"
      ]
     },
     "metadata": {},
     "output_type": "display_data"
    }
   ],
   "source": [
    "# Obesity 시각화 하기\n",
    "import matplotlib.pyplot as plt\n",
    "# 1. 전체 데이터에서 Label의 값이 Obesity인 값들만 가져오기 > 불리언 인덱싱\n",
    "#ob = data[data['Label']=='Obesity']\n",
    "# 1.1 Label 의 값이 Obesity면 True 아니면 False\n",
    "bol = data['Label'] == 'Obesity'\n",
    "# 1.2 불리언 데이터를 인덱싱으로 사용 > True는 출력, False는 출력 X\n",
    "bol_data = data.loc[bol]\n",
    "plt.scatter(bol_data['Weight'],bol_data['Height'], c = 'blue')"
   ]
  },
  {
   "cell_type": "markdown",
   "id": "32e87f1e-f1aa-4f88-ba74-b746d063b7fe",
   "metadata": {},
   "source": [
    "## 6개 비만도 한 번에 시각화 하기"
   ]
  },
  {
   "cell_type": "code",
   "execution_count": 92,
   "id": "2c731b65-7871-4d83-922a-438b037e5d4b",
   "metadata": {},
   "outputs": [],
   "source": [
    "# 'Obesity', 'Normal', 'Overweight', 'Extreme Obesity', 'Weak', 'Extremely Weak'\n",
    "def myscatter(label, color):\n",
    "    bol = data['Label'] == label\n",
    "    bol_data = data.loc[bol]\n",
    "    plt.scatter(bol_data['Weight'],bol_data['Height'], c = color, label=label)"
   ]
  },
  {
   "cell_type": "code",
   "execution_count": 94,
   "id": "63045133-54c6-4f65-bcca-413dde1b525f",
   "metadata": {},
   "outputs": [
    {
     "data": {
      "image/png": "[encoded data removed]",
      "text/plain": [
       "<Figure size 500x500 with 1 Axes>"
      ]
     },
     "metadata": {},
     "output_type": "display_data"
    }
   ],
   "source": [
    "plt.figure(figsize=(5,5)) # 가로, 세로 크기\n",
    "myscatter('Extremely Weak','black')\n",
    "myscatter('Weak','blue')\n",
    "myscatter('Normal','green')\n",
    "myscatter('Overweight','pink')\n",
    "myscatter('Obesity','purple')\n",
    "myscatter('Extreme Obesity','red')\n",
    "plt.legend() #label 표시하기\n",
    "plt.show()"
   ]
  },
  {
   "cell_type": "code",
   "execution_count": 104,
   "id": "ce89bbb8-15f9-45fe-8f8d-57b7f957a18a",
   "metadata": {},
   "outputs": [
    {
     "data": {
      "text/html": [
       "<div>\n",
       "<style scoped>\n",
       "    .dataframe tbody tr th:only-of-type {\n",
       "        vertical-align: middle;\n",
       "    }\n",
       "\n",
       "    .dataframe tbody tr th {\n",
       "        vertical-align: top;\n",
       "    }\n",
       "\n",
       "    .dataframe thead th {\n",
       "        text-align: right;\n",
       "    }\n",
       "</style>\n",
       "<table border=\"1\" class=\"dataframe\">\n",
       "  <thead>\n",
       "    <tr style=\"text-align: right;\">\n",
       "      <th></th>\n",
       "      <th>Gender</th>\n",
       "      <th>Height</th>\n",
       "      <th>Weight</th>\n",
       "      <th>Label</th>\n",
       "    </tr>\n",
       "  </thead>\n",
       "  <tbody>\n",
       "    <tr>\n",
       "      <th>165</th>\n",
       "      <td>Male</td>\n",
       "      <td>181</td>\n",
       "      <td>78</td>\n",
       "      <td>Normal</td>\n",
       "    </tr>\n",
       "  </tbody>\n",
       "</table>\n",
       "</div>"
      ],
      "text/plain": [
       "    Gender  Height  Weight   Label\n",
       "165   Male     181      78  Normal"
      ]
     },
     "execution_count": 104,
     "metadata": {},
     "output_type": "execute_result"
    }
   ],
   "source": [
    "data.loc[(data['Label'] == 'Normal') & (data['Weight']==78)]"
   ]
  },
  {
   "cell_type": "code",
   "execution_count": 102,
   "id": "13e4c24f-713c-494d-bac0-20bfbf731813",
   "metadata": {},
   "outputs": [
    {
     "data": {
      "text/plain": [
       "'obesity'"
      ]
     },
     "execution_count": 102,
     "metadata": {},
     "output_type": "execute_result"
    }
   ],
   "source": [
    "#따지고 보면 데이터 전처리\n",
    "# 3단계와 4단계는 같이 진행되는 편\n",
    "data.loc[231,'Label'] = 'obesity'\n",
    "data.loc[231,'Label']"
   ]
  },
  {
   "cell_type": "code",
   "execution_count": null,
   "id": "6eacfc76-dcfb-4047-92aa-baaf5acbd487",
   "metadata": {},
   "outputs": [],
   "source": [
    "# 머신러닝 7단계 중 보통 4단계 까지의 소요시간이 보통 70%"
   ]
  },
  {
   "cell_type": "markdown",
   "id": "ed8849bd-4bcf-4696-8b51-7de54ce01025",
   "metadata": {},
   "source": [
    "# 5. 모델 선택 및 하이퍼 파라미터 조정\n",
    "- 머신러닝 모델이 하는 역할\n",
    "- 머신러닝 모델마다 모델의 분석방법 있다.\n",
    "- 데이터를 잘 보고 어울리는 모델 찾아서 모델 세부조정하기.\n",
    "- 데이터 처리한 후 여러 모델로 결과를 출력하고 제일 좋은 모델 선택.\n",
    "- 가장 좋은모델 = score가 1에 가까운 모델\n",
    "- 모델 다 사용해보고 score 가 높은 모델 쓰기"
   ]
  },
  {
   "cell_type": "markdown",
   "id": "43e20e96-e4ce-4f15-8b0c-15742e8d2b17",
   "metadata": {},
   "source": [
    "## 데이터 분리하기\n",
    "- 문제와 정답으로 분리\n",
    "- train과 test로 분리"
   ]
  },
  {
   "cell_type": "code",
   "execution_count": 113,
   "id": "ae4f3b02-20d3-4ca4-96d4-3caa61307a75",
   "metadata": {},
   "outputs": [],
   "source": [
    "#문제와 정답으로 분리\n",
    "data\n",
    "# Height, Weight 를 문제데이터로\n",
    "X = data.loc[: , 'Height':'Weight']\n",
    "# Label을 정답 데이터로\n",
    "y = data.loc[: , 'Label']"
   ]
  },
  {
   "cell_type": "code",
   "execution_count": 121,
   "id": "9d639b54-aeaf-4560-988f-7d1d8dcfeac8",
   "metadata": {},
   "outputs": [],
   "source": [
    "# 훈련(train) 데이터와 평가(test) 데이터로 분리\n",
    "# 전체 데이터 = 100, 훈련 데이터 = 70, 평가 데이터 = 30\n",
    "#              500               350              150\n",
    "X_train = X.iloc[:350]\n",
    "X_test = X.iloc[350:]\n",
    "y_train = y.iloc[:350]\n",
    "y_test = y.iloc[350:]"
   ]
  },
  {
   "cell_type": "markdown",
   "id": "01e1c9c0-323b-42aa-8f35-2edb2b9b3332",
   "metadata": {},
   "source": [
    "## 모델 선택\n",
    "- KNN모델 사용"
   ]
  },
  {
   "cell_type": "code",
   "execution_count": 195,
   "id": "ab285299-165f-47ae-8e1d-3a976955c2ac",
   "metadata": {},
   "outputs": [],
   "source": [
    "from sklearn.neighbors import KNeighborsClassifier\n",
    "# 모델 세부 조정 = 하이퍼 파라미터 튜닝 : n_neighbors = 7\n",
    "# 1. 이웃의 숫자 : n_neighbors\n",
    "# 2. 거리 계산 방식 : p : 1 = 멘하튼, 2 = 유클리디언\n",
    "# 3. 이웃의 중요도 방식 : weight(가중치 = 중요도) : uniform = 이웃이면 동등하다\n",
    "#                                               : distance = 가깔울수록 중요하다\n",
    "knn = KNeighborsClassifier(n_neighbors = 10, p = 2, weights = 'uniform')"
   ]
  },
  {
   "attachments": {
    "70821053-7f31-4cd0-8ce5-b9396a7006fd.png": {
     "image/png": "[encoded data removed]"
    }
   },
   "cell_type": "markdown",
   "id": "fb340bf3-dc1b-46fa-b2ce-9e95e6c4a9c6",
   "metadata": {},
   "source": [
    "![image.png](attachment:70821053-7f31-4cd0-8ce5-b9396a7006fd.png)"
   ]
  },
  {
   "cell_type": "markdown",
   "id": "83ba40af-5112-4819-8f48-eeb188d652a5",
   "metadata": {},
   "source": [
    "## K-Nearest Neighbors\n",
    " : k명의 가까운 이웃 - 끼리끼리\n",
    " 비슷한 특징을 갖는 데이터끼리 모여있을것이다.\n",
    " 새로운 데이터 포인트 와 거리가 가까이 있는 k개의 데이터중에 많은 비율을 가지고 있는 데이터로 예측\n",
    "거리를 계산하는 방법\n",
    " - 직선거리 = 피타고라스 정리(2차원), 유클리디언 거리(다차원)\n",
    " - 축간의 거리의 합 = 맨하튼 방식\n",
    "\n",
    " - 이웃의 중요도\n",
    " 1. 이웃으로 선정되면 모두 같은 기준을 갖는다\n",
    " 2. 이웃으로 선정되어도 거리에 따라 다른 기준을 갖는다\n",
    "  - 가까운 이웃일수록 중요, 먼 이웃일수록 안중요\n",
    "\n",
    "이웃의 수가 크면 영역의 모양이 평평해진다 = 결정경계가 느슨해진다 = 모델이 단순해진다\n",
    "이웃의 수가 작으면 영역의 모양이 구불구불해진다 = 결정경계가 복잡해진다 = 모델이 복잡해진다\n",
    "\n",
    "하이퍼 파라미터 = 수정할수 있는 설정들\n",
    "1. 이웃의 숫자\n",
    "2. 거리 계산 방식\n",
    "3. 이웃의 중요도 방식\n",
    "\n",
    "\n",
    "score : 값이 1에 가까울 수록 잘 만들어진 규칙이다.\n",
    "* 훈련 데이터로 출력한 점수 train score : 규칙이 얼마나 복잡한가?\n",
    "* 평가 데이터로 출력한 점수 test score : 새로운 데이터를 잘 맞추는가?\n",
    "- 규칙은 train데이터를 기반으로 만들어진다\n",
    "\n",
    "1. train score : 0.9, test score : 0.7\n",
    " - 학습을 너무 복잡하게 시키면 / 많이 시키면 발생하는 현상\n",
    " - 설계된 규칙이 train 데이터만 잘 맞추는 규칙을 생성 / test데이터는 못맞추는 복잡한 규칙\n",
    " - 규칙이 훈련 데이터에만 복잡해서 새로운 데이터를 잘 못맞춘다\n",
    "* 과대적합 : 규칙이 훈련 데이터만 맞추게 복잡하게 만들어졌다.\n",
    " - train score는 높게 나옴, test score는 낮게 나옴\n",
    " - 규칙을 더 단순하게 만들어야한다 = train이 아닌 test도 잘 맞추는 규칙이 되어야 한다\n",
    "\n",
    "2. train score : 0.85, test score : 0.85\n",
    " - 1번 상황보다 학습을 덜 시켰다 > 규칙이 조금 더 단순해서 train은 못맞춤\n",
    " - 규칙이 단순해서 test(새로운 데이터)는 더 잘맞춤 = 일반화가 잘된 모델\n",
    "* 일반화 : 규칙이 적당히 만들어졌다, 이상적인 상황\n",
    " - train score는 과대적합보다 낮게나옴, test score는 높게 나옴\n",
    "\n",
    "3. train score : 0.7, test score : 0.6\n",
    " - 학습이 조금만 되어서 규칙이 조금만 생성\n",
    " - train, test에서 점수가 낮게 나옴 = 과소적합\n",
    "* 과소적합 : 규칙이 조금만 생성되어서 모델의 성능이 낮게 나옴\n",
    "\n",
    "여러 결과를 비교해봐야 과대적합 / 과소적합 / 일반화를 구분 할 수 있음\n",
    " - 비교를 해봐야지만 규칙의 복잡성을 판단할 수 있다.\n",
    "\n",
    " - 과대적합 : 규칙이 복잡, train 점수 높음, test 점수 중간\n",
    " - 과소적합 : 규칙이 단순, train 점수 낮음, test 점수 낮음\n",
    " - 일반화 : 규칙이 적당, train 점수 중간, test 점수 높음 👍"
   ]
  },
  {
   "cell_type": "markdown",
   "id": "4f20210b-0af9-43f6-9a8f-089aaa2f95a3",
   "metadata": {},
   "source": [
    "# 6.학습\n",
    "- 준비된 데이터로 머신러닝 모델이 규칙 찾게하기\n",
    "- train 데이터로 학습하기"
   ]
  },
  {
   "cell_type": "code",
   "execution_count": 198,
   "id": "ea81676b-f1a2-4cf9-b57f-58310a911874",
   "metadata": {},
   "outputs": [
    {
     "data": {
      "text/html": [
       "<style>#sk-container-id-4 {\n",
       "  /* Definition of color scheme common for light and dark mode */\n",
       "  --sklearn-color-text: black;\n",
       "  --sklearn-color-line: gray;\n",
       "  /* Definition of color scheme for unfitted estimators */\n",
       "  --sklearn-color-unfitted-level-0: #fff5e6;\n",
       "  --sklearn-color-unfitted-level-1: #f6e4d2;\n",
       "  --sklearn-color-unfitted-level-2: #ffe0b3;\n",
       "  --sklearn-color-unfitted-level-3: chocolate;\n",
       "  /* Definition of color scheme for fitted estimators */\n",
       "  --sklearn-color-fitted-level-0: #f0f8ff;\n",
       "  --sklearn-color-fitted-level-1: #d4ebff;\n",
       "  --sklearn-color-fitted-level-2: #b3dbfd;\n",
       "  --sklearn-color-fitted-level-3: cornflowerblue;\n",
       "\n",
       "  /* Specific color for light theme */\n",
       "  --sklearn-color-text-on-default-background: var(--sg-text-color, var(--theme-code-foreground, var(--jp-content-font-color1, black)));\n",
       "  --sklearn-color-background: var(--sg-background-color, var(--theme-background, var(--jp-layout-color0, white)));\n",
       "  --sklearn-color-border-box: var(--sg-text-color, var(--theme-code-foreground, var(--jp-content-font-color1, black)));\n",
       "  --sklearn-color-icon: #696969;\n",
       "\n",
       "  @media (prefers-color-scheme: dark) {\n",
       "    /* Redefinition of color scheme for dark theme */\n",
       "    --sklearn-color-text-on-default-background: var(--sg-text-color, var(--theme-code-foreground, var(--jp-content-font-color1, white)));\n",
       "    --sklearn-color-background: var(--sg-background-color, var(--theme-background, var(--jp-layout-color0, #111)));\n",
       "    --sklearn-color-border-box: var(--sg-text-color, var(--theme-code-foreground, var(--jp-content-font-color1, white)));\n",
       "    --sklearn-color-icon: #878787;\n",
       "  }\n",
       "}\n",
       "\n",
       "#sk-container-id-4 {\n",
       "  color: var(--sklearn-color-text);\n",
       "}\n",
       "\n",
       "#sk-container-id-4 pre {\n",
       "  padding: 0;\n",
       "}\n",
       "\n",
       "#sk-container-id-4 input.sk-hidden--visually {\n",
       "  border: 0;\n",
       "  clip: rect(1px 1px 1px 1px);\n",
       "  clip: rect(1px, 1px, 1px, 1px);\n",
       "  height: 1px;\n",
       "  margin: -1px;\n",
       "  overflow: hidden;\n",
       "  padding: 0;\n",
       "  position: absolute;\n",
       "  width: 1px;\n",
       "}\n",
       "\n",
       "#sk-container-id-4 div.sk-dashed-wrapped {\n",
       "  border: 1px dashed var(--sklearn-color-line);\n",
       "  margin: 0 0.4em 0.5em 0.4em;\n",
       "  box-sizing: border-box;\n",
       "  padding-bottom: 0.4em;\n",
       "  background-color: var(--sklearn-color-background);\n",
       "}\n",
       "\n",
       "#sk-container-id-4 div.sk-container {\n",
       "  /* jupyter's `normalize.less` sets `[hidden] { display: none; }`\n",
       "     but bootstrap.min.css set `[hidden] { display: none !important; }`\n",
       "     so we also need the `!important` here to be able to override the\n",
       "     default hidden behavior on the sphinx rendered scikit-learn.org.\n",
       "     See: https://github.com/scikit-learn/scikit-learn/issues/21755 */\n",
       "  display: inline-block !important;\n",
       "  position: relative;\n",
       "}\n",
       "\n",
       "#sk-container-id-4 div.sk-text-repr-fallback {\n",
       "  display: none;\n",
       "}\n",
       "\n",
       "div.sk-parallel-item,\n",
       "div.sk-serial,\n",
       "div.sk-item {\n",
       "  /* draw centered vertical line to link estimators */\n",
       "  background-image: linear-gradient(var(--sklearn-color-text-on-default-background), var(--sklearn-color-text-on-default-background));\n",
       "  background-size: 2px 100%;\n",
       "  background-repeat: no-repeat;\n",
       "  background-position: center center;\n",
       "}\n",
       "\n",
       "/* Parallel-specific style estimator block */\n",
       "\n",
       "#sk-container-id-4 div.sk-parallel-item::after {\n",
       "  content: \"\";\n",
       "  width: 100%;\n",
       "  border-bottom: 2px solid var(--sklearn-color-text-on-default-background);\n",
       "  flex-grow: 1;\n",
       "}\n",
       "\n",
       "#sk-container-id-4 div.sk-parallel {\n",
       "  display: flex;\n",
       "  align-items: stretch;\n",
       "  justify-content: center;\n",
       "  background-color: var(--sklearn-color-background);\n",
       "  position: relative;\n",
       "}\n",
       "\n",
       "#sk-container-id-4 div.sk-parallel-item {\n",
       "  display: flex;\n",
       "  flex-direction: column;\n",
       "}\n",
       "\n",
       "#sk-container-id-4 div.sk-parallel-item:first-child::after {\n",
       "  align-self: flex-end;\n",
       "  width: 50%;\n",
       "}\n",
       "\n",
       "#sk-container-id-4 div.sk-parallel-item:last-child::after {\n",
       "  align-self: flex-start;\n",
       "  width: 50%;\n",
       "}\n",
       "\n",
       "#sk-container-id-4 div.sk-parallel-item:only-child::after {\n",
       "  width: 0;\n",
       "}\n",
       "\n",
       "/* Serial-specific style estimator block */\n",
       "\n",
       "#sk-container-id-4 div.sk-serial {\n",
       "  display: flex;\n",
       "  flex-direction: column;\n",
       "  align-items: center;\n",
       "  background-color: var(--sklearn-color-background);\n",
       "  padding-right: 1em;\n",
       "  padding-left: 1em;\n",
       "}\n",
       "\n",
       "\n",
       "/* Toggleable style: style used for estimator/Pipeline/ColumnTransformer box that is\n",
       "clickable and can be expanded/collapsed.\n",
       "- Pipeline and ColumnTransformer use this feature and define the default style\n",
       "- Estimators will overwrite some part of the style using the `sk-estimator` class\n",
       "*/\n",
       "\n",
       "/* Pipeline and ColumnTransformer style (default) */\n",
       "\n",
       "#sk-container-id-4 div.sk-toggleable {\n",
       "  /* Default theme specific background. It is overwritten whether we have a\n",
       "  specific estimator or a Pipeline/ColumnTransformer */\n",
       "  background-color: var(--sklearn-color-background);\n",
       "}\n",
       "\n",
       "/* Toggleable label */\n",
       "#sk-container-id-4 label.sk-toggleable__label {\n",
       "  cursor: pointer;\n",
       "  display: block;\n",
       "  width: 100%;\n",
       "  margin-bottom: 0;\n",
       "  padding: 0.5em;\n",
       "  box-sizing: border-box;\n",
       "  text-align: center;\n",
       "}\n",
       "\n",
       "#sk-container-id-4 label.sk-toggleable__label-arrow:before {\n",
       "  /* Arrow on the left of the label */\n",
       "  content: \"▸\";\n",
       "  float: left;\n",
       "  margin-right: 0.25em;\n",
       "  color: var(--sklearn-color-icon);\n",
       "}\n",
       "\n",
       "#sk-container-id-4 label.sk-toggleable__label-arrow:hover:before {\n",
       "  color: var(--sklearn-color-text);\n",
       "}\n",
       "\n",
       "/* Toggleable content - dropdown */\n",
       "\n",
       "#sk-container-id-4 div.sk-toggleable__content {\n",
       "  max-height: 0;\n",
       "  max-width: 0;\n",
       "  overflow: hidden;\n",
       "  text-align: left;\n",
       "  /* unfitted */\n",
       "  background-color: var(--sklearn-color-unfitted-level-0);\n",
       "}\n",
       "\n",
       "#sk-container-id-4 div.sk-toggleable__content.fitted {\n",
       "  /* fitted */\n",
       "  background-color: var(--sklearn-color-fitted-level-0);\n",
       "}\n",
       "\n",
       "#sk-container-id-4 div.sk-toggleable__content pre {\n",
       "  margin: 0.2em;\n",
       "  border-radius: 0.25em;\n",
       "  color: var(--sklearn-color-text);\n",
       "  /* unfitted */\n",
       "  background-color: var(--sklearn-color-unfitted-level-0);\n",
       "}\n",
       "\n",
       "#sk-container-id-4 div.sk-toggleable__content.fitted pre {\n",
       "  /* unfitted */\n",
       "  background-color: var(--sklearn-color-fitted-level-0);\n",
       "}\n",
       "\n",
       "#sk-container-id-4 input.sk-toggleable__control:checked~div.sk-toggleable__content {\n",
       "  /* Expand drop-down */\n",
       "  max-height: 200px;\n",
       "  max-width: 100%;\n",
       "  overflow: auto;\n",
       "}\n",
       "\n",
       "#sk-container-id-4 input.sk-toggleable__control:checked~label.sk-toggleable__label-arrow:before {\n",
       "  content: \"▾\";\n",
       "}\n",
       "\n",
       "/* Pipeline/ColumnTransformer-specific style */\n",
       "\n",
       "#sk-container-id-4 div.sk-label input.sk-toggleable__control:checked~label.sk-toggleable__label {\n",
       "  color: var(--sklearn-color-text);\n",
       "  background-color: var(--sklearn-color-unfitted-level-2);\n",
       "}\n",
       "\n",
       "#sk-container-id-4 div.sk-label.fitted input.sk-toggleable__control:checked~label.sk-toggleable__label {\n",
       "  background-color: var(--sklearn-color-fitted-level-2);\n",
       "}\n",
       "\n",
       "/* Estimator-specific style */\n",
       "\n",
       "/* Colorize estimator box */\n",
       "#sk-container-id-4 div.sk-estimator input.sk-toggleable__control:checked~label.sk-toggleable__label {\n",
       "  /* unfitted */\n",
       "  background-color: var(--sklearn-color-unfitted-level-2);\n",
       "}\n",
       "\n",
       "#sk-container-id-4 div.sk-estimator.fitted input.sk-toggleable__control:checked~label.sk-toggleable__label {\n",
       "  /* fitted */\n",
       "  background-color: var(--sklearn-color-fitted-level-2);\n",
       "}\n",
       "\n",
       "#sk-container-id-4 div.sk-label label.sk-toggleable__label,\n",
       "#sk-container-id-4 div.sk-label label {\n",
       "  /* The background is the default theme color */\n",
       "  color: var(--sklearn-color-text-on-default-background);\n",
       "}\n",
       "\n",
       "/* On hover, darken the color of the background */\n",
       "#sk-container-id-4 div.sk-label:hover label.sk-toggleable__label {\n",
       "  color: var(--sklearn-color-text);\n",
       "  background-color: var(--sklearn-color-unfitted-level-2);\n",
       "}\n",
       "\n",
       "/* Label box, darken color on hover, fitted */\n",
       "#sk-container-id-4 div.sk-label.fitted:hover label.sk-toggleable__label.fitted {\n",
       "  color: var(--sklearn-color-text);\n",
       "  background-color: var(--sklearn-color-fitted-level-2);\n",
       "}\n",
       "\n",
       "/* Estimator label */\n",
       "\n",
       "#sk-container-id-4 div.sk-label label {\n",
       "  font-family: monospace;\n",
       "  font-weight: bold;\n",
       "  display: inline-block;\n",
       "  line-height: 1.2em;\n",
       "}\n",
       "\n",
       "#sk-container-id-4 div.sk-label-container {\n",
       "  text-align: center;\n",
       "}\n",
       "\n",
       "/* Estimator-specific */\n",
       "#sk-container-id-4 div.sk-estimator {\n",
       "  font-family: monospace;\n",
       "  border: 1px dotted var(--sklearn-color-border-box);\n",
       "  border-radius: 0.25em;\n",
       "  box-sizing: border-box;\n",
       "  margin-bottom: 0.5em;\n",
       "  /* unfitted */\n",
       "  background-color: var(--sklearn-color-unfitted-level-0);\n",
       "}\n",
       "\n",
       "#sk-container-id-4 div.sk-estimator.fitted {\n",
       "  /* fitted */\n",
       "  background-color: var(--sklearn-color-fitted-level-0);\n",
       "}\n",
       "\n",
       "/* on hover */\n",
       "#sk-container-id-4 div.sk-estimator:hover {\n",
       "  /* unfitted */\n",
       "  background-color: var(--sklearn-color-unfitted-level-2);\n",
       "}\n",
       "\n",
       "#sk-container-id-4 div.sk-estimator.fitted:hover {\n",
       "  /* fitted */\n",
       "  background-color: var(--sklearn-color-fitted-level-2);\n",
       "}\n",
       "\n",
       "/* Specification for estimator info (e.g. \"i\" and \"?\") */\n",
       "\n",
       "/* Common style for \"i\" and \"?\" */\n",
       "\n",
       ".sk-estimator-doc-link,\n",
       "a:link.sk-estimator-doc-link,\n",
       "a:visited.sk-estimator-doc-link {\n",
       "  float: right;\n",
       "  font-size: smaller;\n",
       "  line-height: 1em;\n",
       "  font-family: monospace;\n",
       "  background-color: var(--sklearn-color-background);\n",
       "  border-radius: 1em;\n",
       "  height: 1em;\n",
       "  width: 1em;\n",
       "  text-decoration: none !important;\n",
       "  margin-left: 1ex;\n",
       "  /* unfitted */\n",
       "  border: var(--sklearn-color-unfitted-level-1) 1pt solid;\n",
       "  color: var(--sklearn-color-unfitted-level-1);\n",
       "}\n",
       "\n",
       ".sk-estimator-doc-link.fitted,\n",
       "a:link.sk-estimator-doc-link.fitted,\n",
       "a:visited.sk-estimator-doc-link.fitted {\n",
       "  /* fitted */\n",
       "  border: var(--sklearn-color-fitted-level-1) 1pt solid;\n",
       "  color: var(--sklearn-color-fitted-level-1);\n",
       "}\n",
       "\n",
       "/* On hover */\n",
       "div.sk-estimator:hover .sk-estimator-doc-link:hover,\n",
       ".sk-estimator-doc-link:hover,\n",
       "div.sk-label-container:hover .sk-estimator-doc-link:hover,\n",
       ".sk-estimator-doc-link:hover {\n",
       "  /* unfitted */\n",
       "  background-color: var(--sklearn-color-unfitted-level-3);\n",
       "  color: var(--sklearn-color-background);\n",
       "  text-decoration: none;\n",
       "}\n",
       "\n",
       "div.sk-estimator.fitted:hover .sk-estimator-doc-link.fitted:hover,\n",
       ".sk-estimator-doc-link.fitted:hover,\n",
       "div.sk-label-container:hover .sk-estimator-doc-link.fitted:hover,\n",
       ".sk-estimator-doc-link.fitted:hover {\n",
       "  /* fitted */\n",
       "  background-color: var(--sklearn-color-fitted-level-3);\n",
       "  color: var(--sklearn-color-background);\n",
       "  text-decoration: none;\n",
       "}\n",
       "\n",
       "/* Span, style for the box shown on hovering the info icon */\n",
       ".sk-estimator-doc-link span {\n",
       "  display: none;\n",
       "  z-index: 9999;\n",
       "  position: relative;\n",
       "  font-weight: normal;\n",
       "  right: .2ex;\n",
       "  padding: .5ex;\n",
       "  margin: .5ex;\n",
       "  width: min-content;\n",
       "  min-width: 20ex;\n",
       "  max-width: 50ex;\n",
       "  color: var(--sklearn-color-text);\n",
       "  box-shadow: 2pt 2pt 4pt #999;\n",
       "  /* unfitted */\n",
       "  background: var(--sklearn-color-unfitted-level-0);\n",
       "  border: .5pt solid var(--sklearn-color-unfitted-level-3);\n",
       "}\n",
       "\n",
       ".sk-estimator-doc-link.fitted span {\n",
       "  /* fitted */\n",
       "  background: var(--sklearn-color-fitted-level-0);\n",
       "  border: var(--sklearn-color-fitted-level-3);\n",
       "}\n",
       "\n",
       ".sk-estimator-doc-link:hover span {\n",
       "  display: block;\n",
       "}\n",
       "\n",
       "/* \"?\"-specific style due to the `<a>` HTML tag */\n",
       "\n",
       "#sk-container-id-4 a.estimator_doc_link {\n",
       "  float: right;\n",
       "  font-size: 1rem;\n",
       "  line-height: 1em;\n",
       "  font-family: monospace;\n",
       "  background-color: var(--sklearn-color-background);\n",
       "  border-radius: 1rem;\n",
       "  height: 1rem;\n",
       "  width: 1rem;\n",
       "  text-decoration: none;\n",
       "  /* unfitted */\n",
       "  color: var(--sklearn-color-unfitted-level-1);\n",
       "  border: var(--sklearn-color-unfitted-level-1) 1pt solid;\n",
       "}\n",
       "\n",
       "#sk-container-id-4 a.estimator_doc_link.fitted {\n",
       "  /* fitted */\n",
       "  border: var(--sklearn-color-fitted-level-1) 1pt solid;\n",
       "  color: var(--sklearn-color-fitted-level-1);\n",
       "}\n",
       "\n",
       "/* On hover */\n",
       "#sk-container-id-4 a.estimator_doc_link:hover {\n",
       "  /* unfitted */\n",
       "  background-color: var(--sklearn-color-unfitted-level-3);\n",
       "  color: var(--sklearn-color-background);\n",
       "  text-decoration: none;\n",
       "}\n",
       "\n",
       "#sk-container-id-4 a.estimator_doc_link.fitted:hover {\n",
       "  /* fitted */\n",
       "  background-color: var(--sklearn-color-fitted-level-3);\n",
       "}\n",
       "</style><div id=\"sk-container-id-4\" class=\"sk-top-container\"><div class=\"sk-text-repr-fallback\"><pre>KNeighborsClassifier(n_neighbors=10)</pre><b>In a Jupyter environment, please rerun this cell to show the HTML representation or trust the notebook. <br />On GitHub, the HTML representation is unable to render, please try loading this page with nbviewer.org.</b></div><div class=\"sk-container\" hidden><div class=\"sk-item\"><div class=\"sk-estimator fitted sk-toggleable\"><input class=\"sk-toggleable__control sk-hidden--visually\" id=\"sk-estimator-id-4\" type=\"checkbox\" checked><label for=\"sk-estimator-id-4\" class=\"sk-toggleable__label fitted sk-toggleable__label-arrow fitted\">&nbsp;&nbsp;KNeighborsClassifier<a class=\"sk-estimator-doc-link fitted\" rel=\"noreferrer\" target=\"_blank\" href=\"https://scikit-learn.org/1.4/modules/generated/sklearn.neighbors.KNeighborsClassifier.html\">?<span>Documentation for KNeighborsClassifier</span></a><span class=\"sk-estimator-doc-link fitted\">i<span>Fitted</span></span></label><div class=\"sk-toggleable__content fitted\"><pre>KNeighborsClassifier(n_neighbors=10)</pre></div> </div></div></div></div>"
      ],
      "text/plain": [
       "KNeighborsClassifier(n_neighbors=10)"
      ]
     },
     "execution_count": 198,
     "metadata": {},
     "output_type": "execute_result"
    }
   ],
   "source": [
    "# 머신러닝 모델이 규칙 찾기 완성\n",
    "knn.fit(X_train, y_train)"
   ]
  },
  {
   "cell_type": "markdown",
   "id": "3e6274fc-98a3-4a80-8e8e-12379fa03c5d",
   "metadata": {},
   "source": [
    "# 7. 평가 및 예측\n",
    "- 평가 : 머신러닝 모델이 잘 만들어졌는지 확인해 보기\n",
    "- 예측 : 설계된 규칙으로 새로운 문제의 정답 추론해보기"
   ]
  },
  {
   "cell_type": "code",
   "execution_count": 201,
   "id": "a10fce9a-f6c2-4cf1-92b4-5fd0e2b9b8a3",
   "metadata": {},
   "outputs": [
    {
     "data": {
      "text/plain": [
       "0.94"
      ]
     },
     "execution_count": 201,
     "metadata": {},
     "output_type": "execute_result"
    }
   ],
   "source": [
    "# 분류의 평가지표 : 정확도\n",
    "# 정확도 : 전체중에 맞춘 비율\n",
    "knn.score(X_test, y_test)\n",
    "# X_test를 사용해서 정답을 추론해보고 = 예측값\n",
    "# 예측값과 y_test를 비교\n",
    "# 0.9 = 예측값에서 90%가 정답이었다.앞으로 들어 올 문제중 90%는 맞출 수 있다"
   ]
  },
  {
   "cell_type": "code",
   "execution_count": null,
   "id": "b270a7f3-a5c8-41f8-8b05-3a2990bd9616",
   "metadata": {},
   "outputs": [],
   "source": []
  },
  {
   "cell_type": "code",
   "execution_count": 203,
   "id": "4336b1c2-2a82-4e85-9998-d1b967e8845e",
   "metadata": {},
   "outputs": [
    {
     "data": {
      "text/plain": [
       "0.9085714285714286"
      ]
     },
     "execution_count": 203,
     "metadata": {},
     "output_type": "execute_result"
    }
   ],
   "source": [
    "# train 데이터를 사용해서 평가하면 모델의 성능보다\n",
    "# 정확도가 높게 나옴\n",
    "knn.score(X_train, y_train)"
   ]
  },
  {
   "cell_type": "code",
   "execution_count": 176,
   "id": "a418edeb-ded9-4c36-910c-bee243d2b338",
   "metadata": {},
   "outputs": [
    {
     "data": {
      "text/plain": [
       "array(['Normal', 'Overweight'], dtype=object)"
      ]
     },
     "execution_count": 176,
     "metadata": {},
     "output_type": "execute_result"
    }
   ],
   "source": [
    "# 예측\n",
    "# 학습할때의 형식과 동일하게 값을 적어야 함!\n",
    "knn.predict(pd.DataFrame([[174,70],[180,85]],columns=['Height','Weight']))\n",
    "# knn.predict([[174,70],[180,85]])"
   ]
  },
  {
   "cell_type": "code",
   "execution_count": 178,
   "id": "eebb4cb3-b681-437c-951d-72d9477b3e3d",
   "metadata": {},
   "outputs": [
    {
     "data": {
      "text/html": [
       "<div>\n",
       "<style scoped>\n",
       "    .dataframe tbody tr th:only-of-type {\n",
       "        vertical-align: middle;\n",
       "    }\n",
       "\n",
       "    .dataframe tbody tr th {\n",
       "        vertical-align: top;\n",
       "    }\n",
       "\n",
       "    .dataframe thead th {\n",
       "        text-align: right;\n",
       "    }\n",
       "</style>\n",
       "<table border=\"1\" class=\"dataframe\">\n",
       "  <thead>\n",
       "    <tr style=\"text-align: right;\">\n",
       "      <th></th>\n",
       "      <th>Height</th>\n",
       "      <th>Weight</th>\n",
       "    </tr>\n",
       "  </thead>\n",
       "  <tbody>\n",
       "    <tr>\n",
       "      <th>0</th>\n",
       "      <td>174</td>\n",
       "      <td>96</td>\n",
       "    </tr>\n",
       "    <tr>\n",
       "      <th>1</th>\n",
       "      <td>189</td>\n",
       "      <td>87</td>\n",
       "    </tr>\n",
       "    <tr>\n",
       "      <th>2</th>\n",
       "      <td>185</td>\n",
       "      <td>110</td>\n",
       "    </tr>\n",
       "    <tr>\n",
       "      <th>3</th>\n",
       "      <td>195</td>\n",
       "      <td>104</td>\n",
       "    </tr>\n",
       "    <tr>\n",
       "      <th>4</th>\n",
       "      <td>149</td>\n",
       "      <td>61</td>\n",
       "    </tr>\n",
       "  </tbody>\n",
       "</table>\n",
       "</div>"
      ],
      "text/plain": [
       "   Height  Weight\n",
       "0     174      96\n",
       "1     189      87\n",
       "2     185     110\n",
       "3     195     104\n",
       "4     149      61"
      ]
     },
     "execution_count": 178,
     "metadata": {},
     "output_type": "execute_result"
    }
   ],
   "source": [
    "X_train.head()"
   ]
  },
  {
   "cell_type": "code",
   "execution_count": null,
   "id": "9cd71fc2-7a31-465e-be51-2d4db1385009",
   "metadata": {},
   "outputs": [],
   "source": []
  },
  {
   "cell_type": "code",
   "execution_count": null,
   "id": "d2b8944e-687c-4758-a86e-6838ae064f3b",
   "metadata": {},
   "outputs": [],
   "source": []
  },
  {
   "cell_type": "code",
   "execution_count": null,
   "id": "a2afc077-ac8f-4fd9-9080-f710336a3f1b",
   "metadata": {},
   "outputs": [],
   "source": []
  },
  {
   "cell_type": "code",
   "execution_count": null,
   "id": "a3ea383e-382f-4db3-839d-922224f53942",
   "metadata": {},
   "outputs": [],
   "source": []
  },
  {
   "cell_type": "code",
   "execution_count": null,
   "id": "a61d1c5f-f9e3-4d9b-9f48-ea0d12ce5de1",
   "metadata": {},
   "outputs": [],
   "source": []
  },
  {
   "cell_type": "code",
   "execution_count": null,
   "id": "e409e1c0-b3e4-436f-bf0b-05a435617a8b",
   "metadata": {},
   "outputs": [],
   "source": []
  },
  {
   "cell_type": "code",
   "execution_count": null,
   "id": "80900839-5ede-43c5-aaeb-cad0fc3e1cd1",
   "metadata": {},
   "outputs": [],
   "source": []
  },
  {
   "cell_type": "code",
   "execution_count": null,
   "id": "f9d0e630-3cd5-4f4e-8c0f-97eb7c69f958",
   "metadata": {},
   "outputs": [],
   "source": []
  }
 ],
 "metadata": {
  "kernelspec": {
   "display_name": "Python 3 (ipykernel)",
   "language": "python",
   "name": "python3"
  },
  "language_info": {
   "codemirror_mode": {
    "name": "ipython",
    "version": 3
   },
   "file_extension": ".py",
   "mimetype": "text/x-python",
   "name": "python",
   "nbconvert_exporter": "python",
   "pygments_lexer": "ipython3",
   "version": "3.12.4"
  }
 },
 "nbformat": 4,
 "nbformat_minor": 5
}
